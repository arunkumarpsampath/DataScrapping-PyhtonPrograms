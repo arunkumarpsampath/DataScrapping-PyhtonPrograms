{
 "cells": [
  {
   "cell_type": "code",
   "execution_count": 1,
   "metadata": {},
   "outputs": [],
   "source": [
    "from selenium import webdriver\n",
    "browser = webdriver.Chrome('chromedriver.exe')"
   ]
  },
  {
   "cell_type": "code",
   "execution_count": 2,
   "metadata": {},
   "outputs": [],
   "source": [
    "import pandas as pd"
   ]
  },
  {
   "cell_type": "code",
   "execution_count": 3,
   "metadata": {},
   "outputs": [],
   "source": [
    "def find(tag,selector):\n",
    "    try:\n",
    "        return tag.find_element_by_css_selector(selector).text\n",
    "    except:\n",
    "        return \"\""
   ]
  },
  {
   "cell_type": "code",
   "execution_count": 4,
   "metadata": {
    "scrolled": true
   },
   "outputs": [
    {
     "data": {
      "text/html": [
       "<div>\n",
       "<style scoped>\n",
       "    .dataframe tbody tr th:only-of-type {\n",
       "        vertical-align: middle;\n",
       "    }\n",
       "\n",
       "    .dataframe tbody tr th {\n",
       "        vertical-align: top;\n",
       "    }\n",
       "\n",
       "    .dataframe thead th {\n",
       "        text-align: right;\n",
       "    }\n",
       "</style>\n",
       "<table border=\"1\" class=\"dataframe\">\n",
       "  <thead>\n",
       "    <tr style=\"text-align: right;\">\n",
       "      <th></th>\n",
       "      <th>rating value</th>\n",
       "      <th>review date</th>\n",
       "      <th>review text</th>\n",
       "      <th>upvotes</th>\n",
       "      <th>user name</th>\n",
       "    </tr>\n",
       "  </thead>\n",
       "  <tbody>\n",
       "    <tr>\n",
       "      <th>0</th>\n",
       "      <td>0</td>\n",
       "      <td>14 Mar 2019</td>\n",
       "      <td>Anonymous, 11 Mar 2019\\nShould i buy this phon...</td>\n",
       "      <td></td>\n",
       "      <td>Anonymous</td>\n",
       "    </tr>\n",
       "    <tr>\n",
       "      <th>1</th>\n",
       "      <td>0</td>\n",
       "      <td>11 Mar 2019</td>\n",
       "      <td>Should i buy this phone for now ?its price aro...</td>\n",
       "      <td></td>\n",
       "      <td>Anonymous</td>\n",
       "    </tr>\n",
       "    <tr>\n",
       "      <th>2</th>\n",
       "      <td>0</td>\n",
       "      <td>28 Feb 2019</td>\n",
       "      <td>After my Samsung galaxy s4 finally died this J...</td>\n",
       "      <td></td>\n",
       "      <td>Mike Ross</td>\n",
       "    </tr>\n",
       "    <tr>\n",
       "      <th>3</th>\n",
       "      <td>0</td>\n",
       "      <td>23 Feb 2019</td>\n",
       "      <td>Thw worst phone i ever seen in my life</td>\n",
       "      <td></td>\n",
       "      <td>Mammu</td>\n",
       "    </tr>\n",
       "    <tr>\n",
       "      <th>4</th>\n",
       "      <td>0</td>\n",
       "      <td>22 Feb 2019</td>\n",
       "      <td>Anonymous, 21 Feb 2019\\nLast year a friend of ...</td>\n",
       "      <td>1</td>\n",
       "      <td></td>\n",
       "    </tr>\n",
       "  </tbody>\n",
       "</table>\n",
       "</div>"
      ],
      "text/plain": [
       "  rating value  review date  \\\n",
       "0            0  14 Mar 2019   \n",
       "1            0  11 Mar 2019   \n",
       "2            0  28 Feb 2019   \n",
       "3            0  23 Feb 2019   \n",
       "4            0  22 Feb 2019   \n",
       "\n",
       "                                         review text upvotes  user name  \n",
       "0  Anonymous, 11 Mar 2019\\nShould i buy this phon...          Anonymous  \n",
       "1  Should i buy this phone for now ?its price aro...          Anonymous  \n",
       "2  After my Samsung galaxy s4 finally died this J...          Mike Ross  \n",
       "3             Thw worst phone i ever seen in my life              Mammu  \n",
       "4  Anonymous, 21 Feb 2019\\nLast year a friend of ...       1             "
      ]
     },
     "execution_count": 4,
     "metadata": {},
     "output_type": "execute_result"
    }
   ],
   "source": [
    "df_paras = pd.DataFrame()\n",
    "num = 1\n",
    "while(1):\n",
    "    url = 'https://www.gsmarena.com/apple_iphone_6-reviews-6378p'+str(num)+'.php'\n",
    "    browser.get(url)\n",
    "    parent_tag = browser.find_element_by_css_selector('div.jobs-search-content__results-scrollable')\n",
    "    childtags = parent_tag.find_elements_by_css_selector('div.user-thread')\n",
    "\n",
    "    for tag in childtags:\n",
    "        cur_row = {\n",
    "            \"user name\" : find(tag,'li.uname2'),\n",
    "            \"review date\": find(tag,'li.upost'),\n",
    "            \"review text\": find(tag,'p.uopin'),\n",
    "            \"upvotes\": find(tag,'span.upvote-count'),\n",
    "            \"rating value\" : find(tag,'span.thumbs-score')\n",
    "        }\n",
    "        df_paras = df_paras.append(cur_row, ignore_index=True)\n",
    "    try:\n",
    "        if num < 516:\n",
    "            num =num +1\n",
    "        else:\n",
    "            break;\n",
    "    except:\n",
    "        break;\n",
    "\n",
    "df_paras.head()"
   ]
  }
 ],
 "metadata": {
  "kernelspec": {
   "display_name": "Python 3",
   "language": "python",
   "name": "python3"
  },
  "language_info": {
   "codemirror_mode": {
    "name": "ipython",
    "version": 3
   },
   "file_extension": ".py",
   "mimetype": "text/x-python",
   "name": "python",
   "nbconvert_exporter": "python",
   "pygments_lexer": "ipython3",
   "version": "3.7.1"
  }
 },
 "nbformat": 4,
 "nbformat_minor": 2
}
