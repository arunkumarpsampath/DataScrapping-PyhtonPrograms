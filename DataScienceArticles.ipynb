{
 "cells": [
  {
   "cell_type": "code",
   "execution_count": 1,
   "metadata": {},
   "outputs": [],
   "source": [
    "import pandas as pd,numpy as np\n",
    "from selenium import webdriver\n",
    "browser = webdriver.Chrome('chromedriver.exe')"
   ]
  },
  {
   "cell_type": "code",
   "execution_count": 21,
   "metadata": {},
   "outputs": [],
   "source": [
    "browser.get('https://medium.com/search?q=data%20science')"
   ]
  },
  {
   "cell_type": "code",
   "execution_count": 22,
   "metadata": {},
   "outputs": [
    {
     "data": {
      "text/plain": [
       "<selenium.webdriver.remote.webelement.WebElement (session=\"f06f915c50c0c9ddd83a744059b73c34\", element=\"0.44559293201103833-1\")>"
      ]
     },
     "execution_count": 22,
     "metadata": {},
     "output_type": "execute_result"
    }
   ],
   "source": [
    "parent = browser.find_element_by_css_selector('div.js-postList')\n",
    "parent"
   ]
  },
  {
   "cell_type": "code",
   "execution_count": 15,
   "metadata": {},
   "outputs": [],
   "source": [
    "def click(tag):\n",
    "    tag.get_attribute('href').click()\n",
    "    \n",
    "    return"
   ]
  },
  {
   "cell_type": "code",
   "execution_count": 25,
   "metadata": {},
   "outputs": [
    {
     "data": {
      "text/html": [
       "<div>\n",
       "<style scoped>\n",
       "    .dataframe tbody tr th:only-of-type {\n",
       "        vertical-align: middle;\n",
       "    }\n",
       "\n",
       "    .dataframe tbody tr th {\n",
       "        vertical-align: top;\n",
       "    }\n",
       "\n",
       "    .dataframe thead th {\n",
       "        text-align: right;\n",
       "    }\n",
       "</style>\n",
       "<table border=\"1\" class=\"dataframe\">\n",
       "  <thead>\n",
       "    <tr style=\"text-align: right;\">\n",
       "      <th></th>\n",
       "      <th>Article author</th>\n",
       "      <th>Article complete content</th>\n",
       "      <th>Article name</th>\n",
       "    </tr>\n",
       "  </thead>\n",
       "  <tbody>\n",
       "    <tr>\n",
       "      <th>0</th>\n",
       "      <td>Harrison Jansma</td>\n",
       "      <td>https://towardsdatascience.com/how-to-learn-da...</td>\n",
       "      <td>How To Learn Data Science If You’re Broke</td>\n",
       "    </tr>\n",
       "    <tr>\n",
       "      <th>1</th>\n",
       "      <td>David Venturi</td>\n",
       "      <td>https://medium.freecodecamp.org/if-you-want-to...</td>\n",
       "      <td>If you want to learn Data Science, start with ...</td>\n",
       "    </tr>\n",
       "    <tr>\n",
       "      <th>2</th>\n",
       "      <td>David Venturi</td>\n",
       "      <td>https://medium.freecodecamp.org/i-ranked-all-t...</td>\n",
       "      <td>I ranked every Intro to Data Science course on...</td>\n",
       "    </tr>\n",
       "    <tr>\n",
       "      <th>3</th>\n",
       "      <td>George Seif</td>\n",
       "      <td>https://towardsdatascience.com/data-science-an...</td>\n",
       "      <td>Data Science and Machine Learning Interview Qu...</td>\n",
       "    </tr>\n",
       "    <tr>\n",
       "      <th>4</th>\n",
       "      <td>Michael Galarnyk</td>\n",
       "      <td>https://towardsdatascience.com/how-to-build-a-...</td>\n",
       "      <td>How to Build a Data Science Portfolio</td>\n",
       "    </tr>\n",
       "  </tbody>\n",
       "</table>\n",
       "</div>"
      ],
      "text/plain": [
       "     Article author                           Article complete content  \\\n",
       "0   Harrison Jansma  https://towardsdatascience.com/how-to-learn-da...   \n",
       "1     David Venturi  https://medium.freecodecamp.org/if-you-want-to...   \n",
       "2     David Venturi  https://medium.freecodecamp.org/i-ranked-all-t...   \n",
       "3       George Seif  https://towardsdatascience.com/data-science-an...   \n",
       "4  Michael Galarnyk  https://towardsdatascience.com/how-to-build-a-...   \n",
       "\n",
       "                                        Article name  \n",
       "0          How To Learn Data Science If You’re Broke  \n",
       "1  If you want to learn Data Science, start with ...  \n",
       "2  I ranked every Intro to Data Science course on...  \n",
       "3  Data Science and Machine Learning Interview Qu...  \n",
       "4              How to Build a Data Science Portfolio  "
      ]
     },
     "execution_count": 25,
     "metadata": {},
     "output_type": "execute_result"
    }
   ],
   "source": [
    "child = parent.find_elements_by_css_selector('div.js-block')\n",
    "article = pd.DataFrame()\n",
    "for tag in child:\n",
    "    cur_row = {\n",
    "        'Article name' : tag.find_element_by_css_selector('h3.graf--title').text,\n",
    "        'Article author' : tag.find_element_by_css_selector('a.ds-link').text,\n",
    "        'Article complete content' : tag.find_element_by_css_selector('a.button').get_attribute('href')\n",
    "    }\n",
    "    article = article.append(cur_row,ignore_index=True)\n",
    "article.head()"
   ]
  },
  {
   "cell_type": "code",
   "execution_count": 33,
   "metadata": {},
   "outputs": [],
   "source": [
    "namelist = []\n",
    "for link in article.iterrows():\n",
    "    browser.get(link[1]['Article complete content'])\n",
    "    ptags = browser.find_elements_by_css_selector('p')\n",
    "    text = ''\n",
    "    for tag in ptags:\n",
    "        text += ' ' + tag.text\n",
    "    filename =link[1]['Article author'] + '.txt'\n",
    "    if filename in namelist:\n",
    "        filename = link[1]['Article author'] + str(len(link[1]['Article name'])) + '.txt'\n",
    "    file = open(filename,'w',encoding='utf-8')\n",
    "    file.write(text)\n",
    "    namelist.append(filename)\n",
    "    "
   ]
  }
 ],
 "metadata": {
  "kernelspec": {
   "display_name": "Python 3",
   "language": "python",
   "name": "python3"
  },
  "language_info": {
   "codemirror_mode": {
    "name": "ipython",
    "version": 3
   },
   "file_extension": ".py",
   "mimetype": "text/x-python",
   "name": "python",
   "nbconvert_exporter": "python",
   "pygments_lexer": "ipython3",
   "version": "3.7.1"
  }
 },
 "nbformat": 4,
 "nbformat_minor": 2
}
