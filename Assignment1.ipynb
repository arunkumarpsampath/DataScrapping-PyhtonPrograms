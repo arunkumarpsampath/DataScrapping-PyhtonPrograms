{
 "cells": [
  {
   "cell_type": "code",
   "execution_count": 8,
   "metadata": {},
   "outputs": [],
   "source": [
    "from selenium import webdriver\n",
    "browser = webdriver.Chrome('chromedriver.exe')"
   ]
  },
  {
   "cell_type": "code",
   "execution_count": 6,
   "metadata": {},
   "outputs": [],
   "source": [
    "import pandas as pd"
   ]
  },
  {
   "cell_type": "markdown",
   "metadata": {},
   "source": [
    "# Scrape hotel details from Bangalore using OYO Hotels"
   ]
  },
  {
   "cell_type": "code",
   "execution_count": 24,
   "metadata": {},
   "outputs": [
    {
     "data": {
      "text/html": [
       "<div>\n",
       "<style scoped>\n",
       "    .dataframe tbody tr th:only-of-type {\n",
       "        vertical-align: middle;\n",
       "    }\n",
       "\n",
       "    .dataframe tbody tr th {\n",
       "        vertical-align: top;\n",
       "    }\n",
       "\n",
       "    .dataframe thead th {\n",
       "        text-align: right;\n",
       "    }\n",
       "</style>\n",
       "<table border=\"1\" class=\"dataframe\">\n",
       "  <thead>\n",
       "    <tr style=\"text-align: right;\">\n",
       "      <th></th>\n",
       "      <th>Actual Price</th>\n",
       "      <th>Discounted Price</th>\n",
       "      <th>Hotel rating</th>\n",
       "      <th>HotelName</th>\n",
       "      <th>Location</th>\n",
       "      <th>Source of the image</th>\n",
       "      <th>Total number of ratings</th>\n",
       "    </tr>\n",
       "  </thead>\n",
       "  <tbody>\n",
       "    <tr>\n",
       "      <th>0</th>\n",
       "      <td>₹ 3032</td>\n",
       "      <td>₹ 726</td>\n",
       "      <td>4.6</td>\n",
       "      <td>Edition O 30089 1st Cross Road Cottonpet</td>\n",
       "      <td>15, 1st Cross Road K.V Lane, Cottonpete Cross,...</td>\n",
       "      <td>https://images.oyoroomscdn.com/uploads/hotel_i...</td>\n",
       "      <td>57</td>\n",
       "    </tr>\n",
       "    <tr>\n",
       "      <th>1</th>\n",
       "      <td>None</td>\n",
       "      <td>None</td>\n",
       "      <td>None</td>\n",
       "      <td>None</td>\n",
       "      <td>None</td>\n",
       "      <td>None</td>\n",
       "      <td>None</td>\n",
       "    </tr>\n",
       "    <tr>\n",
       "      <th>2</th>\n",
       "      <td>₹ 2242</td>\n",
       "      <td>₹ 1121</td>\n",
       "      <td>None</td>\n",
       "      <td>Capital O 36472 Hotel Raj Vista Suites</td>\n",
       "      <td>No.4 &amp; 4A, Hesarghatta Main Rd, Besides NRR Ho...</td>\n",
       "      <td>https://www.oyorooms.com/images/transparent-c4...</td>\n",
       "      <td>None</td>\n",
       "    </tr>\n",
       "    <tr>\n",
       "      <th>3</th>\n",
       "      <td>₹ 2220</td>\n",
       "      <td>₹ 999</td>\n",
       "      <td>4.8</td>\n",
       "      <td>OYO 29620 New Champion Residency</td>\n",
       "      <td>No 390, Old Madras Road, ILD Extension, 4th Ma...</td>\n",
       "      <td>https://www.oyorooms.com/images/transparent-c4...</td>\n",
       "      <td>34</td>\n",
       "    </tr>\n",
       "    <tr>\n",
       "      <th>4</th>\n",
       "      <td>₹ 2640</td>\n",
       "      <td>₹ 964</td>\n",
       "      <td>3.8</td>\n",
       "      <td>Capital O 1309 Anandsagar Inn</td>\n",
       "      <td>S.C. Road, Netkalappa Circle Basavanagudi, Ban...</td>\n",
       "      <td>https://www.oyorooms.com/images/transparent-c4...</td>\n",
       "      <td>28</td>\n",
       "    </tr>\n",
       "  </tbody>\n",
       "</table>\n",
       "</div>"
      ],
      "text/plain": [
       "  Actual Price Discounted Price Hotel rating  \\\n",
       "0       ₹ 3032            ₹ 726          4.6   \n",
       "1         None             None         None   \n",
       "2       ₹ 2242           ₹ 1121         None   \n",
       "3       ₹ 2220            ₹ 999          4.8   \n",
       "4       ₹ 2640            ₹ 964          3.8   \n",
       "\n",
       "                                  HotelName  \\\n",
       "0  Edition O 30089 1st Cross Road Cottonpet   \n",
       "1                                      None   \n",
       "2    Capital O 36472 Hotel Raj Vista Suites   \n",
       "3          OYO 29620 New Champion Residency   \n",
       "4             Capital O 1309 Anandsagar Inn   \n",
       "\n",
       "                                            Location  \\\n",
       "0  15, 1st Cross Road K.V Lane, Cottonpete Cross,...   \n",
       "1                                               None   \n",
       "2  No.4 & 4A, Hesarghatta Main Rd, Besides NRR Ho...   \n",
       "3  No 390, Old Madras Road, ILD Extension, 4th Ma...   \n",
       "4  S.C. Road, Netkalappa Circle Basavanagudi, Ban...   \n",
       "\n",
       "                                 Source of the image Total number of ratings  \n",
       "0  https://images.oyoroomscdn.com/uploads/hotel_i...                      57  \n",
       "1                                               None                    None  \n",
       "2  https://www.oyorooms.com/images/transparent-c4...                    None  \n",
       "3  https://www.oyorooms.com/images/transparent-c4...                      34  \n",
       "4  https://www.oyorooms.com/images/transparent-c4...                      28  "
      ]
     },
     "execution_count": 24,
     "metadata": {},
     "output_type": "execute_result"
    }
   ],
   "source": [
    "import time,re\n",
    "def find(parent,tag,search='text'):\n",
    "    try:\n",
    "        if search == 'text':\n",
    "            return parent.find_element_by_css_selector(tag).text\n",
    "        elif search == 'price':\n",
    "            try:\n",
    "                return re.findall(\"(^. .{3}) .*\",parent.find_element_by_css_selector(tag).text)[0]\n",
    "            except:\n",
    "                return re.findall(\"(^. .{4}) .*\",parent.find_element_by_css_selector(tag).text)[0]\n",
    "        elif search == 'aprice':\n",
    "            try: \n",
    "                return re.findall(\"^. .{3} (. .{4}) .*\",parent.find_element_by_css_selector(tag).text)[0]\n",
    "            except:\n",
    "                return re.findall(\"^. .{4} (. .{4}) .*\",parent.find_element_by_css_selector(tag).text)[0]\n",
    "        elif search == 'rating':\n",
    "            return parent.find_element_by_css_selector(tag).text.split(' ')[0]\n",
    "        else:\n",
    "            return parent.find_element_by_css_selector(tag).get_attribute(search)\n",
    "    except:\n",
    "        return None\n",
    "df = pd.DataFrame()\n",
    "browser.get(\"https://www.oyorooms.com/oyos-in-bangalore\")\n",
    "while True:\n",
    "    time.sleep(2)\n",
    "    hotelstag = browser.find_elements_by_css_selector('div.newHotelCard')\n",
    "    for hotel in hotelstag:\n",
    "        cur_row = {'HotelName': find(hotel,'span.newHotelCard__hotelName'),\n",
    "                'Location':find(hotel,'span.newHotelCard__hotelAddress'),\n",
    "                'Actual Price':find(hotel,'div.newHotelCard__pricing','aprice'),\n",
    "                'Discounted Price':find(hotel,'div.newHotelCard__pricing','price'),\n",
    "                'Hotel rating':find(hotel,'span.hotelRating__value'),\n",
    "                'Total number of ratings':find(hotel,'div.hotelRating__count','rating'),\n",
    "                'Source of the image':find(hotel,'img.carousal__image','src')\n",
    "              }\n",
    "        \n",
    "        df = df.append(cur_row,ignore_index=True)\n",
    "    break\n",
    "    #To press next button\n",
    "    try:\n",
    "        atag = browser.find_elements_by_css_selector('a.disabled')[-1]\n",
    "        atag.get_attribute('div.btn-next')\n",
    "        atag.click()\n",
    "    except Exception as e:\n",
    "        print(e)\n",
    "        break\n",
    "df.head()"
   ]
  },
  {
   "cell_type": "markdown",
   "metadata": {},
   "source": [
    "# Scrape data science articles from Medium Portal"
   ]
  },
  {
   "cell_type": "code",
   "execution_count": 25,
   "metadata": {},
   "outputs": [
    {
     "data": {
      "text/plain": [
       "<selenium.webdriver.remote.webelement.WebElement (session=\"78250c05b40f5f03af45b14346aea366\", element=\"0.8229243904930839-1\")>"
      ]
     },
     "execution_count": 25,
     "metadata": {},
     "output_type": "execute_result"
    }
   ],
   "source": [
    "browser.get('https://medium.com/search?q=data%20science')\n",
    "parent = browser.find_element_by_css_selector('div.js-postList')\n",
    "parent"
   ]
  },
  {
   "cell_type": "code",
   "execution_count": 26,
   "metadata": {},
   "outputs": [
    {
     "data": {
      "text/html": [
       "<div>\n",
       "<style scoped>\n",
       "    .dataframe tbody tr th:only-of-type {\n",
       "        vertical-align: middle;\n",
       "    }\n",
       "\n",
       "    .dataframe tbody tr th {\n",
       "        vertical-align: top;\n",
       "    }\n",
       "\n",
       "    .dataframe thead th {\n",
       "        text-align: right;\n",
       "    }\n",
       "</style>\n",
       "<table border=\"1\" class=\"dataframe\">\n",
       "  <thead>\n",
       "    <tr style=\"text-align: right;\">\n",
       "      <th></th>\n",
       "      <th>Article title</th>\n",
       "      <th>Author</th>\n",
       "      <th>Date of the articles</th>\n",
       "      <th>URL of the article</th>\n",
       "    </tr>\n",
       "  </thead>\n",
       "  <tbody>\n",
       "    <tr>\n",
       "      <th>0</th>\n",
       "      <td>How To Learn Data Science If You’re Broke</td>\n",
       "      <td>Harrison Jansma</td>\n",
       "      <td>Sep 15, 2018</td>\n",
       "      <td>https://towardsdatascience.com/how-to-learn-da...</td>\n",
       "    </tr>\n",
       "    <tr>\n",
       "      <th>1</th>\n",
       "      <td>If you want to learn Data Science, start with ...</td>\n",
       "      <td>David Venturi</td>\n",
       "      <td>Sep 26, 2016</td>\n",
       "      <td>https://medium.freecodecamp.org/if-you-want-to...</td>\n",
       "    </tr>\n",
       "    <tr>\n",
       "      <th>2</th>\n",
       "      <td>I ranked every Intro to Data Science course on...</td>\n",
       "      <td>David Venturi</td>\n",
       "      <td>Jan 25, 2017</td>\n",
       "      <td>https://medium.freecodecamp.org/i-ranked-all-t...</td>\n",
       "    </tr>\n",
       "    <tr>\n",
       "      <th>3</th>\n",
       "      <td>Data Science and Machine Learning Interview Qu...</td>\n",
       "      <td>George Seif</td>\n",
       "      <td>Apr 25, 2018</td>\n",
       "      <td>https://towardsdatascience.com/data-science-an...</td>\n",
       "    </tr>\n",
       "    <tr>\n",
       "      <th>4</th>\n",
       "      <td>How to Build a Data Science Portfolio</td>\n",
       "      <td>Michael Galarnyk</td>\n",
       "      <td>Jul 8, 2018</td>\n",
       "      <td>https://towardsdatascience.com/how-to-build-a-...</td>\n",
       "    </tr>\n",
       "  </tbody>\n",
       "</table>\n",
       "</div>"
      ],
      "text/plain": [
       "                                       Article title            Author  \\\n",
       "0          How To Learn Data Science If You’re Broke   Harrison Jansma   \n",
       "1  If you want to learn Data Science, start with ...     David Venturi   \n",
       "2  I ranked every Intro to Data Science course on...     David Venturi   \n",
       "3  Data Science and Machine Learning Interview Qu...       George Seif   \n",
       "4              How to Build a Data Science Portfolio  Michael Galarnyk   \n",
       "\n",
       "  Date of the articles                                 URL of the article  \n",
       "0         Sep 15, 2018  https://towardsdatascience.com/how-to-learn-da...  \n",
       "1         Sep 26, 2016  https://medium.freecodecamp.org/if-you-want-to...  \n",
       "2         Jan 25, 2017  https://medium.freecodecamp.org/i-ranked-all-t...  \n",
       "3         Apr 25, 2018  https://towardsdatascience.com/data-science-an...  \n",
       "4          Jul 8, 2018  https://towardsdatascience.com/how-to-build-a-...  "
      ]
     },
     "execution_count": 26,
     "metadata": {},
     "output_type": "execute_result"
    }
   ],
   "source": [
    "child = parent.find_elements_by_css_selector('div.js-block')\n",
    "article = pd.DataFrame()\n",
    "for tag in child:\n",
    "    cur_row = {\n",
    "        'Article title' : tag.find_element_by_css_selector('h3.graf--title').text,\n",
    "        'Author' : tag.find_element_by_css_selector('a.ds-link').text,\n",
    "        'URL of the article' : tag.find_element_by_css_selector('a.button').get_attribute('href'),\n",
    "        'Date of the articles': tag.find_element_by_css_selector('time').text\n",
    "    }\n",
    "    article = article.append(cur_row,ignore_index=True)\n",
    "article.head()"
   ]
  },
  {
   "cell_type": "code",
   "execution_count": 28,
   "metadata": {},
   "outputs": [
    {
     "name": "stdout",
     "output_type": "stream",
     "text": [
      "Text files created\n"
     ]
    }
   ],
   "source": [
    "for link in article.iterrows():\n",
    "    browser.get(link[1]['URL of the article'])\n",
    "    ptags = browser.find_elements_by_css_selector('p')\n",
    "    text = ''\n",
    "    for tag in ptags:\n",
    "        text += ' ' + tag.text\n",
    "    filename =link[1]['Author'] + '.txt'\n",
    "    file = open(filename,'w',encoding='utf-8')\n",
    "    file.write(text)\n",
    "print('Text files created')"
   ]
  }
 ],
 "metadata": {
  "kernelspec": {
   "display_name": "Python 3",
   "language": "python",
   "name": "python3"
  },
  "language_info": {
   "codemirror_mode": {
    "name": "ipython",
    "version": 3
   },
   "file_extension": ".py",
   "mimetype": "text/x-python",
   "name": "python",
   "nbconvert_exporter": "python",
   "pygments_lexer": "ipython3",
   "version": "3.7.1"
  }
 },
 "nbformat": 4,
 "nbformat_minor": 2
}
