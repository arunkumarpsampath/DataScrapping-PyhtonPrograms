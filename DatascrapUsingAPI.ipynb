{
 "cells": [
  {
   "cell_type": "code",
   "execution_count": 10,
   "metadata": {},
   "outputs": [],
   "source": [
    "import requests\n",
    "import pandas as pd"
   ]
  },
  {
   "cell_type": "markdown",
   "metadata": {},
   "source": [
    "# weather API"
   ]
  },
  {
   "cell_type": "code",
   "execution_count": 1,
   "metadata": {},
   "outputs": [],
   "source": [
    "weather_api_key = '95041eda0b6648c599383803191103'\n",
    "url= 'http://api.apixu.com/v1/current.json?key=95041eda0b6648c599383803191103&q='"
   ]
  },
  {
   "cell_type": "code",
   "execution_count": 3,
   "metadata": {},
   "outputs": [
    {
     "data": {
      "text/plain": [
       "{'location': {'name': 'Bengaluru',\n",
       "  'region': 'Karnataka',\n",
       "  'country': 'India',\n",
       "  'lat': 12.98,\n",
       "  'lon': 77.58,\n",
       "  'tz_id': 'Asia/Kolkata',\n",
       "  'localtime_epoch': 1554436745,\n",
       "  'localtime': '2019-04-05 9:29'},\n",
       " 'current': {'last_updated_epoch': 1554435912,\n",
       "  'last_updated': '2019-04-05 09:15',\n",
       "  'temp_c': 26.0,\n",
       "  'temp_f': 78.8,\n",
       "  'is_day': 1,\n",
       "  'condition': {'text': 'Sunny',\n",
       "   'icon': '//cdn.apixu.com/weather/64x64/day/113.png',\n",
       "   'code': 1000},\n",
       "  'wind_mph': 10.5,\n",
       "  'wind_kph': 16.9,\n",
       "  'wind_degree': 310,\n",
       "  'wind_dir': 'NW',\n",
       "  'pressure_mb': 1019.0,\n",
       "  'pressure_in': 30.6,\n",
       "  'precip_mm': 0.0,\n",
       "  'precip_in': 0.0,\n",
       "  'humidity': 70,\n",
       "  'cloud': 0,\n",
       "  'feelslike_c': 27.8,\n",
       "  'feelslike_f': 82.0,\n",
       "  'vis_km': 8.0,\n",
       "  'vis_miles': 4.0,\n",
       "  'uv': 7.0,\n",
       "  'gust_mph': 11.6,\n",
       "  'gust_kph': 18.7}}"
      ]
     },
     "execution_count": 3,
     "metadata": {},
     "output_type": "execute_result"
    }
   ],
   "source": [
    "result = requests.get(url+'Bengaluru').json()\n",
    "result"
   ]
  },
  {
   "cell_type": "code",
   "execution_count": 4,
   "metadata": {},
   "outputs": [
    {
     "data": {
      "text/plain": [
       "{'name': 'Bengaluru',\n",
       " 'region': 'Karnataka',\n",
       " 'country': 'India',\n",
       " 'lat': 12.98,\n",
       " 'lon': 77.58,\n",
       " 'tz_id': 'Asia/Kolkata',\n",
       " 'localtime_epoch': 1554436745,\n",
       " 'localtime': '2019-04-05 9:29'}"
      ]
     },
     "execution_count": 4,
     "metadata": {},
     "output_type": "execute_result"
    }
   ],
   "source": [
    "result['location']"
   ]
  },
  {
   "cell_type": "code",
   "execution_count": 5,
   "metadata": {},
   "outputs": [
    {
     "data": {
      "text/plain": [
       "12.98"
      ]
     },
     "execution_count": 5,
     "metadata": {},
     "output_type": "execute_result"
    }
   ],
   "source": [
    "result['location']['lat']"
   ]
  },
  {
   "cell_type": "code",
   "execution_count": 6,
   "metadata": {},
   "outputs": [
    {
     "data": {
      "text/plain": [
       "{'last_updated_epoch': 1554435912,\n",
       " 'last_updated': '2019-04-05 09:15',\n",
       " 'temp_c': 26.0,\n",
       " 'temp_f': 78.8,\n",
       " 'is_day': 1,\n",
       " 'condition': {'text': 'Sunny',\n",
       "  'icon': '//cdn.apixu.com/weather/64x64/day/113.png',\n",
       "  'code': 1000},\n",
       " 'wind_mph': 10.5,\n",
       " 'wind_kph': 16.9,\n",
       " 'wind_degree': 310,\n",
       " 'wind_dir': 'NW',\n",
       " 'pressure_mb': 1019.0,\n",
       " 'pressure_in': 30.6,\n",
       " 'precip_mm': 0.0,\n",
       " 'precip_in': 0.0,\n",
       " 'humidity': 70,\n",
       " 'cloud': 0,\n",
       " 'feelslike_c': 27.8,\n",
       " 'feelslike_f': 82.0,\n",
       " 'vis_km': 8.0,\n",
       " 'vis_miles': 4.0,\n",
       " 'uv': 7.0,\n",
       " 'gust_mph': 11.6,\n",
       " 'gust_kph': 18.7}"
      ]
     },
     "execution_count": 6,
     "metadata": {},
     "output_type": "execute_result"
    }
   ],
   "source": [
    "result['current']"
   ]
  },
  {
   "cell_type": "code",
   "execution_count": 7,
   "metadata": {},
   "outputs": [
    {
     "data": {
      "text/plain": [
       "'Sunny'"
      ]
     },
     "execution_count": 7,
     "metadata": {},
     "output_type": "execute_result"
    }
   ],
   "source": [
    "result['current']['condition']['text']"
   ]
  },
  {
   "cell_type": "code",
   "execution_count": 8,
   "metadata": {},
   "outputs": [
    {
     "data": {
      "text/plain": [
       "26.0"
      ]
     },
     "execution_count": 8,
     "metadata": {},
     "output_type": "execute_result"
    }
   ],
   "source": [
    "result['current']['temp_c']"
   ]
  },
  {
   "cell_type": "code",
   "execution_count": 11,
   "metadata": {},
   "outputs": [
    {
     "data": {
      "text/html": [
       "<div>\n",
       "<style scoped>\n",
       "    .dataframe tbody tr th:only-of-type {\n",
       "        vertical-align: middle;\n",
       "    }\n",
       "\n",
       "    .dataframe tbody tr th {\n",
       "        vertical-align: top;\n",
       "    }\n",
       "\n",
       "    .dataframe thead th {\n",
       "        text-align: right;\n",
       "    }\n",
       "</style>\n",
       "<table border=\"1\" class=\"dataframe\">\n",
       "  <thead>\n",
       "    <tr style=\"text-align: right;\">\n",
       "      <th></th>\n",
       "      <th>Country</th>\n",
       "      <th>Place</th>\n",
       "      <th>Temperature in c</th>\n",
       "      <th>latitude</th>\n",
       "      <th>longitude</th>\n",
       "      <th>wind speed</th>\n",
       "    </tr>\n",
       "  </thead>\n",
       "  <tbody>\n",
       "    <tr>\n",
       "      <th>0</th>\n",
       "      <td>India</td>\n",
       "      <td>Chennai</td>\n",
       "      <td>32.0</td>\n",
       "      <td>13.08</td>\n",
       "      <td>80.28</td>\n",
       "      <td>9.4</td>\n",
       "    </tr>\n",
       "    <tr>\n",
       "      <th>1</th>\n",
       "      <td>India</td>\n",
       "      <td>Bengaluru</td>\n",
       "      <td>26.0</td>\n",
       "      <td>12.98</td>\n",
       "      <td>77.58</td>\n",
       "      <td>10.5</td>\n",
       "    </tr>\n",
       "    <tr>\n",
       "      <th>2</th>\n",
       "      <td>India</td>\n",
       "      <td>Pune</td>\n",
       "      <td>26.3</td>\n",
       "      <td>18.53</td>\n",
       "      <td>73.87</td>\n",
       "      <td>6.7</td>\n",
       "    </tr>\n",
       "    <tr>\n",
       "      <th>3</th>\n",
       "      <td>India</td>\n",
       "      <td>Hyderabad</td>\n",
       "      <td>31.0</td>\n",
       "      <td>17.38</td>\n",
       "      <td>78.47</td>\n",
       "      <td>0.0</td>\n",
       "    </tr>\n",
       "    <tr>\n",
       "      <th>4</th>\n",
       "      <td>United Kingdom</td>\n",
       "      <td>London</td>\n",
       "      <td>8.0</td>\n",
       "      <td>51.52</td>\n",
       "      <td>-0.11</td>\n",
       "      <td>11.9</td>\n",
       "    </tr>\n",
       "    <tr>\n",
       "      <th>5</th>\n",
       "      <td>Pakistan</td>\n",
       "      <td>Kashmir</td>\n",
       "      <td>32.4</td>\n",
       "      <td>29.03</td>\n",
       "      <td>67.95</td>\n",
       "      <td>7.4</td>\n",
       "    </tr>\n",
       "    <tr>\n",
       "      <th>6</th>\n",
       "      <td>India</td>\n",
       "      <td>Coimbatore</td>\n",
       "      <td>28.0</td>\n",
       "      <td>10.99</td>\n",
       "      <td>76.96</td>\n",
       "      <td>5.6</td>\n",
       "    </tr>\n",
       "  </tbody>\n",
       "</table>\n",
       "</div>"
      ],
      "text/plain": [
       "          Country       Place  Temperature in c  latitude  longitude  \\\n",
       "0           India     Chennai              32.0     13.08      80.28   \n",
       "1           India   Bengaluru              26.0     12.98      77.58   \n",
       "2           India        Pune              26.3     18.53      73.87   \n",
       "3           India   Hyderabad              31.0     17.38      78.47   \n",
       "4  United Kingdom      London               8.0     51.52      -0.11   \n",
       "5        Pakistan     Kashmir              32.4     29.03      67.95   \n",
       "6           India  Coimbatore              28.0     10.99      76.96   \n",
       "\n",
       "   wind speed   \n",
       "0          9.4  \n",
       "1         10.5  \n",
       "2          6.7  \n",
       "3          0.0  \n",
       "4         11.9  \n",
       "5          7.4  \n",
       "6          5.6  "
      ]
     },
     "execution_count": 11,
     "metadata": {},
     "output_type": "execute_result"
    }
   ],
   "source": [
    "cities = ['Chennai','Bengaluru','Pune','Hyderabad','London',\n",
    "         'Kashmir','Coimbatore']\n",
    "df = pd.DataFrame()\n",
    "for city in cities:\n",
    "    result = requests.get(url+city).json()\n",
    "    cur_row = {\"Place\" :result['location']['name'],\n",
    "               \"Country\":result['location']['country'],\n",
    "               \"Temperature in c\":result['current']['temp_c'],\n",
    "              \"wind speed \":result['current']['wind_mph'],\n",
    "              \"latitude\":result['location']['lat'],\n",
    "              \"longitude\":result['location']['lon']}\n",
    "    df = df.append(cur_row,ignore_index=True)\n",
    "df"
   ]
  },
  {
   "cell_type": "markdown",
   "metadata": {},
   "source": [
    "# Zomato"
   ]
  },
  {
   "cell_type": "code",
   "execution_count": 12,
   "metadata": {},
   "outputs": [],
   "source": [
    "api_key = 'e1911d12711e90b775f55691a2b74fdb'\n",
    "headers = {'user-key' : api_key}\n",
    "categories = requests.get(\"https://developers.zomato.com/api/v2.1/categories\",headers=headers).json()"
   ]
  },
  {
   "cell_type": "code",
   "execution_count": 13,
   "metadata": {},
   "outputs": [
    {
     "data": {
      "text/html": [
       "<div>\n",
       "<style scoped>\n",
       "    .dataframe tbody tr th:only-of-type {\n",
       "        vertical-align: middle;\n",
       "    }\n",
       "\n",
       "    .dataframe tbody tr th {\n",
       "        vertical-align: top;\n",
       "    }\n",
       "\n",
       "    .dataframe thead th {\n",
       "        text-align: right;\n",
       "    }\n",
       "</style>\n",
       "<table border=\"1\" class=\"dataframe\">\n",
       "  <thead>\n",
       "    <tr style=\"text-align: right;\">\n",
       "      <th></th>\n",
       "      <th>Category</th>\n",
       "      <th>ID</th>\n",
       "    </tr>\n",
       "  </thead>\n",
       "  <tbody>\n",
       "    <tr>\n",
       "      <th>0</th>\n",
       "      <td>Delivery</td>\n",
       "      <td>1.0</td>\n",
       "    </tr>\n",
       "    <tr>\n",
       "      <th>1</th>\n",
       "      <td>Dine-out</td>\n",
       "      <td>2.0</td>\n",
       "    </tr>\n",
       "    <tr>\n",
       "      <th>2</th>\n",
       "      <td>Nightlife</td>\n",
       "      <td>3.0</td>\n",
       "    </tr>\n",
       "    <tr>\n",
       "      <th>3</th>\n",
       "      <td>Catching-up</td>\n",
       "      <td>4.0</td>\n",
       "    </tr>\n",
       "    <tr>\n",
       "      <th>4</th>\n",
       "      <td>Takeaway</td>\n",
       "      <td>5.0</td>\n",
       "    </tr>\n",
       "    <tr>\n",
       "      <th>5</th>\n",
       "      <td>Cafes</td>\n",
       "      <td>6.0</td>\n",
       "    </tr>\n",
       "    <tr>\n",
       "      <th>6</th>\n",
       "      <td>Daily Menus</td>\n",
       "      <td>7.0</td>\n",
       "    </tr>\n",
       "    <tr>\n",
       "      <th>7</th>\n",
       "      <td>Breakfast</td>\n",
       "      <td>8.0</td>\n",
       "    </tr>\n",
       "    <tr>\n",
       "      <th>8</th>\n",
       "      <td>Lunch</td>\n",
       "      <td>9.0</td>\n",
       "    </tr>\n",
       "    <tr>\n",
       "      <th>9</th>\n",
       "      <td>Dinner</td>\n",
       "      <td>10.0</td>\n",
       "    </tr>\n",
       "    <tr>\n",
       "      <th>10</th>\n",
       "      <td>Pubs &amp; Bars</td>\n",
       "      <td>11.0</td>\n",
       "    </tr>\n",
       "    <tr>\n",
       "      <th>11</th>\n",
       "      <td>Pocket Friendly Delivery</td>\n",
       "      <td>13.0</td>\n",
       "    </tr>\n",
       "    <tr>\n",
       "      <th>12</th>\n",
       "      <td>Clubs &amp; Lounges</td>\n",
       "      <td>14.0</td>\n",
       "    </tr>\n",
       "  </tbody>\n",
       "</table>\n",
       "</div>"
      ],
      "text/plain": [
       "                    Category    ID\n",
       "0                   Delivery   1.0\n",
       "1                   Dine-out   2.0\n",
       "2                  Nightlife   3.0\n",
       "3                Catching-up   4.0\n",
       "4                   Takeaway   5.0\n",
       "5                      Cafes   6.0\n",
       "6                Daily Menus   7.0\n",
       "7                  Breakfast   8.0\n",
       "8                      Lunch   9.0\n",
       "9                     Dinner  10.0\n",
       "10               Pubs & Bars  11.0\n",
       "11  Pocket Friendly Delivery  13.0\n",
       "12           Clubs & Lounges  14.0"
      ]
     },
     "execution_count": 13,
     "metadata": {},
     "output_type": "execute_result"
    }
   ],
   "source": [
    "categories_list = pd.DataFrame()\n",
    "for index in categories['categories']:\n",
    "    cur_row = {\n",
    "        \"ID\" : index['categories']['id'],\n",
    "        \"Category\" : index['categories']['name']\n",
    "    }\n",
    "    categories_list = categories_list.append(cur_row,ignore_index=True)\n",
    "categories_list"
   ]
  },
  {
   "cell_type": "code",
   "execution_count": 14,
   "metadata": {},
   "outputs": [
    {
     "data": {
      "text/plain": [
       "{'location_suggestions': [{'entity_type': 'city',\n",
       "   'entity_id': 4,\n",
       "   'title': 'Bengaluru',\n",
       "   'latitude': 12.971606,\n",
       "   'longitude': 77.594376,\n",
       "   'city_id': 4,\n",
       "   'city_name': 'Bengaluru',\n",
       "   'country_id': 1,\n",
       "   'country_name': 'India'}],\n",
       " 'status': 'success',\n",
       " 'has_more': 0,\n",
       " 'has_total': 0}"
      ]
     },
     "execution_count": 14,
     "metadata": {},
     "output_type": "execute_result"
    }
   ],
   "source": [
    "requests.get(\"https://developers.zomato.com/api/v2.1/locations?query=bengaluru\",headers=headers).json()"
   ]
  }
 ],
 "metadata": {
  "kernelspec": {
   "display_name": "Python 3",
   "language": "python",
   "name": "python3"
  },
  "language_info": {
   "codemirror_mode": {
    "name": "ipython",
    "version": 3
   },
   "file_extension": ".py",
   "mimetype": "text/x-python",
   "name": "python",
   "nbconvert_exporter": "python",
   "pygments_lexer": "ipython3",
   "version": "3.7.1"
  }
 },
 "nbformat": 4,
 "nbformat_minor": 2
}
