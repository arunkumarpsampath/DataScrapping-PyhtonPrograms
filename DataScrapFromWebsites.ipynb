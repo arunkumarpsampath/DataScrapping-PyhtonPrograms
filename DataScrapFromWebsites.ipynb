{
 "cells": [
  {
   "cell_type": "markdown",
   "metadata": {},
   "source": [
    "# Data Scrapping and wrangling"
   ]
  },
  {
   "cell_type": "code",
   "execution_count": 1,
   "metadata": {},
   "outputs": [
    {
     "name": "stdout",
     "output_type": "stream",
     "text": [
      "Collecting selenium\n",
      "  Downloading https://files.pythonhosted.org/packages/80/d6/4294f0b4bce4de0abf13e17190289f9d0613b0a44e5dd6a7f5ca98459853/selenium-3.141.0-py2.py3-none-any.whl (904kB)\n",
      "Requirement already satisfied: urllib3 in c:\\programdata\\anaconda3\\lib\\site-packages (from selenium) (1.24.1)\n",
      "Installing collected packages: selenium\n",
      "Successfully installed selenium-3.141.0\n"
     ]
    }
   ],
   "source": [
    "!pip install selenium"
   ]
  },
  {
   "cell_type": "code",
   "execution_count": 2,
   "metadata": {},
   "outputs": [],
   "source": [
    "from selenium import webdriver"
   ]
  },
  {
   "cell_type": "code",
   "execution_count": 3,
   "metadata": {},
   "outputs": [
    {
     "data": {
      "text/plain": [
       "'D:\\\\Manipal Pro learn\\\\Term1\\\\DataScrapping'"
      ]
     },
     "execution_count": 3,
     "metadata": {},
     "output_type": "execute_result"
    }
   ],
   "source": [
    "import os\n",
    "os.getcwd()"
   ]
  },
  {
   "cell_type": "code",
   "execution_count": 4,
   "metadata": {},
   "outputs": [],
   "source": [
    "browser = webdriver.Chrome('chromedriver.exe')"
   ]
  },
  {
   "cell_type": "code",
   "execution_count": 5,
   "metadata": {},
   "outputs": [],
   "source": [
    "url = 'https://en.wikipedia.org/wiki/Data_science'\n",
    "browser.get(url)"
   ]
  },
  {
   "cell_type": "markdown",
   "metadata": {},
   "source": [
    "# Scrape paragraphs"
   ]
  },
  {
   "cell_type": "code",
   "execution_count": 6,
   "metadata": {},
   "outputs": [
    {
     "data": {
      "text/plain": [
       "18"
      ]
     },
     "execution_count": 6,
     "metadata": {},
     "output_type": "execute_result"
    }
   ],
   "source": [
    "ptags = browser.find_elements_by_css_selector('p')\n",
    "len(ptags)"
   ]
  },
  {
   "cell_type": "code",
   "execution_count": 7,
   "metadata": {},
   "outputs": [
    {
     "name": "stdout",
     "output_type": "stream",
     "text": [
      "The Wikimedia Foundation wants to make talk pages accessible to all, to improve the depth, quality and the health on the wikis.\n",
      "We invite all Wikimedians to consult on how to achieve this goal. Join us!\n",
      "\n",
      "Data science is a multi-disciplinary field that uses scientific methods, processes, algorithms and systems to extract knowledge and insights from data in various forms, both structured and unstructured,[1][2] similar to data mining.\n",
      "Data science is a \"concept to unify statistics, data analysis, machine learning and their related methods\" in order to \"understand and analyze actual phenomena\" with data.[3] It employs techniques and theories drawn from many fields within the context of mathematics, statistics, information science, and computer science.\n",
      "Turing award winner Jim Gray imagined data science as a \"fourth paradigm\" of science (empirical, theoretical, computational and now data-driven) and asserted that \"everything about science is changing because of the impact of information technology\" and the data deluge.[4][5]\n",
      "In 2012, when Harvard Business Review called it \"The Sexiest Job of the 21st Century\",[6] the term \"data science\" became a buzzword. It is now often used interchangeably with earlier concepts like business analytics,[7] business intelligence, predictive modeling, and statistics. Even the suggestion that data science is sexy was paraphrasing Hans Rosling, featured in a 2011 BBC documentary with the quote, \"Statistics is now the sexiest subject around.\"[8] Nate Silver referred to data science as a sexed up term for statistics.[9] In many cases, earlier approaches and solutions are now simply rebranded as \"data science\" to be more attractive, which can cause the term to become \"dilute[d] beyond usefulness.\"[10] While many university programs now offer a data science degree, there exists no consensus on a definition or suitable curriculum contents.[7] To its discredit, however, many data-science and big-data projects fail to deliver useful results, often as a result of poor management and utilization of resources.[11][12][13][14]\n",
      "The term \"data science\" has appeared in various contexts over the past thirty years but did not become an established term until recently. In an early usage, it was used as a substitute for computer science by Peter Naur in 1960. Naur later introduced the term \"datalogy\".[15] In 1974, Naur published Concise Survey of Computer Methods, which freely used the term data science in its survey of the contemporary data processing methods that are used in a wide range of applications.\n",
      "In 1996, members of the International Federation of Classification Societies (IFCS) met in Kobe for their biennial conference. Here, for the first time, the term data science is included in the title of the conference (\"Data Science, classification, and related methods\"),[16] after the term was introduced in a roundtable discussion by Chikio Hayashi.[3]\n",
      "In November 1997, C.F. Jeff Wu gave the inaugural lecture entitled \"Statistics = Data Science?\"[17] for his appointment to the H. C. Carver Professorship at the University of Michigan.[18] In this lecture, he characterized statistical work as a trilogy of data collection, data modeling and analysis, and decision making. In his conclusion, he initiated the modern, non-computer science, usage of the term \"data science\" and advocated that statistics be renamed data science and statisticians data scientists.[17] Later, he presented his lecture entitled \"Statistics = Data Science?\" as the first of his 1998 P.C. Mahalanobis Memorial Lectures.[19] These lectures honor Prasanta Chandra Mahalanobis, an Indian scientist and statistician and founder of the Indian Statistical Institute.\n",
      "In 2001, William S. Cleveland introduced data science as an independent discipline, extending the field of statistics to incorporate \"advances in computing with data\" in his article \"Data Science: An Action Plan for Expanding the Technical Areas of the Field of Statistics,\" which was published in Volume 69, No. 1, of the April 2001 edition of the International Statistical Review / Revue Internationale de Statistique.[20] In his report, Cleveland establishes six technical areas which he believed to encompass the field of data science: multidisciplinary investigations, models and methods for data, computing with data, pedagogy, tool evaluation, and theory.\n",
      "In April 2002, the International Council for Science (ICSU): Committee on Data for Science and Technology (CODATA)[21] started the Data Science Journal,[22] a publication focused on issues such as the description of data systems, their publication on the internet, applications and legal issues.[23] Shortly thereafter, in January 2003, Columbia University began publishing The Journal of Data Science,[24] which provided a platform for all data workers to present their views and exchange ideas. The journal was largely devoted to the application of statistical methods and quantitative research. In 2005, The National Science Board published \"Long-lived Digital Data Collections: Enabling Research and Education in the 21st Century\" defining data scientists as \"the information and computer scientists, database and software and programmers, disciplinary experts, curators and expert annotators, librarians, archivists, and others, who are crucial to the successful management of a digital data collection\" whose primary activity is to \"conduct creative inquiry and analysis.\"[25]\n",
      "Around 2007,[citation needed] Turing award winner Jim Gray envisioned \"data-driven science\" as a \"fourth paradigm\" of science that uses the computational analysis of large data as primary scientific method[4][5] and \"to have a world in which all of the science literature is online, all of the science data is online, and they interoperate with each other.\"[26]\n",
      "In the 2012 Harvard Business Review article \"Data Scientist: The Sexiest Job of the 21st Century\",[6] DJ Patil claims to have coined this term in 2008 with Jeff Hammerbacher to define their jobs at LinkedIn and Facebook, respectively. He asserts that a data scientist is \"a new breed\", and that a \"shortage of data scientists is becoming a serious constraint in some sectors\", but describes a much more business-oriented role.\n",
      "In 2013, the IEEE Task Force on Data Science and Advanced Analytics[27] was launched. In 2013, the first \"European Conference on Data Analysis (ECDA)\" was organised in Luxembourg, establishing the European Association for Data Science (EuADS). The first international conference: IEEE International Conference on Data Science and Advanced Analytics was launched in 2014.[28] In 2014, General Assembly launched student-paid bootcamp and The Data Incubator launched a competitive free data science fellowship.[29] In 2014, the American Statistical Association section on Statistical Learning and Data Mining renamed its journal to \"Statistical Analysis and Data Mining: The ASA Data Science Journal\" and in 2016 changed its section name to \"Statistical Learning and Data Science\".[30] In 2015, the International Journal on Data Science and Analytics[31] was launched by Springer to publish original work on data science and big data analytics. In September 2015 the Gesellschaft für Klassifikation (GfKl) added to the name of the Society \"Data Science Society\" at the third ECDA conference at the University of Essex, Colchester, UK.\n",
      "The popularity of the term \"data science\" has exploded in business environments and academia, as indicated by a jump in job openings.[32] However, many critical academics and journalists see no distinction between data science and statistics. Writing in Forbes, Gil Press argues that data science is a buzzword without a clear definition and has simply replaced “business analytics” in contexts such as graduate degree programs.[7] In the question-and-answer section of his keynote address at the Joint Statistical Meetings of American Statistical Association, noted applied statistician Nate Silver said, “I think data-scientist is a sexed up term for a statistician....Statistics is a branch of science. Data scientist is slightly redundant in some way and people shouldn’t berate the term statistician.”[9] Similarly, in business sector, multiple researchers and analysts state that data scientists alone are far from being sufficient in granting companies a real competitive advantage[33] and consider data scientists as only one of the four greater job families companies require to leverage big data effectively, namely: data analysts, data scientists, big data developers and big data engineers.[34]\n",
      "On the other hand, responses to criticism are as numerous. In a 2014 Wall Street Journal article, Irving Wladawsky-Berger compares the data science enthusiasm with the dawn of computer science. He argues data science, like any other interdisciplinary field, employs methodologies and practices from across the academia and industry, but then it will morph them into a new discipline. He brings to attention the sharp criticisms computer science, now a well respected academic discipline, had to once face.[35] Likewise, NYU Stern's Vasant Dhar, as do many other academic proponents of data science,[35] argues more specifically in December 2013 that data science is different from the existing practice of data analysis across all disciplines, which focuses only on explaining data sets. Data science seeks actionable and consistent pattern for predictive uses.[1] This practical engineering goal takes data science beyond traditional analytics. Now the data in those disciplines and applied fields that lacked solid theories, like health science and social science, could be sought and utilized to generate powerful predictive models.[1]\n",
      "In an effort similar to Dhar's, Stanford professor David Donoho, in September 2015, takes the proposition further by rejecting three simplistic and misleading definitions of data science in lieu of criticisms.[36] First, for Donoho, data science does not equate to big data, in that the size of the data set is not a criterion to distinguish data science and statistics.[36] Second, data science is not defined by the computing skills of sorting big data sets, in that these skills are already generally used for analyses across all disciplines.[36] Third, data science is a heavily applied field where academic programs right now do not sufficiently prepare data scientists for the jobs, in that many graduate programs misleadingly advertise their analytics and statistics training as the essence of a data science program.[36][37] As a statistician, Donoho, following many in his field, champions the broadening of learning scope in the form of data science,[36] like John Chambers who urges statisticians to adopt an inclusive concept of learning from data,[38] or like William Cleveland who urges to prioritize extracting from data applicable predictive tools over explanatory theories.[20] Together, these statisticians envision an increasingly inclusive applied field that grows out of traditional statistics and beyond.\n",
      "For the future of data science, Donoho projects an ever-growing environment for open science where data sets used for academic publications are accessible to all researchers.[36] US National Institute of Health has already announced plans to enhance reproducibility and transparency of research data.[39] Other big journals are likewise following suit.[40][41] This way, the future of data science not only exceeds the boundary of statistical theories in scale and methodology, but data science will revolutionize current academia and research paradigms.[36] As Donoho concludes, \"the scope and impact of data science will continue to expand enormously in coming decades as scientific data and data about science itself become ubiquitously available.\"[36]\n"
     ]
    }
   ],
   "source": [
    "for tag in ptags:\n",
    "    print(tag.text)"
   ]
  },
  {
   "cell_type": "code",
   "execution_count": 8,
   "metadata": {},
   "outputs": [
    {
     "data": {
      "text/plain": [
       "11799"
      ]
     },
     "execution_count": 8,
     "metadata": {},
     "output_type": "execute_result"
    }
   ],
   "source": [
    "ptags_text = ''\n",
    "for tag in ptags:\n",
    "    ptags_text += ' ' + tag.text\n",
    "len(ptags_text)"
   ]
  },
  {
   "cell_type": "code",
   "execution_count": 14,
   "metadata": {},
   "outputs": [
    {
     "data": {
      "text/plain": [
       "11798"
      ]
     },
     "execution_count": 14,
     "metadata": {},
     "output_type": "execute_result"
    }
   ],
   "source": [
    "#alternate\n",
    "ptags_text = ' '.join([tag.text for tag in ptags])\n",
    "len(ptags_text)"
   ]
  },
  {
   "cell_type": "code",
   "execution_count": 13,
   "metadata": {},
   "outputs": [
    {
     "name": "stdout",
     "output_type": "stream",
     "text": [
      "[1, 4, 9, 16, 25]\n"
     ]
    },
    {
     "data": {
      "text/plain": [
       "'a b c d'"
      ]
     },
     "execution_count": 13,
     "metadata": {},
     "output_type": "execute_result"
    }
   ],
   "source": [
    "x = [1,2,3,4,5]\n",
    "print([i*i for i in x])\n",
    "\n",
    "x = ['a','b','c','d']\n",
    "' '.join(x)\n"
   ]
  },
  {
   "cell_type": "code",
   "execution_count": 15,
   "metadata": {},
   "outputs": [
    {
     "name": "stdout",
     "output_type": "stream",
     "text": [
      "Collecting wordcloud\n",
      "  Downloading https://files.pythonhosted.org/packages/23/4e/1254d26ce5d36facdcbb5820e7e434328aed68e99938c75c9d4e2fee5efb/wordcloud-1.5.0-cp37-cp37m-win_amd64.whl (153kB)\n",
      "Requirement already satisfied: numpy>=1.6.1 in c:\\programdata\\anaconda3\\lib\\site-packages (from wordcloud) (1.15.4)\n",
      "Requirement already satisfied: pillow in c:\\programdata\\anaconda3\\lib\\site-packages (from wordcloud) (5.4.1)\n",
      "Installing collected packages: wordcloud\n",
      "Successfully installed wordcloud-1.5.0\n"
     ]
    }
   ],
   "source": [
    "!pip install wordcloud"
   ]
  },
  {
   "cell_type": "code",
   "execution_count": 16,
   "metadata": {},
   "outputs": [
    {
     "ename": "NameError",
     "evalue": "name 'plt' is not defined",
     "output_type": "error",
     "traceback": [
      "\u001b[1;31m---------------------------------------------------------------------------\u001b[0m",
      "\u001b[1;31mNameError\u001b[0m                                 Traceback (most recent call last)",
      "\u001b[1;32m<ipython-input-16-8a0501cec931>\u001b[0m in \u001b[0;36m<module>\u001b[1;34m\u001b[0m\n\u001b[0;32m      3\u001b[0m \u001b[1;33m\u001b[0m\u001b[0m\n\u001b[0;32m      4\u001b[0m \u001b[0mwc\u001b[0m \u001b[1;33m=\u001b[0m\u001b[0mWordCloud\u001b[0m\u001b[1;33m(\u001b[0m\u001b[0mbackground_color\u001b[0m\u001b[1;33m=\u001b[0m\u001b[1;34m'white'\u001b[0m\u001b[1;33m)\u001b[0m\u001b[1;33m.\u001b[0m\u001b[0mgenerate\u001b[0m\u001b[1;33m(\u001b[0m\u001b[0mptags_text\u001b[0m\u001b[1;33m)\u001b[0m\u001b[1;33m\u001b[0m\u001b[1;33m\u001b[0m\u001b[0m\n\u001b[1;32m----> 5\u001b[1;33m \u001b[0mplt\u001b[0m\u001b[1;33m.\u001b[0m\u001b[0mimshow\u001b[0m\u001b[1;33m(\u001b[0m\u001b[0mwc\u001b[0m\u001b[1;33m)\u001b[0m\u001b[1;33m\u001b[0m\u001b[1;33m\u001b[0m\u001b[0m\n\u001b[0m",
      "\u001b[1;31mNameError\u001b[0m: name 'plt' is not defined"
     ]
    }
   ],
   "source": [
    "from wordcloud import WordCloud\n",
    "%matplotlib inline\n",
    "\n"
   ]
  },
  {
   "cell_type": "code",
   "execution_count": 18,
   "metadata": {},
   "outputs": [
    {
     "data": {
      "text/plain": [
       "<matplotlib.image.AxesImage at 0x29d4c56c780>"
      ]
     },
     "execution_count": 18,
     "metadata": {},
     "output_type": "execute_result"
    },
    {
     "data": {
      "image/png": "[encoded data removed]",
      "text/plain": [
       "<Figure size 432x288 with 1 Axes>"
      ]
     },
     "metadata": {
      "needs_background": "light"
     },
     "output_type": "display_data"
    }
   ],
   "source": [
    "import matplotlib.pyplot as plt\n",
    "wc =WordCloud(background_color='white').generate(ptags_text)\n",
    "plt.imshow(wc)"
   ]
  },
  {
   "cell_type": "code",
   "execution_count": 21,
   "metadata": {},
   "outputs": [],
   "source": [
    "browser.get('https://bbc.in/2Ul1Ooj')"
   ]
  },
  {
   "cell_type": "code",
   "execution_count": 24,
   "metadata": {},
   "outputs": [
    {
     "name": "stdout",
     "output_type": "stream",
     "text": [
      "68\n",
      "           India made headlines in late September after carrying out \"surgical strikes\" on militants across the de-facto border in disputed Kashmir. Days earlier insurgents had attacked an army base in Indian-administered Kashmir, killing 18 soldiers. Tensions spiked as India blamed Pakistan. Supporters of the Indian government said the army's strikes had taught Pakistan a long-awaited lesson - but Islamabad dismissed the reports as an \"illusion\". The BBC's M Ilyas Khan visited the border area to find out what actually happened. India 'launches strikes against militants' Kashmir attack: What's behind the deadliest militant raid in years? Despite the use of the term \"surgical strikes\", the Indians definitely did not airdrop commandos to hit \"launching pads of militants\" inside Pakistani-held territory, or conduct ground assaults deep into the Pakistan-administered side. But they did cross the Line of Control (LoC), in some cases by more than a kilometre, to hit nearby Pakistani border posts. Police officials on the Pakistani side privately concede that such a ground assault did occur in the Madarpur-Titrinot region of Poonch sector, west of Srinagar, where a Pakistani post was destroyed and one soldier killed. In Leepa valley to the north, locals said that the Indians crossed the LoC and set up their guns on ridges directly overlooking the village of Mundakali. A Pakistani border post located at some distance east of the village was hit. Two other posts higher up in the mountains were also hit. At least four Pakistani soldiers were injured in the attack, which lasted from 05:00am until 8:00am, locals said. A similar advance by the Indians in the Dudhnial area of Neelum valley further north was beaten back by the Pakistanis. At least one Pakistani soldier was injured - reports of a dead soldier could not be independently verified by the BBC. The Pakistani army described the exchanges as nothing more than cross-border firing, albeit in a more co-ordinated fashion and all along the LoC. Officials said two soldiers were killed in the attacks - one in Poonch, and one in Bhimber sector, further south. Defence minister Khwaja Asif later said a total of nine soldiers were injured in the assault. Indian troops could not have hit a target and returned alive as the climb required was too steep, officials said. Nor could helicopters have been used to drop special forces given the difficult terrain and because Pakistan would have shot down the aircraft. There is no conclusive evidence to prove either side's claims - the truth probably lies somewhere in the middle. Indian army's anger over Kashmir killings Why India needs cool heads I normally wake up at 4:30am. As usual I did my chores - and just then I heard small arms fire, about 100 rounds. I waited a few minutes and then I heard four bombs [mortars] land near the village. We have been in a state of war for a long time, so I knew that heavy guns meant trouble and that the village might get hit. I was standing there when four more bombs came. Then four more, after a few minutes. The first shells had landed in the forest near the village [where a border post is located] and I saw flames and smoke rising. My wife called to me to get in. We have built a bunker in the basement with 24-inch thick walls. She said everybody was inside, and wanted me to get in too. By now they had started targeting another one of our posts higher up on the mountaintop in front. Then the next round of shells hit another post further back. Small arms fire also continued. This was surprising for me. They had apparently crossed over from the LoC and had set up their guns at the top of the cliff. I could heard the bullets whizzing overhead, through the treetops, snapping twigs and leaves that were falling to the ground. The firing continued until about 6am. After that, the heavy guns fell silent but small fire continued. We remained in our basement until 10am. No one had had time to eat or drink that morning. Later, we heard that the Indians had crossed the LoC and hit our posts from positions overlooking the valley. I don't understand why they didn't try to reach our post where we have the local company headquarters. They could have done it. It's walkable, and is easier for them because they occupy higher ground. Perhaps our people detected their movement and fired at them which pushed them back. This is the first time since the war on the LoC began nearly 30 years ago that they have fired from this position. In many areas the attack came as a surprise. Accounts of villagers gathered in Leepa suggest that Indian soldiers first opened fire in the valley at around 0500, hitting the post near Mundakali village and blowing up a mosque adjacent to it. A soldier who was preparing for pre-dawn prayers was hit and injured, they said. Fire was also directed at two other posts higher up in the hills, one of which served as the forward headquarters in Leepa. Locals say bunkers at these posts were partly destroyed and their communication system was paralysed for some time. This meant that troops stationed down in the valley and at the brigade headquarters took a while to realise what was going on. The soldier who was injured at the Mundakali post was given first aid by villagers, and then transported to the military-run hospital in Leepa on a motorbike. Nearly two dozen villagers helped put out the fire that had engulfed the mosque. The Pakistanis did not take long to get their act together and fired back from the remaining bunkers, pushing the Indian guns back from the ridges overlooking the valley. In Dudhnial in Neelum valley, the action took place further up in the mountains, away from the village. A few villagers were awakened by gunfire. An official familiar with what happened that morning said the Indians had advanced well beyond the LoC when their movements were detected. \"The Pakistani fire sent them scurrying back to their bunkers,\" he said. Down south, in Poonch, Kotli and Bhimber areas, it was more or less the same story: Indians coming forward from their positions on the LoC, taking unsuspecting Pakistani soldiers by surprise both due to the suddenness of the attack and the intensity of the fire and then pulling back once the Pakistanis had a chance to respond. Unprepared, and having a numerical disadvantage generally, the Pakistanis made use of their firepower to the fullest, exhausting their ammunition. Locals said that in the days following the attack, hundreds of villagers were pressed into service carrying artillery shells and other ammunition to border posts to replenish their supplies. Kashmir-focused militants have had a strong presence in Pakistani-administered Kashmir for years. During the 1990s they crossed the LoC in droves to ambush troops on India's side. Their activities became less visible after the 2003 ceasefire agreement between India and Pakistan, but their proficiency in suicide raids and other attacks kept them relevant to Pakistan's strategy in its dispute with India, despite denials from Pakistan's military. The militants continue to maintain safe houses in bigger cities like Muzaffarabad, located some distance from the border area. But they now mostly set up camps near military deployments along the LoC and away from villages where there is a growing sense of fatigue among locals towards the insurgency. Despite the claims in the Indian media, the BBC could find little evidence that militants had been hit. There were no reports of any of the camps in the Samahni area of Bhimber or in the Poonch-Kotli area having been hit. They are mostly located behind ridges that serve as a natural barrier against direct Indian fire. In Leepa, some five or six wooden structures housing militants between the villages of Channian and Mundakali had not been targeted. A ridge that runs along the east bank of the nearby stream covers them from military positions on the LoC. Likewise, in Neelum, most militant camps - such as the ones at Jhambar, Dosut and in the Gurez valley area further east - are located in the valleys below, at a safe distance from the LoC. The BBC also could not confirm an Indian media report that Lashkar-e-Taiba camps in the Khairati Bagh village of Leepa valley and the western end of Dudhnial village in Neelum valley had been hit on 29 September. However, in Dudhnial some locals who helped carry military munitions to forward posts the weekend following the Indian strikes said they had seen one or two damaged structures close to a Pakistani post near the border. They thought those structures might have been hit on the morning of 29 September. But they were reluctant to discuss whether those structures had been occupied by militants, or whether five or six men had died there, as the Indian media had claimed. The BBC asked the Pakistani military about militant activity in the area, but there was no immediate response. Since 29 September there has been no let up in tension in the LoC area. Locals in Leepa told the BBC that following the attack, there had been an increased influx of militants in the valley. Are they in the area to help the army in case border skirmishes with the Indians get worse? No one is sure. In Neelum, a top official of the district administration called a meeting and advised locals earlier this month to start digging bunkers in or near their houses in case border tensions escalate. A local school teacher who was at the meeting said the official was told that removing militants from the area would be a simpler and less costly option to protect villages from Indian shelling. The strategy was a confidential matter, the official responded. It would be up to the government to decide. Disputed Kashmir profiled Concern over Kashmir police's pellet guns The US plans to scrap preferential status granted to exports from India and Turkey. Have you been getting these songs wrong? What happens to your body in extreme heat?\n"
     ]
    },
    {
     "data": {
      "text/plain": [
       "9953"
      ]
     },
     "execution_count": 24,
     "metadata": {},
     "output_type": "execute_result"
    }
   ],
   "source": [
    "ptags = browser.find_elements_by_css_selector('p')\n",
    "print(len(ptags))\n",
    "tags = ' '.join([tag.text for tag in ptags])\n",
    "print(tags)\n",
    "len(tags)"
   ]
  },
  {
   "cell_type": "code",
   "execution_count": 28,
   "metadata": {},
   "outputs": [
    {
     "data": {
      "text/plain": [
       "<matplotlib.image.AxesImage at 0x29d4cac1e48>"
      ]
     },
     "execution_count": 28,
     "metadata": {},
     "output_type": "execute_result"
    },
    {
     "data": {
      "image/png": "[encoded data removed]",
      "text/plain": [
       "<Figure size 432x288 with 1 Axes>"
      ]
     },
     "metadata": {
      "needs_background": "light"
     },
     "output_type": "display_data"
    }
   ],
   "source": [
    "plt.imshow(WordCloud(background_color='red').generate(tags))"
   ]
  },
  {
   "cell_type": "code",
   "execution_count": 35,
   "metadata": {},
   "outputs": [],
   "source": [
    "browser.get('http://localhost:8000')"
   ]
  },
  {
   "cell_type": "code",
   "execution_count": 36,
   "metadata": {},
   "outputs": [
    {
     "name": "stdout",
     "output_type": "stream",
     "text": [
      "['batch6', 'batch6']\n"
     ]
    }
   ],
   "source": [
    "ptags = browser.find_elements_by_css_selector('p')\n",
    "print([tag.get_attribute('class') for tag in ptags])"
   ]
  },
  {
   "cell_type": "code",
   "execution_count": 37,
   "metadata": {},
   "outputs": [],
   "source": [
    "import pandas as pd"
   ]
  },
  {
   "cell_type": "code",
   "execution_count": 44,
   "metadata": {},
   "outputs": [],
   "source": [
    "browser.get('http://localhost:8000')\n"
   ]
  },
  {
   "cell_type": "code",
   "execution_count": 45,
   "metadata": {},
   "outputs": [
    {
     "data": {
      "text/html": [
       "<div>\n",
       "<style scoped>\n",
       "    .dataframe tbody tr th:only-of-type {\n",
       "        vertical-align: middle;\n",
       "    }\n",
       "\n",
       "    .dataframe tbody tr th {\n",
       "        vertical-align: top;\n",
       "    }\n",
       "\n",
       "    .dataframe thead th {\n",
       "        text-align: right;\n",
       "    }\n",
       "</style>\n",
       "<table border=\"1\" class=\"dataframe\">\n",
       "  <thead>\n",
       "    <tr style=\"text-align: right;\">\n",
       "      <th></th>\n",
       "      <th>class</th>\n",
       "      <th>tag_name</th>\n",
       "      <th>text</th>\n",
       "    </tr>\n",
       "  </thead>\n",
       "  <tbody>\n",
       "    <tr>\n",
       "      <th>0</th>\n",
       "      <td>batch6</td>\n",
       "      <td>p</td>\n",
       "      <td>Web scraping is a process of collecting inform...</td>\n",
       "    </tr>\n",
       "    <tr>\n",
       "      <th>1</th>\n",
       "      <td>batch6</td>\n",
       "      <td>p</td>\n",
       "      <td>We will use selenium to open websites through ...</td>\n",
       "    </tr>\n",
       "    <tr>\n",
       "      <th>2</th>\n",
       "      <td>scraping</td>\n",
       "      <td>p</td>\n",
       "      <td>We are learning basics of scraping</td>\n",
       "    </tr>\n",
       "  </tbody>\n",
       "</table>\n",
       "</div>"
      ],
      "text/plain": [
       "      class tag_name                                               text\n",
       "0    batch6        p  Web scraping is a process of collecting inform...\n",
       "1    batch6        p  We will use selenium to open websites through ...\n",
       "2  scraping        p                 We are learning basics of scraping"
      ]
     },
     "execution_count": 45,
     "metadata": {},
     "output_type": "execute_result"
    }
   ],
   "source": [
    "ls = list()\n",
    "ptags = browser.find_elements_by_css_selector('p')\n",
    "for tag in ptags:\n",
    "    ls.append({'tag_name':'p','class':tag.get_attribute('class'),'text':tag.text})\n",
    "df_paras = pd.DataFrame(ls)\n",
    "df_paras"
   ]
  },
  {
   "cell_type": "code",
   "execution_count": 47,
   "metadata": {},
   "outputs": [
    {
     "data": {
      "text/html": [
       "<div>\n",
       "<style scoped>\n",
       "    .dataframe tbody tr th:only-of-type {\n",
       "        vertical-align: middle;\n",
       "    }\n",
       "\n",
       "    .dataframe tbody tr th {\n",
       "        vertical-align: top;\n",
       "    }\n",
       "\n",
       "    .dataframe thead th {\n",
       "        text-align: right;\n",
       "    }\n",
       "</style>\n",
       "<table border=\"1\" class=\"dataframe\">\n",
       "  <thead>\n",
       "    <tr style=\"text-align: right;\">\n",
       "      <th></th>\n",
       "      <th>class</th>\n",
       "      <th>tag_name</th>\n",
       "      <th>text</th>\n",
       "    </tr>\n",
       "  </thead>\n",
       "  <tbody>\n",
       "    <tr>\n",
       "      <th>0</th>\n",
       "      <td>batch6</td>\n",
       "      <td>p</td>\n",
       "      <td>Web scraping is a process of collecting inform...</td>\n",
       "    </tr>\n",
       "    <tr>\n",
       "      <th>1</th>\n",
       "      <td>batch6</td>\n",
       "      <td>p</td>\n",
       "      <td>We will use selenium to open websites through ...</td>\n",
       "    </tr>\n",
       "    <tr>\n",
       "      <th>2</th>\n",
       "      <td>scraping</td>\n",
       "      <td>p</td>\n",
       "      <td>We are learning basics of scraping</td>\n",
       "    </tr>\n",
       "  </tbody>\n",
       "</table>\n",
       "</div>"
      ],
      "text/plain": [
       "      class tag_name                                               text\n",
       "0    batch6        p  Web scraping is a process of collecting inform...\n",
       "1    batch6        p  We will use selenium to open websites through ...\n",
       "2  scraping        p                 We are learning basics of scraping"
      ]
     },
     "execution_count": 47,
     "metadata": {},
     "output_type": "execute_result"
    }
   ],
   "source": [
    "#alternate\n",
    "df_paras = pd.DataFrame()\n",
    "ptags = browser.find_elements_by_css_selector('p')\n",
    "for tag in ptags:\n",
    "    cur_row = {'tag_name':'p','class':tag.get_attribute('class'),'text':tag.text}\n",
    "    df_paras = df_paras.append(cur_row, ignore_index=True)\n",
    "df_paras"
   ]
  },
  {
   "cell_type": "code",
   "execution_count": 53,
   "metadata": {},
   "outputs": [
    {
     "data": {
      "text/html": [
       "<div>\n",
       "<style scoped>\n",
       "    .dataframe tbody tr th:only-of-type {\n",
       "        vertical-align: middle;\n",
       "    }\n",
       "\n",
       "    .dataframe tbody tr th {\n",
       "        vertical-align: top;\n",
       "    }\n",
       "\n",
       "    .dataframe thead th {\n",
       "        text-align: right;\n",
       "    }\n",
       "</style>\n",
       "<table border=\"1\" class=\"dataframe\">\n",
       "  <thead>\n",
       "    <tr style=\"text-align: right;\">\n",
       "      <th></th>\n",
       "      <th>class</th>\n",
       "      <th>tag_name</th>\n",
       "      <th>text</th>\n",
       "    </tr>\n",
       "  </thead>\n",
       "  <tbody>\n",
       "    <tr>\n",
       "      <th>0</th>\n",
       "      <td>article</td>\n",
       "      <td>p</td>\n",
       "      <td>India won the world cup</td>\n",
       "    </tr>\n",
       "    <tr>\n",
       "      <th>1</th>\n",
       "      <td>article</td>\n",
       "      <td>p</td>\n",
       "      <td>India won the match against Pakistan</td>\n",
       "    </tr>\n",
       "  </tbody>\n",
       "</table>\n",
       "</div>"
      ],
      "text/plain": [
       "     class tag_name                                  text\n",
       "0  article        p               India won the world cup\n",
       "1  article        p  India won the match against Pakistan"
      ]
     },
     "execution_count": 53,
     "metadata": {},
     "output_type": "execute_result"
    }
   ],
   "source": [
    "browser.get('http://localhost:8000')\n",
    "df_paras = pd.DataFrame()\n",
    "ptags = browser.find_elements_by_class_name('article')\n",
    "for tag in ptags:\n",
    "    cur_row = {'tag_name':'p','class':tag.get_attribute('class'),'text':tag.text}\n",
    "    df_paras = df_paras.append(cur_row, ignore_index=True)\n",
    "df_paras"
   ]
  },
  {
   "cell_type": "code",
   "execution_count": 56,
   "metadata": {},
   "outputs": [
    {
     "data": {
      "text/html": [
       "<div>\n",
       "<style scoped>\n",
       "    .dataframe tbody tr th:only-of-type {\n",
       "        vertical-align: middle;\n",
       "    }\n",
       "\n",
       "    .dataframe tbody tr th {\n",
       "        vertical-align: top;\n",
       "    }\n",
       "\n",
       "    .dataframe thead th {\n",
       "        text-align: right;\n",
       "    }\n",
       "</style>\n",
       "<table border=\"1\" class=\"dataframe\">\n",
       "  <thead>\n",
       "    <tr style=\"text-align: right;\">\n",
       "      <th></th>\n",
       "      <th>class</th>\n",
       "      <th>tag_name</th>\n",
       "      <th>text</th>\n",
       "    </tr>\n",
       "  </thead>\n",
       "  <tbody>\n",
       "    <tr>\n",
       "      <th>0</th>\n",
       "      <td>article</td>\n",
       "      <td>p</td>\n",
       "      <td>India won the world cup</td>\n",
       "    </tr>\n",
       "    <tr>\n",
       "      <th>1</th>\n",
       "      <td>article</td>\n",
       "      <td>p</td>\n",
       "      <td>India won the match against Pakistan</td>\n",
       "    </tr>\n",
       "    <tr>\n",
       "      <th>2</th>\n",
       "      <td>article</td>\n",
       "      <td>p</td>\n",
       "      <td>we will be learning univariate analysis</td>\n",
       "    </tr>\n",
       "    <tr>\n",
       "      <th>3</th>\n",
       "      <td>article</td>\n",
       "      <td>p</td>\n",
       "      <td>we will also learn bivariate analysis</td>\n",
       "    </tr>\n",
       "  </tbody>\n",
       "</table>\n",
       "</div>"
      ],
      "text/plain": [
       "     class tag_name                                     text\n",
       "0  article        p                  India won the world cup\n",
       "1  article        p     India won the match against Pakistan\n",
       "2  article        p  we will be learning univariate analysis\n",
       "3  article        p    we will also learn bivariate analysis"
      ]
     },
     "execution_count": 56,
     "metadata": {},
     "output_type": "execute_result"
    }
   ],
   "source": [
    "#alternate\n",
    "browser.get('http://localhost:8000')\n",
    "df_paras = pd.DataFrame()\n",
    "ptags = browser.find_elements_by_css_selector('p.article')\n",
    "for tag in ptags:\n",
    "    cur_row = {'tag_name':'p','class':tag.get_attribute('class'),'text':tag.text}\n",
    "    df_paras = df_paras.append(cur_row, ignore_index=True)\n",
    "df_paras"
   ]
  },
  {
   "cell_type": "code",
   "execution_count": 59,
   "metadata": {},
   "outputs": [
    {
     "data": {
      "text/html": [
       "<div>\n",
       "<style scoped>\n",
       "    .dataframe tbody tr th:only-of-type {\n",
       "        vertical-align: middle;\n",
       "    }\n",
       "\n",
       "    .dataframe tbody tr th {\n",
       "        vertical-align: top;\n",
       "    }\n",
       "\n",
       "    .dataframe thead th {\n",
       "        text-align: right;\n",
       "    }\n",
       "</style>\n",
       "<table border=\"1\" class=\"dataframe\">\n",
       "  <thead>\n",
       "    <tr style=\"text-align: right;\">\n",
       "      <th></th>\n",
       "      <th>class</th>\n",
       "      <th>tag_name</th>\n",
       "      <th>text</th>\n",
       "    </tr>\n",
       "  </thead>\n",
       "  <tbody>\n",
       "    <tr>\n",
       "      <th>0</th>\n",
       "      <td>article</td>\n",
       "      <td>p</td>\n",
       "      <td>we will be learning univariate analysis</td>\n",
       "    </tr>\n",
       "    <tr>\n",
       "      <th>1</th>\n",
       "      <td>article</td>\n",
       "      <td>p</td>\n",
       "      <td>we will also learn bivariate analysis</td>\n",
       "    </tr>\n",
       "  </tbody>\n",
       "</table>\n",
       "</div>"
      ],
      "text/plain": [
       "     class tag_name                                     text\n",
       "0  article        p  we will be learning univariate analysis\n",
       "1  article        p    we will also learn bivariate analysis"
      ]
     },
     "execution_count": 59,
     "metadata": {},
     "output_type": "execute_result"
    }
   ],
   "source": [
    "browser.get('http://localhost:8000')\n",
    "df_paras = pd.DataFrame()\n",
    "divtag = browser.find_element_by_css_selector('div.eda')\n",
    "ptags = divtag.find_elements_by_css_selector('p.article')\n",
    "for tag in ptags:\n",
    "    cur_row = {'tag_name':'p','class':tag.get_attribute('class'),'text':tag.text}\n",
    "    df_paras = df_paras.append(cur_row, ignore_index=True)\n",
    "df_paras"
   ]
  },
  {
   "cell_type": "code",
   "execution_count": 60,
   "metadata": {},
   "outputs": [
    {
     "data": {
      "text/html": [
       "<div>\n",
       "<style scoped>\n",
       "    .dataframe tbody tr th:only-of-type {\n",
       "        vertical-align: middle;\n",
       "    }\n",
       "\n",
       "    .dataframe tbody tr th {\n",
       "        vertical-align: top;\n",
       "    }\n",
       "\n",
       "    .dataframe thead th {\n",
       "        text-align: right;\n",
       "    }\n",
       "</style>\n",
       "<table border=\"1\" class=\"dataframe\">\n",
       "  <thead>\n",
       "    <tr style=\"text-align: right;\">\n",
       "      <th></th>\n",
       "      <th>tag_name</th>\n",
       "      <th>value</th>\n",
       "    </tr>\n",
       "  </thead>\n",
       "  <tbody>\n",
       "    <tr>\n",
       "      <th>0</th>\n",
       "      <td>p</td>\n",
       "      <td>regression</td>\n",
       "    </tr>\n",
       "    <tr>\n",
       "      <th>1</th>\n",
       "      <td>p</td>\n",
       "      <td>classification</td>\n",
       "    </tr>\n",
       "  </tbody>\n",
       "</table>\n",
       "</div>"
      ],
      "text/plain": [
       "  tag_name           value\n",
       "0        p      regression\n",
       "1        p  classification"
      ]
     },
     "execution_count": 60,
     "metadata": {},
     "output_type": "execute_result"
    }
   ],
   "source": [
    "browser.get('http://localhost:8000')\n",
    "df_paras = pd.DataFrame()\n",
    "divtag = browser.find_element_by_css_selector('div[name=\"ml\"]')\n",
    "ptags = divtag.find_elements_by_css_selector('p')\n",
    "for tag in ptags:\n",
    "    cur_row = {'tag_name':'p','value':tag.get_attribute('value')}\n",
    "    df_paras = df_paras.append(cur_row, ignore_index=True)\n",
    "df_paras"
   ]
  },
  {
   "cell_type": "code",
   "execution_count": 70,
   "metadata": {},
   "outputs": [
    {
     "data": {
      "text/html": [
       "<div>\n",
       "<style scoped>\n",
       "    .dataframe tbody tr th:only-of-type {\n",
       "        vertical-align: middle;\n",
       "    }\n",
       "\n",
       "    .dataframe tbody tr th {\n",
       "        vertical-align: top;\n",
       "    }\n",
       "\n",
       "    .dataframe thead th {\n",
       "        text-align: right;\n",
       "    }\n",
       "</style>\n",
       "<table border=\"1\" class=\"dataframe\">\n",
       "  <thead>\n",
       "    <tr style=\"text-align: right;\">\n",
       "      <th></th>\n",
       "      <th>content</th>\n",
       "      <th>title</th>\n",
       "    </tr>\n",
       "  </thead>\n",
       "  <tbody>\n",
       "    <tr>\n",
       "      <th>0</th>\n",
       "      <td>India won australia by 60 runs in their first ...</td>\n",
       "      <td>India wins australia</td>\n",
       "    </tr>\n",
       "    <tr>\n",
       "      <th>1</th>\n",
       "      <td>AI is going to rule the world</td>\n",
       "      <td>AI is the new era</td>\n",
       "    </tr>\n",
       "  </tbody>\n",
       "</table>\n",
       "</div>"
      ],
      "text/plain": [
       "                                             content                 title\n",
       "0  India won australia by 60 runs in their first ...  India wins australia\n",
       "1                      AI is going to rule the world     AI is the new era"
      ]
     },
     "execution_count": 70,
     "metadata": {},
     "output_type": "execute_result"
    }
   ],
   "source": [
    "browser.get('http://localhost:8000')\n",
    "df_paras = pd.DataFrame()\n",
    "divtag = browser.find_element_by_css_selector('div.articles')\n",
    "div_tags = divtag.find_elements_by_css_selector('div.article')\n",
    "for div_tag in div_tags:\n",
    "    cur_row = {'title':div_tag.find_element_by_css_selector('p[name=\"title\"]').text,\n",
    "               'content':div_tag.find_element_by_css_selector('p[name=\"content\"]').text}\n",
    "    df_paras = df_paras.append(cur_row, ignore_index=True)\n",
    "df_paras"
   ]
  },
  {
   "cell_type": "code",
   "execution_count": 67,
   "metadata": {},
   "outputs": [
    {
     "data": {
      "text/html": [
       "<div>\n",
       "<style scoped>\n",
       "    .dataframe tbody tr th:only-of-type {\n",
       "        vertical-align: middle;\n",
       "    }\n",
       "\n",
       "    .dataframe tbody tr th {\n",
       "        vertical-align: top;\n",
       "    }\n",
       "\n",
       "    .dataframe thead th {\n",
       "        text-align: right;\n",
       "    }\n",
       "</style>\n",
       "<table border=\"1\" class=\"dataframe\">\n",
       "  <thead>\n",
       "    <tr style=\"text-align: right;\">\n",
       "      <th></th>\n",
       "      <th>title</th>\n",
       "      <th>content</th>\n",
       "    </tr>\n",
       "  </thead>\n",
       "  <tbody>\n",
       "    <tr>\n",
       "      <th>0</th>\n",
       "      <td>India wins australia</td>\n",
       "      <td>India won australia by 60 runs in their first ...</td>\n",
       "    </tr>\n",
       "    <tr>\n",
       "      <th>1</th>\n",
       "      <td>AI is the new era</td>\n",
       "      <td>AI is going to rule the world</td>\n",
       "    </tr>\n",
       "  </tbody>\n",
       "</table>\n",
       "</div>"
      ],
      "text/plain": [
       "                  title                                            content\n",
       "0  India wins australia  India won australia by 60 runs in their first ...\n",
       "1     AI is the new era                      AI is going to rule the world"
      ]
     },
     "execution_count": 67,
     "metadata": {},
     "output_type": "execute_result"
    }
   ],
   "source": [
    "#alternate - columnwise \n",
    "titletag = browser.find_elements_by_css_selector('p[name=\"title\"]')\n",
    "title = [tag.text for tag in titletag]\n",
    "contenttag = browser.find_elements_by_css_selector('p[name=\"content\"]')\n",
    "content = [tag.text for tag in contenttag]\n",
    "pd.DataFrame({'title':title,'content':content})"
   ]
  },
  {
   "cell_type": "code",
   "execution_count": 81,
   "metadata": {},
   "outputs": [
    {
     "data": {
      "text/html": [
       "<div>\n",
       "<style scoped>\n",
       "    .dataframe tbody tr th:only-of-type {\n",
       "        vertical-align: middle;\n",
       "    }\n",
       "\n",
       "    .dataframe tbody tr th {\n",
       "        vertical-align: top;\n",
       "    }\n",
       "\n",
       "    .dataframe thead th {\n",
       "        text-align: right;\n",
       "    }\n",
       "</style>\n",
       "<table border=\"1\" class=\"dataframe\">\n",
       "  <thead>\n",
       "    <tr style=\"text-align: right;\">\n",
       "      <th></th>\n",
       "      <th>author</th>\n",
       "      <th>category</th>\n",
       "      <th>desc</th>\n",
       "      <th>price</th>\n",
       "      <th>title</th>\n",
       "    </tr>\n",
       "  </thead>\n",
       "  <tbody>\n",
       "    <tr>\n",
       "      <th>0</th>\n",
       "      <td>Dolly</td>\n",
       "      <td>self-help</td>\n",
       "      <td>An inspiring guide from Dolly</td>\n",
       "      <td>10$</td>\n",
       "      <td>The person you mean to be</td>\n",
       "    </tr>\n",
       "    <tr>\n",
       "      <th>1</th>\n",
       "      <td>Tom</td>\n",
       "      <td>society</td>\n",
       "      <td>Tom's perspective of global....</td>\n",
       "      <td>15$</td>\n",
       "      <td>Imperfect courange</td>\n",
       "    </tr>\n",
       "  </tbody>\n",
       "</table>\n",
       "</div>"
      ],
      "text/plain": [
       "  author   category                             desc price  \\\n",
       "0  Dolly  self-help    An inspiring guide from Dolly   10$   \n",
       "1    Tom    society  Tom's perspective of global....   15$   \n",
       "\n",
       "                       title  \n",
       "0  The person you mean to be  \n",
       "1         Imperfect courange  "
      ]
     },
     "execution_count": 81,
     "metadata": {},
     "output_type": "execute_result"
    }
   ],
   "source": [
    "#assignment\n",
    "browser.get('http://localhost:8000')\n",
    "df_paras = pd.DataFrame()\n",
    "divtag = browser.find_element_by_css_selector('div.books')\n",
    "div_tags = divtag.find_elements_by_css_selector('div.book')\n",
    "for div_tag in div_tags:\n",
    "    cur_row = {'title':div_tag.find_element_by_css_selector('li.title').text,\n",
    "               'author':div_tag.find_element_by_css_selector('div.author').text,\n",
    "               'desc':div_tag.find_element_by_css_selector('div.desc').find_element_by_css_selector('p').text,\n",
    "               'price':div_tag.find_element_by_css_selector('li[type=\"price\"]').text,\n",
    "               'category':div_tag.find_element_by_css_selector('div.category').get_attribute('type')\n",
    "              }\n",
    "    df_paras = df_paras.append(cur_row, ignore_index=True)\n",
    "df_paras\n"
   ]
  }
 ],
 "metadata": {
  "kernelspec": {
   "display_name": "Python 3",
   "language": "python",
   "name": "python3"
  },
  "language_info": {
   "codemirror_mode": {
    "name": "ipython",
    "version": 3
   },
   "file_extension": ".py",
   "mimetype": "text/x-python",
   "name": "python",
   "nbconvert_exporter": "python",
   "pygments_lexer": "ipython3",
   "version": "3.7.1"
  }
 },
 "nbformat": 4,
 "nbformat_minor": 2
}
