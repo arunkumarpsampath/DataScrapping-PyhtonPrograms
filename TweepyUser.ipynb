{
 "cells": [
  {
   "cell_type": "code",
   "execution_count": 1,
   "metadata": {},
   "outputs": [],
   "source": [
    "#!pip install tweepy"
   ]
  },
  {
   "cell_type": "code",
   "execution_count": 1,
   "metadata": {},
   "outputs": [],
   "source": [
    "import tweepy"
   ]
  },
  {
   "cell_type": "code",
   "execution_count": 2,
   "metadata": {},
   "outputs": [],
   "source": [
    "#keys taken from twitter developer account\n",
    "consumer_key = 'STmfnnIiWOKB8S5SENEUAGZAZ'\n",
    "consumer_secret  = 'uM6gVsNw7qTrpuicXVFx3Vgb8qyA6bdDNpfJhU01oll5bDUnmQ'\n",
    "access_token = '1102777661523410944-mkT0HKSNzbspAxnfsAPiaM18g8gD9D'\n",
    "access_secret = 'CiXpgkpHZ0PB6DdvzIAXadjWEPXQta8iCbVPjv5UPVHzv'"
   ]
  },
  {
   "cell_type": "code",
   "execution_count": 3,
   "metadata": {},
   "outputs": [],
   "source": [
    "auth = tweepy.OAuthHandler(consumer_key,consumer_secret)\n",
    "auth.set_access_token(access_token,access_secret)\n",
    "api =tweepy.API(auth)  #tweepy.API(auth,waitonratelimit = True) -To extract more tweets"
   ]
  },
  {
   "cell_type": "markdown",
   "metadata": {},
   "source": [
    "# Scraping modi tweets"
   ]
  },
  {
   "cell_type": "code",
   "execution_count": 6,
   "metadata": {},
   "outputs": [
    {
     "data": {
      "text/plain": [
       "200"
      ]
     },
     "execution_count": 6,
     "metadata": {},
     "output_type": "execute_result"
    }
   ],
   "source": [
    "modi_tweets = api.user_timeline('narendramodi',page=1,count=200)\n",
    "len(modi_tweets)"
   ]
  },
  {
   "cell_type": "code",
   "execution_count": 8,
   "metadata": {},
   "outputs": [
    {
     "data": {
      "text/plain": [
       "Status(_api=<tweepy.api.API object at 0x00000234DBBBE3C8>, _json={'created_at': 'Mon Apr 01 03:28:25 +0000 2019', 'id': 1112557299456004097, 'id_str': '1112557299456004097', 'text': 'I bow to His Holiness Dr. Sree Sree Sree Sivakumara Swamigalu on his Jayanti. \\n\\nHe lives in our hearts and minds.… https://t.co/T6CNMHIDjx', 'truncated': True, 'entities': {'hashtags': [], 'symbols': [], 'user_mentions': [], 'urls': [{'url': 'https://t.co/T6CNMHIDjx', 'expanded_url': 'https://twitter.com/i/web/status/1112557299456004097', 'display_url': 'twitter.com/i/web/status/1…', 'indices': [115, 138]}]}, 'source': '<a href=\"http://twitter.com/download/iphone\" rel=\"nofollow\">Twitter for iPhone</a>', 'in_reply_to_status_id': None, 'in_reply_to_status_id_str': None, 'in_reply_to_user_id': None, 'in_reply_to_user_id_str': None, 'in_reply_to_screen_name': None, 'user': {'id': 18839785, 'id_str': '18839785', 'name': 'Chowkidar Narendra Modi', 'screen_name': 'narendramodi', 'location': 'India', 'description': 'Prime Minister of India', 'url': 'https://t.co/zzYhUUfq6i', 'entities': {'url': {'urls': [{'url': 'https://t.co/zzYhUUfq6i', 'expanded_url': 'http://www.narendramodi.in', 'display_url': 'narendramodi.in', 'indices': [0, 23]}]}, 'description': {'urls': []}}, 'protected': False, 'followers_count': 46678302, 'friends_count': 2163, 'listed_count': 23556, 'created_at': 'Sat Jan 10 17:18:56 +0000 2009', 'favourites_count': 0, 'utc_offset': None, 'time_zone': None, 'geo_enabled': False, 'verified': True, 'statuses_count': 22804, 'lang': 'en', 'contributors_enabled': False, 'is_translator': False, 'is_translation_enabled': False, 'profile_background_color': 'F4EDD4', 'profile_background_image_url': 'http://abs.twimg.com/images/themes/theme1/bg.png', 'profile_background_image_url_https': 'https://abs.twimg.com/images/themes/theme1/bg.png', 'profile_background_tile': False, 'profile_image_url': 'http://pbs.twimg.com/profile_images/718314968102367232/ypY1GPCQ_normal.jpg', 'profile_image_url_https': 'https://pbs.twimg.com/profile_images/718314968102367232/ypY1GPCQ_normal.jpg', 'profile_banner_url': 'https://pbs.twimg.com/profile_banners/18839785/1502777627', 'profile_link_color': '4E7096', 'profile_sidebar_border_color': 'FFFFFF', 'profile_sidebar_fill_color': 'D5DFED', 'profile_text_color': '233863', 'profile_use_background_image': True, 'has_extended_profile': True, 'default_profile': False, 'default_profile_image': False, 'following': False, 'follow_request_sent': False, 'notifications': False, 'translator_type': 'regular'}, 'geo': None, 'coordinates': None, 'place': None, 'contributors': None, 'is_quote_status': False, 'retweet_count': 1311, 'favorite_count': 5216, 'favorited': False, 'retweeted': False, 'possibly_sensitive': False, 'lang': 'en'}, created_at=datetime.datetime(2019, 4, 1, 3, 28, 25), id=1112557299456004097, id_str='1112557299456004097', text='I bow to His Holiness Dr. Sree Sree Sree Sivakumara Swamigalu on his Jayanti. \\n\\nHe lives in our hearts and minds.… https://t.co/T6CNMHIDjx', truncated=True, entities={'hashtags': [], 'symbols': [], 'user_mentions': [], 'urls': [{'url': 'https://t.co/T6CNMHIDjx', 'expanded_url': 'https://twitter.com/i/web/status/1112557299456004097', 'display_url': 'twitter.com/i/web/status/1…', 'indices': [115, 138]}]}, source='Twitter for iPhone', source_url='http://twitter.com/download/iphone', in_reply_to_status_id=None, in_reply_to_status_id_str=None, in_reply_to_user_id=None, in_reply_to_user_id_str=None, in_reply_to_screen_name=None, author=User(_api=<tweepy.api.API object at 0x00000234DBBBE3C8>, _json={'id': 18839785, 'id_str': '18839785', 'name': 'Chowkidar Narendra Modi', 'screen_name': 'narendramodi', 'location': 'India', 'description': 'Prime Minister of India', 'url': 'https://t.co/zzYhUUfq6i', 'entities': {'url': {'urls': [{'url': 'https://t.co/zzYhUUfq6i', 'expanded_url': 'http://www.narendramodi.in', 'display_url': 'narendramodi.in', 'indices': [0, 23]}]}, 'description': {'urls': []}}, 'protected': False, 'followers_count': 46678302, 'friends_count': 2163, 'listed_count': 23556, 'created_at': 'Sat Jan 10 17:18:56 +0000 2009', 'favourites_count': 0, 'utc_offset': None, 'time_zone': None, 'geo_enabled': False, 'verified': True, 'statuses_count': 22804, 'lang': 'en', 'contributors_enabled': False, 'is_translator': False, 'is_translation_enabled': False, 'profile_background_color': 'F4EDD4', 'profile_background_image_url': 'http://abs.twimg.com/images/themes/theme1/bg.png', 'profile_background_image_url_https': 'https://abs.twimg.com/images/themes/theme1/bg.png', 'profile_background_tile': False, 'profile_image_url': 'http://pbs.twimg.com/profile_images/718314968102367232/ypY1GPCQ_normal.jpg', 'profile_image_url_https': 'https://pbs.twimg.com/profile_images/718314968102367232/ypY1GPCQ_normal.jpg', 'profile_banner_url': 'https://pbs.twimg.com/profile_banners/18839785/1502777627', 'profile_link_color': '4E7096', 'profile_sidebar_border_color': 'FFFFFF', 'profile_sidebar_fill_color': 'D5DFED', 'profile_text_color': '233863', 'profile_use_background_image': True, 'has_extended_profile': True, 'default_profile': False, 'default_profile_image': False, 'following': False, 'follow_request_sent': False, 'notifications': False, 'translator_type': 'regular'}, id=18839785, id_str='18839785', name='Chowkidar Narendra Modi', screen_name='narendramodi', location='India', description='Prime Minister of India', url='https://t.co/zzYhUUfq6i', entities={'url': {'urls': [{'url': 'https://t.co/zzYhUUfq6i', 'expanded_url': 'http://www.narendramodi.in', 'display_url': 'narendramodi.in', 'indices': [0, 23]}]}, 'description': {'urls': []}}, protected=False, followers_count=46678302, friends_count=2163, listed_count=23556, created_at=datetime.datetime(2009, 1, 10, 17, 18, 56), favourites_count=0, utc_offset=None, time_zone=None, geo_enabled=False, verified=True, statuses_count=22804, lang='en', contributors_enabled=False, is_translator=False, is_translation_enabled=False, profile_background_color='F4EDD4', profile_background_image_url='http://abs.twimg.com/images/themes/theme1/bg.png', profile_background_image_url_https='https://abs.twimg.com/images/themes/theme1/bg.png', profile_background_tile=False, profile_image_url='http://pbs.twimg.com/profile_images/718314968102367232/ypY1GPCQ_normal.jpg', profile_image_url_https='https://pbs.twimg.com/profile_images/718314968102367232/ypY1GPCQ_normal.jpg', profile_banner_url='https://pbs.twimg.com/profile_banners/18839785/1502777627', profile_link_color='4E7096', profile_sidebar_border_color='FFFFFF', profile_sidebar_fill_color='D5DFED', profile_text_color='233863', profile_use_background_image=True, has_extended_profile=True, default_profile=False, default_profile_image=False, following=False, follow_request_sent=False, notifications=False, translator_type='regular'), user=User(_api=<tweepy.api.API object at 0x00000234DBBBE3C8>, _json={'id': 18839785, 'id_str': '18839785', 'name': 'Chowkidar Narendra Modi', 'screen_name': 'narendramodi', 'location': 'India', 'description': 'Prime Minister of India', 'url': 'https://t.co/zzYhUUfq6i', 'entities': {'url': {'urls': [{'url': 'https://t.co/zzYhUUfq6i', 'expanded_url': 'http://www.narendramodi.in', 'display_url': 'narendramodi.in', 'indices': [0, 23]}]}, 'description': {'urls': []}}, 'protected': False, 'followers_count': 46678302, 'friends_count': 2163, 'listed_count': 23556, 'created_at': 'Sat Jan 10 17:18:56 +0000 2009', 'favourites_count': 0, 'utc_offset': None, 'time_zone': None, 'geo_enabled': False, 'verified': True, 'statuses_count': 22804, 'lang': 'en', 'contributors_enabled': False, 'is_translator': False, 'is_translation_enabled': False, 'profile_background_color': 'F4EDD4', 'profile_background_image_url': 'http://abs.twimg.com/images/themes/theme1/bg.png', 'profile_background_image_url_https': 'https://abs.twimg.com/images/themes/theme1/bg.png', 'profile_background_tile': False, 'profile_image_url': 'http://pbs.twimg.com/profile_images/718314968102367232/ypY1GPCQ_normal.jpg', 'profile_image_url_https': 'https://pbs.twimg.com/profile_images/718314968102367232/ypY1GPCQ_normal.jpg', 'profile_banner_url': 'https://pbs.twimg.com/profile_banners/18839785/1502777627', 'profile_link_color': '4E7096', 'profile_sidebar_border_color': 'FFFFFF', 'profile_sidebar_fill_color': 'D5DFED', 'profile_text_color': '233863', 'profile_use_background_image': True, 'has_extended_profile': True, 'default_profile': False, 'default_profile_image': False, 'following': False, 'follow_request_sent': False, 'notifications': False, 'translator_type': 'regular'}, id=18839785, id_str='18839785', name='Chowkidar Narendra Modi', screen_name='narendramodi', location='India', description='Prime Minister of India', url='https://t.co/zzYhUUfq6i', entities={'url': {'urls': [{'url': 'https://t.co/zzYhUUfq6i', 'expanded_url': 'http://www.narendramodi.in', 'display_url': 'narendramodi.in', 'indices': [0, 23]}]}, 'description': {'urls': []}}, protected=False, followers_count=46678302, friends_count=2163, listed_count=23556, created_at=datetime.datetime(2009, 1, 10, 17, 18, 56), favourites_count=0, utc_offset=None, time_zone=None, geo_enabled=False, verified=True, statuses_count=22804, lang='en', contributors_enabled=False, is_translator=False, is_translation_enabled=False, profile_background_color='F4EDD4', profile_background_image_url='http://abs.twimg.com/images/themes/theme1/bg.png', profile_background_image_url_https='https://abs.twimg.com/images/themes/theme1/bg.png', profile_background_tile=False, profile_image_url='http://pbs.twimg.com/profile_images/718314968102367232/ypY1GPCQ_normal.jpg', profile_image_url_https='https://pbs.twimg.com/profile_images/718314968102367232/ypY1GPCQ_normal.jpg', profile_banner_url='https://pbs.twimg.com/profile_banners/18839785/1502777627', profile_link_color='4E7096', profile_sidebar_border_color='FFFFFF', profile_sidebar_fill_color='D5DFED', profile_text_color='233863', profile_use_background_image=True, has_extended_profile=True, default_profile=False, default_profile_image=False, following=False, follow_request_sent=False, notifications=False, translator_type='regular'), geo=None, coordinates=None, place=None, contributors=None, is_quote_status=False, retweet_count=1311, favorite_count=5216, favorited=False, retweeted=False, possibly_sensitive=False, lang='en')"
      ]
     },
     "execution_count": 8,
     "metadata": {},
     "output_type": "execute_result"
    }
   ],
   "source": [
    "modi_tweets[0]"
   ]
  },
  {
   "cell_type": "code",
   "execution_count": 9,
   "metadata": {},
   "outputs": [
    {
     "data": {
      "text/plain": [
       "'I bow to His Holiness Dr. Sree Sree Sree Sivakumara Swamigalu on his Jayanti. \\n\\nHe lives in our hearts and minds.… https://t.co/T6CNMHIDjx'"
      ]
     },
     "execution_count": 9,
     "metadata": {},
     "output_type": "execute_result"
    }
   ],
   "source": [
    "modi_tweets[0].text"
   ]
  },
  {
   "cell_type": "code",
   "execution_count": 11,
   "metadata": {},
   "outputs": [
    {
     "data": {
      "text/plain": [
       "datetime.datetime(2019, 4, 1, 3, 28, 25)"
      ]
     },
     "execution_count": 11,
     "metadata": {},
     "output_type": "execute_result"
    }
   ],
   "source": [
    "modi_tweets[0].created_at"
   ]
  },
  {
   "cell_type": "code",
   "execution_count": 12,
   "metadata": {},
   "outputs": [
    {
     "data": {
      "text/plain": [
       "{'created_at': 'Mon Apr 01 03:28:25 +0000 2019',\n",
       " 'id': 1112557299456004097,\n",
       " 'id_str': '1112557299456004097',\n",
       " 'text': 'I bow to His Holiness Dr. Sree Sree Sree Sivakumara Swamigalu on his Jayanti. \\n\\nHe lives in our hearts and minds.… https://t.co/T6CNMHIDjx',\n",
       " 'truncated': True,\n",
       " 'entities': {'hashtags': [],\n",
       "  'symbols': [],\n",
       "  'user_mentions': [],\n",
       "  'urls': [{'url': 'https://t.co/T6CNMHIDjx',\n",
       "    'expanded_url': 'https://twitter.com/i/web/status/1112557299456004097',\n",
       "    'display_url': 'twitter.com/i/web/status/1…',\n",
       "    'indices': [115, 138]}]},\n",
       " 'source': '<a href=\"http://twitter.com/download/iphone\" rel=\"nofollow\">Twitter for iPhone</a>',\n",
       " 'in_reply_to_status_id': None,\n",
       " 'in_reply_to_status_id_str': None,\n",
       " 'in_reply_to_user_id': None,\n",
       " 'in_reply_to_user_id_str': None,\n",
       " 'in_reply_to_screen_name': None,\n",
       " 'user': {'id': 18839785,\n",
       "  'id_str': '18839785',\n",
       "  'name': 'Chowkidar Narendra Modi',\n",
       "  'screen_name': 'narendramodi',\n",
       "  'location': 'India',\n",
       "  'description': 'Prime Minister of India',\n",
       "  'url': 'https://t.co/zzYhUUfq6i',\n",
       "  'entities': {'url': {'urls': [{'url': 'https://t.co/zzYhUUfq6i',\n",
       "      'expanded_url': 'http://www.narendramodi.in',\n",
       "      'display_url': 'narendramodi.in',\n",
       "      'indices': [0, 23]}]},\n",
       "   'description': {'urls': []}},\n",
       "  'protected': False,\n",
       "  'followers_count': 46678302,\n",
       "  'friends_count': 2163,\n",
       "  'listed_count': 23556,\n",
       "  'created_at': 'Sat Jan 10 17:18:56 +0000 2009',\n",
       "  'favourites_count': 0,\n",
       "  'utc_offset': None,\n",
       "  'time_zone': None,\n",
       "  'geo_enabled': False,\n",
       "  'verified': True,\n",
       "  'statuses_count': 22804,\n",
       "  'lang': 'en',\n",
       "  'contributors_enabled': False,\n",
       "  'is_translator': False,\n",
       "  'is_translation_enabled': False,\n",
       "  'profile_background_color': 'F4EDD4',\n",
       "  'profile_background_image_url': 'http://abs.twimg.com/images/themes/theme1/bg.png',\n",
       "  'profile_background_image_url_https': 'https://abs.twimg.com/images/themes/theme1/bg.png',\n",
       "  'profile_background_tile': False,\n",
       "  'profile_image_url': 'http://pbs.twimg.com/profile_images/718314968102367232/ypY1GPCQ_normal.jpg',\n",
       "  'profile_image_url_https': 'https://pbs.twimg.com/profile_images/718314968102367232/ypY1GPCQ_normal.jpg',\n",
       "  'profile_banner_url': 'https://pbs.twimg.com/profile_banners/18839785/1502777627',\n",
       "  'profile_link_color': '4E7096',\n",
       "  'profile_sidebar_border_color': 'FFFFFF',\n",
       "  'profile_sidebar_fill_color': 'D5DFED',\n",
       "  'profile_text_color': '233863',\n",
       "  'profile_use_background_image': True,\n",
       "  'has_extended_profile': True,\n",
       "  'default_profile': False,\n",
       "  'default_profile_image': False,\n",
       "  'following': False,\n",
       "  'follow_request_sent': False,\n",
       "  'notifications': False,\n",
       "  'translator_type': 'regular'},\n",
       " 'geo': None,\n",
       " 'coordinates': None,\n",
       " 'place': None,\n",
       " 'contributors': None,\n",
       " 'is_quote_status': False,\n",
       " 'retweet_count': 1311,\n",
       " 'favorite_count': 5216,\n",
       " 'favorited': False,\n",
       " 'retweeted': False,\n",
       " 'possibly_sensitive': False,\n",
       " 'lang': 'en'}"
      ]
     },
     "execution_count": 12,
     "metadata": {},
     "output_type": "execute_result"
    }
   ],
   "source": [
    "modi_tweets[0]._json"
   ]
  },
  {
   "cell_type": "code",
   "execution_count": 13,
   "metadata": {},
   "outputs": [
    {
     "data": {
      "text/plain": [
       "'India'"
      ]
     },
     "execution_count": 13,
     "metadata": {},
     "output_type": "execute_result"
    }
   ],
   "source": [
    "modi_tweets[0].user.location"
   ]
  },
  {
   "cell_type": "code",
   "execution_count": 14,
   "metadata": {},
   "outputs": [
    {
     "data": {
      "text/plain": [
       "'Prime Minister of India'"
      ]
     },
     "execution_count": 14,
     "metadata": {},
     "output_type": "execute_result"
    }
   ],
   "source": [
    "modi_tweets[0].user.description"
   ]
  },
  {
   "cell_type": "code",
   "execution_count": 16,
   "metadata": {},
   "outputs": [
    {
     "data": {
      "text/plain": [
       "5216"
      ]
     },
     "execution_count": 16,
     "metadata": {},
     "output_type": "execute_result"
    }
   ],
   "source": [
    "modi_tweets[0].favorite_count"
   ]
  },
  {
   "cell_type": "code",
   "execution_count": 17,
   "metadata": {},
   "outputs": [],
   "source": [
    "import pandas as pd"
   ]
  },
  {
   "cell_type": "code",
   "execution_count": 18,
   "metadata": {},
   "outputs": [
    {
     "data": {
      "text/html": [
       "<div>\n",
       "<style scoped>\n",
       "    .dataframe tbody tr th:only-of-type {\n",
       "        vertical-align: middle;\n",
       "    }\n",
       "\n",
       "    .dataframe tbody tr th {\n",
       "        vertical-align: top;\n",
       "    }\n",
       "\n",
       "    .dataframe thead th {\n",
       "        text-align: right;\n",
       "    }\n",
       "</style>\n",
       "<table border=\"1\" class=\"dataframe\">\n",
       "  <thead>\n",
       "    <tr style=\"text-align: right;\">\n",
       "      <th></th>\n",
       "      <th>created_at</th>\n",
       "      <th>likes</th>\n",
       "      <th>retweets</th>\n",
       "      <th>source</th>\n",
       "      <th>text</th>\n",
       "    </tr>\n",
       "  </thead>\n",
       "  <tbody>\n",
       "    <tr>\n",
       "      <th>0</th>\n",
       "      <td>2019-04-01 03:28:25</td>\n",
       "      <td>5216.0</td>\n",
       "      <td>1311.0</td>\n",
       "      <td>Twitter for iPhone</td>\n",
       "      <td>I bow to His Holiness Dr. Sree Sree Sree Sivak...</td>\n",
       "    </tr>\n",
       "    <tr>\n",
       "      <th>1</th>\n",
       "      <td>2019-04-01 03:14:06</td>\n",
       "      <td>3425.0</td>\n",
       "      <td>906.0</td>\n",
       "      <td>Twitter for iPhone</td>\n",
       "      <td>Utkala Dibasa greetings to my sisters and brot...</td>\n",
       "    </tr>\n",
       "    <tr>\n",
       "      <th>2</th>\n",
       "      <td>2019-04-01 03:11:17</td>\n",
       "      <td>2605.0</td>\n",
       "      <td>681.0</td>\n",
       "      <td>Twitter for iPhone</td>\n",
       "      <td>సికింద్రాబాద్... భారత్‌ను మరింత సంపన్నమైన దేశం...</td>\n",
       "    </tr>\n",
       "    <tr>\n",
       "      <th>3</th>\n",
       "      <td>2019-04-01 03:09:43</td>\n",
       "      <td>2997.0</td>\n",
       "      <td>758.0</td>\n",
       "      <td>Twitter for iPhone</td>\n",
       "      <td>ఈరోజు నేను రాజమండ్రిలో ఒక ర్యాలీలో మాట్లాడుతున...</td>\n",
       "    </tr>\n",
       "    <tr>\n",
       "      <th>4</th>\n",
       "      <td>2019-04-01 03:07:57</td>\n",
       "      <td>8081.0</td>\n",
       "      <td>1540.0</td>\n",
       "      <td>Twitter for iPhone</td>\n",
       "      <td>केंद्र आणि राज्य सरकारने जी लोकाभिमुख कामे केल...</td>\n",
       "    </tr>\n",
       "  </tbody>\n",
       "</table>\n",
       "</div>"
      ],
      "text/plain": [
       "           created_at   likes  retweets              source  \\\n",
       "0 2019-04-01 03:28:25  5216.0    1311.0  Twitter for iPhone   \n",
       "1 2019-04-01 03:14:06  3425.0     906.0  Twitter for iPhone   \n",
       "2 2019-04-01 03:11:17  2605.0     681.0  Twitter for iPhone   \n",
       "3 2019-04-01 03:09:43  2997.0     758.0  Twitter for iPhone   \n",
       "4 2019-04-01 03:07:57  8081.0    1540.0  Twitter for iPhone   \n",
       "\n",
       "                                                text  \n",
       "0  I bow to His Holiness Dr. Sree Sree Sree Sivak...  \n",
       "1  Utkala Dibasa greetings to my sisters and brot...  \n",
       "2  సికింద్రాబాద్... భారత్‌ను మరింత సంపన్నమైన దేశం...  \n",
       "3  ఈరోజు నేను రాజమండ్రిలో ఒక ర్యాలీలో మాట్లాడుతున...  \n",
       "4  केंद्र आणि राज्य सरकारने जी लोकाभिमुख कामे केल...  "
      ]
     },
     "execution_count": 18,
     "metadata": {},
     "output_type": "execute_result"
    }
   ],
   "source": [
    "df_modi_tweets = pd.DataFrame()\n",
    "\n",
    "for tweet in modi_tweets:\n",
    "    curr_tweet = {\n",
    "        'text' : tweet.text,\n",
    "        'likes' : tweet.favorite_count,\n",
    "        'retweets' : tweet.retweet_count,\n",
    "        'created_at' : tweet.created_at,\n",
    "        'source':tweet.source\n",
    "    }\n",
    "    df_modi_tweets = df_modi_tweets.append(curr_tweet,ignore_index=True)\n",
    "df_modi_tweets.head()\n"
   ]
  },
  {
   "cell_type": "code",
   "execution_count": 19,
   "metadata": {},
   "outputs": [
    {
     "data": {
      "text/html": [
       "<div>\n",
       "<style scoped>\n",
       "    .dataframe tbody tr th:only-of-type {\n",
       "        vertical-align: middle;\n",
       "    }\n",
       "\n",
       "    .dataframe tbody tr th {\n",
       "        vertical-align: top;\n",
       "    }\n",
       "\n",
       "    .dataframe thead th {\n",
       "        text-align: right;\n",
       "    }\n",
       "</style>\n",
       "<table border=\"1\" class=\"dataframe\">\n",
       "  <thead>\n",
       "    <tr style=\"text-align: right;\">\n",
       "      <th></th>\n",
       "      <th>created_at</th>\n",
       "      <th>likes</th>\n",
       "      <th>retweets</th>\n",
       "      <th>source</th>\n",
       "      <th>text</th>\n",
       "    </tr>\n",
       "  </thead>\n",
       "  <tbody>\n",
       "    <tr>\n",
       "      <th>0</th>\n",
       "      <td>2019-04-01 03:28:25</td>\n",
       "      <td>6221.0</td>\n",
       "      <td>1575.0</td>\n",
       "      <td>Twitter for iPhone</td>\n",
       "      <td>I bow to His Holiness Dr. Sree Sree Sree Sivak...</td>\n",
       "    </tr>\n",
       "    <tr>\n",
       "      <th>1</th>\n",
       "      <td>2019-04-01 03:14:06</td>\n",
       "      <td>3880.0</td>\n",
       "      <td>1043.0</td>\n",
       "      <td>Twitter for iPhone</td>\n",
       "      <td>Utkala Dibasa greetings to my sisters and brot...</td>\n",
       "    </tr>\n",
       "    <tr>\n",
       "      <th>2</th>\n",
       "      <td>2019-04-01 03:11:17</td>\n",
       "      <td>2993.0</td>\n",
       "      <td>765.0</td>\n",
       "      <td>Twitter for iPhone</td>\n",
       "      <td>సికింద్రాబాద్... భారత్‌ను మరింత సంపన్నమైన దేశం...</td>\n",
       "    </tr>\n",
       "    <tr>\n",
       "      <th>3</th>\n",
       "      <td>2019-04-01 03:09:43</td>\n",
       "      <td>3464.0</td>\n",
       "      <td>855.0</td>\n",
       "      <td>Twitter for iPhone</td>\n",
       "      <td>ఈరోజు నేను రాజమండ్రిలో ఒక ర్యాలీలో మాట్లాడుతున...</td>\n",
       "    </tr>\n",
       "    <tr>\n",
       "      <th>4</th>\n",
       "      <td>2019-04-01 03:07:57</td>\n",
       "      <td>9735.0</td>\n",
       "      <td>1842.0</td>\n",
       "      <td>Twitter for iPhone</td>\n",
       "      <td>केंद्र आणि राज्य सरकारने जी लोकाभिमुख कामे केल...</td>\n",
       "    </tr>\n",
       "  </tbody>\n",
       "</table>\n",
       "</div>"
      ],
      "text/plain": [
       "           created_at   likes  retweets              source  \\\n",
       "0 2019-04-01 03:28:25  6221.0    1575.0  Twitter for iPhone   \n",
       "1 2019-04-01 03:14:06  3880.0    1043.0  Twitter for iPhone   \n",
       "2 2019-04-01 03:11:17  2993.0     765.0  Twitter for iPhone   \n",
       "3 2019-04-01 03:09:43  3464.0     855.0  Twitter for iPhone   \n",
       "4 2019-04-01 03:07:57  9735.0    1842.0  Twitter for iPhone   \n",
       "\n",
       "                                                text  \n",
       "0  I bow to His Holiness Dr. Sree Sree Sree Sivak...  \n",
       "1  Utkala Dibasa greetings to my sisters and brot...  \n",
       "2  సికింద్రాబాద్... భారత్‌ను మరింత సంపన్నమైన దేశం...  \n",
       "3  ఈరోజు నేను రాజమండ్రిలో ఒక ర్యాలీలో మాట్లాడుతున...  \n",
       "4  केंद्र आणि राज्य सरकारने जी लोकाभिमुख कामे केल...  "
      ]
     },
     "execution_count": 19,
     "metadata": {},
     "output_type": "execute_result"
    }
   ],
   "source": [
    "df_modi_tweets = pd.DataFrame()\n",
    "for page in range(1,21):\n",
    "    modi_tweets = api.user_timeline('narendramodi',page=page,count=200)\n",
    "    \n",
    "    for tweet in modi_tweets:\n",
    "        curr_tweet = {\n",
    "            'text' : tweet.text,\n",
    "            'likes' : tweet.favorite_count,\n",
    "            'retweets' : tweet.retweet_count,\n",
    "            'created_at' : tweet.created_at,\n",
    "            'source':tweet.source\n",
    "        }\n",
    "        df_modi_tweets = df_modi_tweets.append(curr_tweet,ignore_index=True)\n",
    "df_modi_tweets.head()"
   ]
  },
  {
   "cell_type": "code",
   "execution_count": 21,
   "metadata": {},
   "outputs": [
    {
     "data": {
      "text/plain": [
       "3215"
      ]
     },
     "execution_count": 21,
     "metadata": {},
     "output_type": "execute_result"
    }
   ],
   "source": [
    "len(df_modi_tweets)"
   ]
  },
  {
   "cell_type": "code",
   "execution_count": 22,
   "metadata": {},
   "outputs": [],
   "source": [
    "import os\n",
    "os.chdir('D:\\Manipal Pro learn\\Term1\\DataScrapping')"
   ]
  },
  {
   "cell_type": "code",
   "execution_count": 23,
   "metadata": {},
   "outputs": [],
   "source": [
    "df_modi_tweets.to_csv('narendra_modi_tweets.csv')"
   ]
  },
  {
   "cell_type": "markdown",
   "metadata": {},
   "source": [
    "# Twitter Analysis"
   ]
  },
  {
   "cell_type": "code",
   "execution_count": 24,
   "metadata": {},
   "outputs": [
    {
     "data": {
      "text/plain": [
       "Twitter Web Client      1633\n",
       "Twitter Media Studio     741\n",
       "Twitter for iPhone       535\n",
       "Periscope                213\n",
       "Twitter for Android       92\n",
       "Twitter Ads Composer       1\n",
       "Name: source, dtype: int64"
      ]
     },
     "execution_count": 24,
     "metadata": {},
     "output_type": "execute_result"
    }
   ],
   "source": [
    "df_modi_tweets['source'].value_counts()"
   ]
  },
  {
   "cell_type": "code",
   "execution_count": 26,
   "metadata": {},
   "outputs": [
    {
     "data": {
      "text/html": [
       "<div>\n",
       "<style scoped>\n",
       "    .dataframe tbody tr th:only-of-type {\n",
       "        vertical-align: middle;\n",
       "    }\n",
       "\n",
       "    .dataframe tbody tr th {\n",
       "        vertical-align: top;\n",
       "    }\n",
       "\n",
       "    .dataframe thead th {\n",
       "        text-align: right;\n",
       "    }\n",
       "</style>\n",
       "<table border=\"1\" class=\"dataframe\">\n",
       "  <thead>\n",
       "    <tr style=\"text-align: right;\">\n",
       "      <th></th>\n",
       "      <th>created_at</th>\n",
       "      <th>likes</th>\n",
       "      <th>retweets</th>\n",
       "      <th>source</th>\n",
       "      <th>text</th>\n",
       "    </tr>\n",
       "  </thead>\n",
       "  <tbody>\n",
       "    <tr>\n",
       "      <th>357</th>\n",
       "      <td>2019-03-01 16:34:29</td>\n",
       "      <td>271910.0</td>\n",
       "      <td>66478.0</td>\n",
       "      <td>Twitter for iPhone</td>\n",
       "      <td>Welcome Home Wing Commander Abhinandan!\\n\\nThe...</td>\n",
       "    </tr>\n",
       "    <tr>\n",
       "      <th>170</th>\n",
       "      <td>2019-03-16 03:30:15</td>\n",
       "      <td>160811.0</td>\n",
       "      <td>56400.0</td>\n",
       "      <td>Twitter Ads Composer</td>\n",
       "      <td>Your Chowkidar is standing firm &amp;amp; serving ...</td>\n",
       "    </tr>\n",
       "    <tr>\n",
       "      <th>486</th>\n",
       "      <td>2019-02-15 16:29:33</td>\n",
       "      <td>156913.0</td>\n",
       "      <td>37956.0</td>\n",
       "      <td>Twitter for iPhone</td>\n",
       "      <td>We salute you, brave sons of Mother India. \\n\\...</td>\n",
       "    </tr>\n",
       "    <tr>\n",
       "      <th>490</th>\n",
       "      <td>2019-02-14 13:16:57</td>\n",
       "      <td>130632.0</td>\n",
       "      <td>41242.0</td>\n",
       "      <td>Twitter for Android</td>\n",
       "      <td>Attack on CRPF personnel in Pulwama is despica...</td>\n",
       "    </tr>\n",
       "    <tr>\n",
       "      <th>81</th>\n",
       "      <td>2019-03-27 05:53:17</td>\n",
       "      <td>129102.0</td>\n",
       "      <td>33082.0</td>\n",
       "      <td>Twitter Web Client</td>\n",
       "      <td>मेरे प्यारे देशवासियों, \\n\\nआज सवेरे लगभग 11.4...</td>\n",
       "    </tr>\n",
       "  </tbody>\n",
       "</table>\n",
       "</div>"
      ],
      "text/plain": [
       "             created_at     likes  retweets                source  \\\n",
       "357 2019-03-01 16:34:29  271910.0   66478.0    Twitter for iPhone   \n",
       "170 2019-03-16 03:30:15  160811.0   56400.0  Twitter Ads Composer   \n",
       "486 2019-02-15 16:29:33  156913.0   37956.0    Twitter for iPhone   \n",
       "490 2019-02-14 13:16:57  130632.0   41242.0   Twitter for Android   \n",
       "81  2019-03-27 05:53:17  129102.0   33082.0    Twitter Web Client   \n",
       "\n",
       "                                                  text  \n",
       "357  Welcome Home Wing Commander Abhinandan!\\n\\nThe...  \n",
       "170  Your Chowkidar is standing firm &amp; serving ...  \n",
       "486  We salute you, brave sons of Mother India. \\n\\...  \n",
       "490  Attack on CRPF personnel in Pulwama is despica...  \n",
       "81   मेरे प्यारे देशवासियों, \\n\\nआज सवेरे लगभग 11.4...  "
      ]
     },
     "execution_count": 26,
     "metadata": {},
     "output_type": "execute_result"
    }
   ],
   "source": [
    "df_modi_tweets.sort_values(by = 'likes',ascending=False).head()"
   ]
  },
  {
   "cell_type": "code",
   "execution_count": 30,
   "metadata": {},
   "outputs": [
    {
     "data": {
      "text/html": [
       "<div>\n",
       "<style scoped>\n",
       "    .dataframe tbody tr th:only-of-type {\n",
       "        vertical-align: middle;\n",
       "    }\n",
       "\n",
       "    .dataframe tbody tr th {\n",
       "        vertical-align: top;\n",
       "    }\n",
       "\n",
       "    .dataframe thead th {\n",
       "        text-align: right;\n",
       "    }\n",
       "</style>\n",
       "<table border=\"1\" class=\"dataframe\">\n",
       "  <thead>\n",
       "    <tr style=\"text-align: right;\">\n",
       "      <th></th>\n",
       "      <th>created_at</th>\n",
       "      <th>likes</th>\n",
       "      <th>retweets</th>\n",
       "      <th>source</th>\n",
       "      <th>text</th>\n",
       "      <th>date</th>\n",
       "    </tr>\n",
       "  </thead>\n",
       "  <tbody>\n",
       "    <tr>\n",
       "      <th>0</th>\n",
       "      <td>2019-04-01 03:28:25</td>\n",
       "      <td>6221.0</td>\n",
       "      <td>1575.0</td>\n",
       "      <td>Twitter for iPhone</td>\n",
       "      <td>I bow to His Holiness Dr. Sree Sree Sree Sivak...</td>\n",
       "      <td>2019-04-01 03:28:25</td>\n",
       "    </tr>\n",
       "    <tr>\n",
       "      <th>1</th>\n",
       "      <td>2019-04-01 03:14:06</td>\n",
       "      <td>3880.0</td>\n",
       "      <td>1043.0</td>\n",
       "      <td>Twitter for iPhone</td>\n",
       "      <td>Utkala Dibasa greetings to my sisters and brot...</td>\n",
       "      <td>2019-04-01 03:14:06</td>\n",
       "    </tr>\n",
       "    <tr>\n",
       "      <th>2</th>\n",
       "      <td>2019-04-01 03:11:17</td>\n",
       "      <td>2993.0</td>\n",
       "      <td>765.0</td>\n",
       "      <td>Twitter for iPhone</td>\n",
       "      <td>సికింద్రాబాద్... భారత్‌ను మరింత సంపన్నమైన దేశం...</td>\n",
       "      <td>2019-04-01 03:11:17</td>\n",
       "    </tr>\n",
       "    <tr>\n",
       "      <th>3</th>\n",
       "      <td>2019-04-01 03:09:43</td>\n",
       "      <td>3464.0</td>\n",
       "      <td>855.0</td>\n",
       "      <td>Twitter for iPhone</td>\n",
       "      <td>ఈరోజు నేను రాజమండ్రిలో ఒక ర్యాలీలో మాట్లాడుతున...</td>\n",
       "      <td>2019-04-01 03:09:43</td>\n",
       "    </tr>\n",
       "    <tr>\n",
       "      <th>4</th>\n",
       "      <td>2019-04-01 03:07:57</td>\n",
       "      <td>9735.0</td>\n",
       "      <td>1842.0</td>\n",
       "      <td>Twitter for iPhone</td>\n",
       "      <td>केंद्र आणि राज्य सरकारने जी लोकाभिमुख कामे केल...</td>\n",
       "      <td>2019-04-01 03:07:57</td>\n",
       "    </tr>\n",
       "  </tbody>\n",
       "</table>\n",
       "</div>"
      ],
      "text/plain": [
       "           created_at   likes  retweets              source  \\\n",
       "0 2019-04-01 03:28:25  6221.0    1575.0  Twitter for iPhone   \n",
       "1 2019-04-01 03:14:06  3880.0    1043.0  Twitter for iPhone   \n",
       "2 2019-04-01 03:11:17  2993.0     765.0  Twitter for iPhone   \n",
       "3 2019-04-01 03:09:43  3464.0     855.0  Twitter for iPhone   \n",
       "4 2019-04-01 03:07:57  9735.0    1842.0  Twitter for iPhone   \n",
       "\n",
       "                                                text                date  \n",
       "0  I bow to His Holiness Dr. Sree Sree Sree Sivak... 2019-04-01 03:28:25  \n",
       "1  Utkala Dibasa greetings to my sisters and brot... 2019-04-01 03:14:06  \n",
       "2  సికింద్రాబాద్... భారత్‌ను మరింత సంపన్నమైన దేశం... 2019-04-01 03:11:17  \n",
       "3  ఈరోజు నేను రాజమండ్రిలో ఒక ర్యాలీలో మాట్లాడుతున... 2019-04-01 03:09:43  \n",
       "4  केंद्र आणि राज्य सरकारने जी लोकाभिमुख कामे केल... 2019-04-01 03:07:57  "
      ]
     },
     "execution_count": 30,
     "metadata": {},
     "output_type": "execute_result"
    }
   ],
   "source": [
    "df_modi_tweets['date'] = pd.to_datetime(df_modi_tweets['created_at'])\n",
    "df_modi_tweets.head()"
   ]
  },
  {
   "cell_type": "code",
   "execution_count": 31,
   "metadata": {},
   "outputs": [
    {
     "data": {
      "text/plain": [
       "Timestamp('2018-06-21 10:36:05')"
      ]
     },
     "execution_count": 31,
     "metadata": {},
     "output_type": "execute_result"
    }
   ],
   "source": [
    "df_modi_tweets['date'].min()"
   ]
  },
  {
   "cell_type": "code",
   "execution_count": 32,
   "metadata": {},
   "outputs": [
    {
     "data": {
      "text/html": [
       "<div>\n",
       "<style scoped>\n",
       "    .dataframe tbody tr th:only-of-type {\n",
       "        vertical-align: middle;\n",
       "    }\n",
       "\n",
       "    .dataframe tbody tr th {\n",
       "        vertical-align: top;\n",
       "    }\n",
       "\n",
       "    .dataframe thead th {\n",
       "        text-align: right;\n",
       "    }\n",
       "</style>\n",
       "<table border=\"1\" class=\"dataframe\">\n",
       "  <thead>\n",
       "    <tr style=\"text-align: right;\">\n",
       "      <th></th>\n",
       "      <th>created_at</th>\n",
       "      <th>likes</th>\n",
       "      <th>retweets</th>\n",
       "      <th>source</th>\n",
       "      <th>text</th>\n",
       "      <th>date</th>\n",
       "      <th>hour</th>\n",
       "    </tr>\n",
       "  </thead>\n",
       "  <tbody>\n",
       "    <tr>\n",
       "      <th>0</th>\n",
       "      <td>2019-04-01 03:28:25</td>\n",
       "      <td>6221.0</td>\n",
       "      <td>1575.0</td>\n",
       "      <td>Twitter for iPhone</td>\n",
       "      <td>I bow to His Holiness Dr. Sree Sree Sree Sivak...</td>\n",
       "      <td>2019-04-01 03:28:25</td>\n",
       "      <td>3</td>\n",
       "    </tr>\n",
       "    <tr>\n",
       "      <th>1</th>\n",
       "      <td>2019-04-01 03:14:06</td>\n",
       "      <td>3880.0</td>\n",
       "      <td>1043.0</td>\n",
       "      <td>Twitter for iPhone</td>\n",
       "      <td>Utkala Dibasa greetings to my sisters and brot...</td>\n",
       "      <td>2019-04-01 03:14:06</td>\n",
       "      <td>3</td>\n",
       "    </tr>\n",
       "    <tr>\n",
       "      <th>2</th>\n",
       "      <td>2019-04-01 03:11:17</td>\n",
       "      <td>2993.0</td>\n",
       "      <td>765.0</td>\n",
       "      <td>Twitter for iPhone</td>\n",
       "      <td>సికింద్రాబాద్... భారత్‌ను మరింత సంపన్నమైన దేశం...</td>\n",
       "      <td>2019-04-01 03:11:17</td>\n",
       "      <td>3</td>\n",
       "    </tr>\n",
       "    <tr>\n",
       "      <th>3</th>\n",
       "      <td>2019-04-01 03:09:43</td>\n",
       "      <td>3464.0</td>\n",
       "      <td>855.0</td>\n",
       "      <td>Twitter for iPhone</td>\n",
       "      <td>ఈరోజు నేను రాజమండ్రిలో ఒక ర్యాలీలో మాట్లాడుతున...</td>\n",
       "      <td>2019-04-01 03:09:43</td>\n",
       "      <td>3</td>\n",
       "    </tr>\n",
       "    <tr>\n",
       "      <th>4</th>\n",
       "      <td>2019-04-01 03:07:57</td>\n",
       "      <td>9735.0</td>\n",
       "      <td>1842.0</td>\n",
       "      <td>Twitter for iPhone</td>\n",
       "      <td>केंद्र आणि राज्य सरकारने जी लोकाभिमुख कामे केल...</td>\n",
       "      <td>2019-04-01 03:07:57</td>\n",
       "      <td>3</td>\n",
       "    </tr>\n",
       "  </tbody>\n",
       "</table>\n",
       "</div>"
      ],
      "text/plain": [
       "           created_at   likes  retweets              source  \\\n",
       "0 2019-04-01 03:28:25  6221.0    1575.0  Twitter for iPhone   \n",
       "1 2019-04-01 03:14:06  3880.0    1043.0  Twitter for iPhone   \n",
       "2 2019-04-01 03:11:17  2993.0     765.0  Twitter for iPhone   \n",
       "3 2019-04-01 03:09:43  3464.0     855.0  Twitter for iPhone   \n",
       "4 2019-04-01 03:07:57  9735.0    1842.0  Twitter for iPhone   \n",
       "\n",
       "                                                text                date  hour  \n",
       "0  I bow to His Holiness Dr. Sree Sree Sree Sivak... 2019-04-01 03:28:25     3  \n",
       "1  Utkala Dibasa greetings to my sisters and brot... 2019-04-01 03:14:06     3  \n",
       "2  సికింద్రాబాద్... భారత్‌ను మరింత సంపన్నమైన దేశం... 2019-04-01 03:11:17     3  \n",
       "3  ఈరోజు నేను రాజమండ్రిలో ఒక ర్యాలీలో మాట్లాడుతున... 2019-04-01 03:09:43     3  \n",
       "4  केंद्र आणि राज्य सरकारने जी लोकाभिमुख कामे केल... 2019-04-01 03:07:57     3  "
      ]
     },
     "execution_count": 32,
     "metadata": {},
     "output_type": "execute_result"
    }
   ],
   "source": [
    "df_modi_tweets['hour'] = df_modi_tweets['date'].dt.hour\n",
    "df_modi_tweets.head()"
   ]
  },
  {
   "cell_type": "code",
   "execution_count": 34,
   "metadata": {},
   "outputs": [
    {
     "data": {
      "text/plain": [
       "<matplotlib.axes._subplots.AxesSubplot at 0x234e8f15668>"
      ]
     },
     "execution_count": 34,
     "metadata": {},
     "output_type": "execute_result"
    },
    {
     "data": {
      "image/png": "[encoded data removed]",
      "text/plain": [
       "<Figure size 432x288 with 1 Axes>"
      ]
     },
     "metadata": {
      "needs_background": "light"
     },
     "output_type": "display_data"
    }
   ],
   "source": [
    "df_modi_tweets['hour'].value_counts().sort_index().plot.line()"
   ]
  },
  {
   "cell_type": "code",
   "execution_count": 36,
   "metadata": {},
   "outputs": [],
   "source": [
    "#to convert from one timezone to another\n",
    "from pytz import timezone"
   ]
  },
  {
   "cell_type": "code",
   "execution_count": 42,
   "metadata": {},
   "outputs": [
    {
     "data": {
      "text/plain": [
       "<DstTzInfo 'Asia/Kolkata' LMT+5:53:00 STD>"
      ]
     },
     "execution_count": 42,
     "metadata": {},
     "output_type": "execute_result"
    }
   ],
   "source": [
    "indiatzone = timezone('Asia/Kolkata')\n",
    "indiatzone"
   ]
  },
  {
   "cell_type": "code",
   "execution_count": 45,
   "metadata": {},
   "outputs": [
    {
     "ename": "ValueError",
     "evalue": "Naive time - no tzinfo set",
     "output_type": "error",
     "traceback": [
      "\u001b[1;31m---------------------------------------------------------------------------\u001b[0m",
      "\u001b[1;31mValueError\u001b[0m                                Traceback (most recent call last)",
      "\u001b[1;32m<ipython-input-45-546d0b0b7b44>\u001b[0m in \u001b[0;36m<module>\u001b[1;34m\u001b[0m\n\u001b[1;32m----> 1\u001b[1;33m \u001b[0mdf_modi_tweets\u001b[0m\u001b[1;33m[\u001b[0m\u001b[1;34m'date'\u001b[0m\u001b[1;33m]\u001b[0m\u001b[1;33m.\u001b[0m\u001b[0mapply\u001b[0m\u001b[1;33m(\u001b[0m\u001b[1;32mlambda\u001b[0m \u001b[0mx\u001b[0m\u001b[1;33m:\u001b[0m\u001b[0mindiatzone\u001b[0m\u001b[1;33m.\u001b[0m\u001b[0mnormalize\u001b[0m\u001b[1;33m(\u001b[0m\u001b[0mx\u001b[0m\u001b[1;33m)\u001b[0m\u001b[1;33m)\u001b[0m\u001b[1;33m\u001b[0m\u001b[1;33m\u001b[0m\u001b[0m\n\u001b[0m",
      "\u001b[1;32mC:\\ProgramData\\Anaconda3\\lib\\site-packages\\pandas\\core\\series.py\u001b[0m in \u001b[0;36mapply\u001b[1;34m(self, func, convert_dtype, args, **kwds)\u001b[0m\n\u001b[0;32m   3192\u001b[0m             \u001b[1;32melse\u001b[0m\u001b[1;33m:\u001b[0m\u001b[1;33m\u001b[0m\u001b[1;33m\u001b[0m\u001b[0m\n\u001b[0;32m   3193\u001b[0m                 \u001b[0mvalues\u001b[0m \u001b[1;33m=\u001b[0m \u001b[0mself\u001b[0m\u001b[1;33m.\u001b[0m\u001b[0mastype\u001b[0m\u001b[1;33m(\u001b[0m\u001b[0mobject\u001b[0m\u001b[1;33m)\u001b[0m\u001b[1;33m.\u001b[0m\u001b[0mvalues\u001b[0m\u001b[1;33m\u001b[0m\u001b[1;33m\u001b[0m\u001b[0m\n\u001b[1;32m-> 3194\u001b[1;33m                 \u001b[0mmapped\u001b[0m \u001b[1;33m=\u001b[0m \u001b[0mlib\u001b[0m\u001b[1;33m.\u001b[0m\u001b[0mmap_infer\u001b[0m\u001b[1;33m(\u001b[0m\u001b[0mvalues\u001b[0m\u001b[1;33m,\u001b[0m \u001b[0mf\u001b[0m\u001b[1;33m,\u001b[0m \u001b[0mconvert\u001b[0m\u001b[1;33m=\u001b[0m\u001b[0mconvert_dtype\u001b[0m\u001b[1;33m)\u001b[0m\u001b[1;33m\u001b[0m\u001b[1;33m\u001b[0m\u001b[0m\n\u001b[0m\u001b[0;32m   3195\u001b[0m \u001b[1;33m\u001b[0m\u001b[0m\n\u001b[0;32m   3196\u001b[0m         \u001b[1;32mif\u001b[0m \u001b[0mlen\u001b[0m\u001b[1;33m(\u001b[0m\u001b[0mmapped\u001b[0m\u001b[1;33m)\u001b[0m \u001b[1;32mand\u001b[0m \u001b[0misinstance\u001b[0m\u001b[1;33m(\u001b[0m\u001b[0mmapped\u001b[0m\u001b[1;33m[\u001b[0m\u001b[1;36m0\u001b[0m\u001b[1;33m]\u001b[0m\u001b[1;33m,\u001b[0m \u001b[0mSeries\u001b[0m\u001b[1;33m)\u001b[0m\u001b[1;33m:\u001b[0m\u001b[1;33m\u001b[0m\u001b[1;33m\u001b[0m\u001b[0m\n",
      "\u001b[1;32mpandas/_libs/src\\inference.pyx\u001b[0m in \u001b[0;36mpandas._libs.lib.map_infer\u001b[1;34m()\u001b[0m\n",
      "\u001b[1;32m<ipython-input-45-546d0b0b7b44>\u001b[0m in \u001b[0;36m<lambda>\u001b[1;34m(x)\u001b[0m\n\u001b[1;32m----> 1\u001b[1;33m \u001b[0mdf_modi_tweets\u001b[0m\u001b[1;33m[\u001b[0m\u001b[1;34m'date'\u001b[0m\u001b[1;33m]\u001b[0m\u001b[1;33m.\u001b[0m\u001b[0mapply\u001b[0m\u001b[1;33m(\u001b[0m\u001b[1;32mlambda\u001b[0m \u001b[0mx\u001b[0m\u001b[1;33m:\u001b[0m\u001b[0mindiatzone\u001b[0m\u001b[1;33m.\u001b[0m\u001b[0mnormalize\u001b[0m\u001b[1;33m(\u001b[0m\u001b[0mx\u001b[0m\u001b[1;33m)\u001b[0m\u001b[1;33m)\u001b[0m\u001b[1;33m\u001b[0m\u001b[1;33m\u001b[0m\u001b[0m\n\u001b[0m",
      "\u001b[1;32mC:\\ProgramData\\Anaconda3\\lib\\site-packages\\pytz\\tzinfo.py\u001b[0m in \u001b[0;36mnormalize\u001b[1;34m(self, dt)\u001b[0m\n\u001b[0;32m    247\u001b[0m         '''\n\u001b[0;32m    248\u001b[0m         \u001b[1;32mif\u001b[0m \u001b[0mdt\u001b[0m\u001b[1;33m.\u001b[0m\u001b[0mtzinfo\u001b[0m \u001b[1;32mis\u001b[0m \u001b[1;32mNone\u001b[0m\u001b[1;33m:\u001b[0m\u001b[1;33m\u001b[0m\u001b[1;33m\u001b[0m\u001b[0m\n\u001b[1;32m--> 249\u001b[1;33m             \u001b[1;32mraise\u001b[0m \u001b[0mValueError\u001b[0m\u001b[1;33m(\u001b[0m\u001b[1;34m'Naive time - no tzinfo set'\u001b[0m\u001b[1;33m)\u001b[0m\u001b[1;33m\u001b[0m\u001b[1;33m\u001b[0m\u001b[0m\n\u001b[0m\u001b[0;32m    250\u001b[0m \u001b[1;33m\u001b[0m\u001b[0m\n\u001b[0;32m    251\u001b[0m         \u001b[1;31m# Convert dt in localtime to UTC\u001b[0m\u001b[1;33m\u001b[0m\u001b[1;33m\u001b[0m\u001b[1;33m\u001b[0m\u001b[0m\n",
      "\u001b[1;31mValueError\u001b[0m: Naive time - no tzinfo set"
     ]
    }
   ],
   "source": [
    "df_modi_tweets['date'].apply(lambda x:indiatzone.normalize(x))"
   ]
  },
  {
   "cell_type": "code",
   "execution_count": 49,
   "metadata": {},
   "outputs": [
    {
     "data": {
      "text/plain": [
       "<matplotlib.image.AxesImage at 0x234ebcf54a8>"
      ]
     },
     "execution_count": 49,
     "metadata": {},
     "output_type": "execute_result"
    },
    {
     "data": {
      "image/png": "[encoded data removed]",
      "text/plain": [
       "<Figure size 432x288 with 1 Axes>"
      ]
     },
     "metadata": {
      "needs_background": "light"
     },
     "output_type": "display_data"
    }
   ],
   "source": [
    "from wordcloud import WordCloud\n",
    "import matplotlib.pyplot as plt\n",
    "docs = df_modi_tweets['text'].str.lower()\n",
    "docs = docs.str.replace('https','').str.replace('co','')\n",
    "wc = WordCloud(background_color='white').generate(' '.join(docs))\n",
    "plt.imshow(wc)"
   ]
  },
  {
   "cell_type": "markdown",
   "metadata": {},
   "source": [
    "# Identify frequency of each hashtag used by modi"
   ]
  },
  {
   "cell_type": "code",
   "execution_count": 54,
   "metadata": {
    "scrolled": false
   },
   "outputs": [
    {
     "data": {
      "text/plain": [
       "['#MainBhiChowkidar.',\n",
       " '#MainBhiChowkidar',\n",
       " '#MainBhiChowkidar',\n",
       " '#MainBhiChowkidar',\n",
       " '#ModiSpeaksToBharat']"
      ]
     },
     "execution_count": 54,
     "metadata": {},
     "output_type": "execute_result"
    }
   ],
   "source": [
    "hashtags = []\n",
    "hashtags = [word for text in df_modi_tweets['text'] for word in text.split() if word.startswith('#')]\n",
    "hashtags[:5]"
   ]
  },
  {
   "cell_type": "code",
   "execution_count": 56,
   "metadata": {},
   "outputs": [
    {
     "data": {
      "text/plain": [
       "145"
      ]
     },
     "execution_count": 56,
     "metadata": {},
     "output_type": "execute_result"
    }
   ],
   "source": [
    "len(set(hashtags))"
   ]
  },
  {
   "cell_type": "code",
   "execution_count": 59,
   "metadata": {},
   "outputs": [
    {
     "data": {
      "text/plain": [
       "#Gandhi150                   32\n",
       "#MannKiBaat                  31\n",
       "#ModiSpeaksToBharat          10\n",
       "#MainBhiChowkidar             7\n",
       "#MannKiBaat.                  7\n",
       "#AsianGames2018               6\n",
       "#WorldTourismDay              6\n",
       "#InternationalYogaDay2018     5\n",
       "#IndependenceDayIndia         4\n",
       "#Yoga                         4\n",
       "dtype: int64"
      ]
     },
     "execution_count": 59,
     "metadata": {},
     "output_type": "execute_result"
    }
   ],
   "source": [
    "pd.Series(hashtags).value_counts().nlargest(10)"
   ]
  },
  {
   "cell_type": "code",
   "execution_count": 63,
   "metadata": {},
   "outputs": [
    {
     "data": {
      "text/plain": [
       "<matplotlib.axes._subplots.AxesSubplot at 0x234eaad4fd0>"
      ]
     },
     "execution_count": 63,
     "metadata": {},
     "output_type": "execute_result"
    },
    {
     "data": {
      "image/png": "[encoded data removed]",
      "text/plain": [
       "<Figure size 432x288 with 1 Axes>"
      ]
     },
     "metadata": {
      "needs_background": "light"
     },
     "output_type": "display_data"
    }
   ],
   "source": [
    "pd.Series(hashtags).value_counts().nlargest(10).plot.barh()"
   ]
  },
  {
   "cell_type": "code",
   "execution_count": 65,
   "metadata": {},
   "outputs": [
    {
     "data": {
      "text/html": [
       "<div>\n",
       "<style scoped>\n",
       "    .dataframe tbody tr th:only-of-type {\n",
       "        vertical-align: middle;\n",
       "    }\n",
       "\n",
       "    .dataframe tbody tr th {\n",
       "        vertical-align: top;\n",
       "    }\n",
       "\n",
       "    .dataframe thead th {\n",
       "        text-align: right;\n",
       "    }\n",
       "</style>\n",
       "<table border=\"1\" class=\"dataframe\">\n",
       "  <thead>\n",
       "    <tr style=\"text-align: right;\">\n",
       "      <th></th>\n",
       "      <th>created_at</th>\n",
       "      <th>likes</th>\n",
       "      <th>retweets</th>\n",
       "      <th>source</th>\n",
       "      <th>text</th>\n",
       "      <th>date</th>\n",
       "      <th>hour</th>\n",
       "      <th>month</th>\n",
       "    </tr>\n",
       "  </thead>\n",
       "  <tbody>\n",
       "    <tr>\n",
       "      <th>0</th>\n",
       "      <td>2019-04-01 03:28:25</td>\n",
       "      <td>6221.0</td>\n",
       "      <td>1575.0</td>\n",
       "      <td>Twitter for iPhone</td>\n",
       "      <td>I bow to His Holiness Dr. Sree Sree Sree Sivak...</td>\n",
       "      <td>2019-04-01 03:28:25</td>\n",
       "      <td>3</td>\n",
       "      <td>4</td>\n",
       "    </tr>\n",
       "    <tr>\n",
       "      <th>1</th>\n",
       "      <td>2019-04-01 03:14:06</td>\n",
       "      <td>3880.0</td>\n",
       "      <td>1043.0</td>\n",
       "      <td>Twitter for iPhone</td>\n",
       "      <td>Utkala Dibasa greetings to my sisters and brot...</td>\n",
       "      <td>2019-04-01 03:14:06</td>\n",
       "      <td>3</td>\n",
       "      <td>4</td>\n",
       "    </tr>\n",
       "    <tr>\n",
       "      <th>2</th>\n",
       "      <td>2019-04-01 03:11:17</td>\n",
       "      <td>2993.0</td>\n",
       "      <td>765.0</td>\n",
       "      <td>Twitter for iPhone</td>\n",
       "      <td>సికింద్రాబాద్... భారత్‌ను మరింత సంపన్నమైన దేశం...</td>\n",
       "      <td>2019-04-01 03:11:17</td>\n",
       "      <td>3</td>\n",
       "      <td>4</td>\n",
       "    </tr>\n",
       "    <tr>\n",
       "      <th>3</th>\n",
       "      <td>2019-04-01 03:09:43</td>\n",
       "      <td>3464.0</td>\n",
       "      <td>855.0</td>\n",
       "      <td>Twitter for iPhone</td>\n",
       "      <td>ఈరోజు నేను రాజమండ్రిలో ఒక ర్యాలీలో మాట్లాడుతున...</td>\n",
       "      <td>2019-04-01 03:09:43</td>\n",
       "      <td>3</td>\n",
       "      <td>4</td>\n",
       "    </tr>\n",
       "    <tr>\n",
       "      <th>4</th>\n",
       "      <td>2019-04-01 03:07:57</td>\n",
       "      <td>9735.0</td>\n",
       "      <td>1842.0</td>\n",
       "      <td>Twitter for iPhone</td>\n",
       "      <td>केंद्र आणि राज्य सरकारने जी लोकाभिमुख कामे केल...</td>\n",
       "      <td>2019-04-01 03:07:57</td>\n",
       "      <td>3</td>\n",
       "      <td>4</td>\n",
       "    </tr>\n",
       "  </tbody>\n",
       "</table>\n",
       "</div>"
      ],
      "text/plain": [
       "           created_at   likes  retweets              source  \\\n",
       "0 2019-04-01 03:28:25  6221.0    1575.0  Twitter for iPhone   \n",
       "1 2019-04-01 03:14:06  3880.0    1043.0  Twitter for iPhone   \n",
       "2 2019-04-01 03:11:17  2993.0     765.0  Twitter for iPhone   \n",
       "3 2019-04-01 03:09:43  3464.0     855.0  Twitter for iPhone   \n",
       "4 2019-04-01 03:07:57  9735.0    1842.0  Twitter for iPhone   \n",
       "\n",
       "                                                text                date  \\\n",
       "0  I bow to His Holiness Dr. Sree Sree Sree Sivak... 2019-04-01 03:28:25   \n",
       "1  Utkala Dibasa greetings to my sisters and brot... 2019-04-01 03:14:06   \n",
       "2  సికింద్రాబాద్... భారత్‌ను మరింత సంపన్నమైన దేశం... 2019-04-01 03:11:17   \n",
       "3  ఈరోజు నేను రాజమండ్రిలో ఒక ర్యాలీలో మాట్లాడుతున... 2019-04-01 03:09:43   \n",
       "4  केंद्र आणि राज्य सरकारने जी लोकाभिमुख कामे केल... 2019-04-01 03:07:57   \n",
       "\n",
       "   hour  month  \n",
       "0     3      4  \n",
       "1     3      4  \n",
       "2     3      4  \n",
       "3     3      4  \n",
       "4     3      4  "
      ]
     },
     "execution_count": 65,
     "metadata": {},
     "output_type": "execute_result"
    }
   ],
   "source": [
    "df_modi_tweets['month'] = df_modi_tweets['date'].dt.month\n",
    "df_modi_tweets.head()"
   ]
  },
  {
   "cell_type": "markdown",
   "metadata": {},
   "source": [
    "# Frequency of a hashtag across month"
   ]
  },
  {
   "cell_type": "code",
   "execution_count": 70,
   "metadata": {},
   "outputs": [
    {
     "data": {
      "text/html": [
       "<div>\n",
       "<style scoped>\n",
       "    .dataframe tbody tr th:only-of-type {\n",
       "        vertical-align: middle;\n",
       "    }\n",
       "\n",
       "    .dataframe tbody tr th {\n",
       "        vertical-align: top;\n",
       "    }\n",
       "\n",
       "    .dataframe thead th {\n",
       "        text-align: right;\n",
       "    }\n",
       "</style>\n",
       "<table border=\"1\" class=\"dataframe\">\n",
       "  <thead>\n",
       "    <tr style=\"text-align: right;\">\n",
       "      <th></th>\n",
       "      <th>created_at</th>\n",
       "      <th>likes</th>\n",
       "      <th>retweets</th>\n",
       "      <th>source</th>\n",
       "      <th>text</th>\n",
       "      <th>date</th>\n",
       "      <th>hour</th>\n",
       "      <th>month</th>\n",
       "      <th>MannKiBaat</th>\n",
       "    </tr>\n",
       "  </thead>\n",
       "  <tbody>\n",
       "    <tr>\n",
       "      <th>0</th>\n",
       "      <td>2019-04-01 03:28:25</td>\n",
       "      <td>6221.0</td>\n",
       "      <td>1575.0</td>\n",
       "      <td>Twitter for iPhone</td>\n",
       "      <td>I bow to His Holiness Dr. Sree Sree Sree Sivak...</td>\n",
       "      <td>2019-04-01 03:28:25</td>\n",
       "      <td>3</td>\n",
       "      <td>4</td>\n",
       "      <td>0</td>\n",
       "    </tr>\n",
       "    <tr>\n",
       "      <th>1</th>\n",
       "      <td>2019-04-01 03:14:06</td>\n",
       "      <td>3880.0</td>\n",
       "      <td>1043.0</td>\n",
       "      <td>Twitter for iPhone</td>\n",
       "      <td>Utkala Dibasa greetings to my sisters and brot...</td>\n",
       "      <td>2019-04-01 03:14:06</td>\n",
       "      <td>3</td>\n",
       "      <td>4</td>\n",
       "      <td>0</td>\n",
       "    </tr>\n",
       "    <tr>\n",
       "      <th>2</th>\n",
       "      <td>2019-04-01 03:11:17</td>\n",
       "      <td>2993.0</td>\n",
       "      <td>765.0</td>\n",
       "      <td>Twitter for iPhone</td>\n",
       "      <td>సికింద్రాబాద్... భారత్‌ను మరింత సంపన్నమైన దేశం...</td>\n",
       "      <td>2019-04-01 03:11:17</td>\n",
       "      <td>3</td>\n",
       "      <td>4</td>\n",
       "      <td>0</td>\n",
       "    </tr>\n",
       "    <tr>\n",
       "      <th>3</th>\n",
       "      <td>2019-04-01 03:09:43</td>\n",
       "      <td>3464.0</td>\n",
       "      <td>855.0</td>\n",
       "      <td>Twitter for iPhone</td>\n",
       "      <td>ఈరోజు నేను రాజమండ్రిలో ఒక ర్యాలీలో మాట్లాడుతున...</td>\n",
       "      <td>2019-04-01 03:09:43</td>\n",
       "      <td>3</td>\n",
       "      <td>4</td>\n",
       "      <td>0</td>\n",
       "    </tr>\n",
       "    <tr>\n",
       "      <th>4</th>\n",
       "      <td>2019-04-01 03:07:57</td>\n",
       "      <td>9735.0</td>\n",
       "      <td>1842.0</td>\n",
       "      <td>Twitter for iPhone</td>\n",
       "      <td>केंद्र आणि राज्य सरकारने जी लोकाभिमुख कामे केल...</td>\n",
       "      <td>2019-04-01 03:07:57</td>\n",
       "      <td>3</td>\n",
       "      <td>4</td>\n",
       "      <td>0</td>\n",
       "    </tr>\n",
       "  </tbody>\n",
       "</table>\n",
       "</div>"
      ],
      "text/plain": [
       "           created_at   likes  retweets              source  \\\n",
       "0 2019-04-01 03:28:25  6221.0    1575.0  Twitter for iPhone   \n",
       "1 2019-04-01 03:14:06  3880.0    1043.0  Twitter for iPhone   \n",
       "2 2019-04-01 03:11:17  2993.0     765.0  Twitter for iPhone   \n",
       "3 2019-04-01 03:09:43  3464.0     855.0  Twitter for iPhone   \n",
       "4 2019-04-01 03:07:57  9735.0    1842.0  Twitter for iPhone   \n",
       "\n",
       "                                                text                date  \\\n",
       "0  I bow to His Holiness Dr. Sree Sree Sree Sivak... 2019-04-01 03:28:25   \n",
       "1  Utkala Dibasa greetings to my sisters and brot... 2019-04-01 03:14:06   \n",
       "2  సికింద్రాబాద్... భారత్‌ను మరింత సంపన్నమైన దేశం... 2019-04-01 03:11:17   \n",
       "3  ఈరోజు నేను రాజమండ్రిలో ఒక ర్యాలీలో మాట్లాడుతున... 2019-04-01 03:09:43   \n",
       "4  केंद्र आणि राज्य सरकारने जी लोकाभिमुख कामे केल... 2019-04-01 03:07:57   \n",
       "\n",
       "   hour  month  MannKiBaat  \n",
       "0     3      4           0  \n",
       "1     3      4           0  \n",
       "2     3      4           0  \n",
       "3     3      4           0  \n",
       "4     3      4           0  "
      ]
     },
     "execution_count": 70,
     "metadata": {},
     "output_type": "execute_result"
    }
   ],
   "source": [
    "def hashtag(txt):\n",
    "    if '#MannKiBaat' in txt:\n",
    "        return 1\n",
    "    else :\n",
    "        return 0\n",
    "                    \n",
    "df_modi_tweets['MannKiBaat'] = df_modi_tweets['text'].apply(hashtag)  #lambda x: 1 if '#MannKiBaat' in x else 0\n",
    "df_modi_tweets.head()"
   ]
  },
  {
   "cell_type": "code",
   "execution_count": 87,
   "metadata": {},
   "outputs": [
    {
     "data": {
      "text/html": [
       "<div>\n",
       "<style scoped>\n",
       "    .dataframe tbody tr th:only-of-type {\n",
       "        vertical-align: middle;\n",
       "    }\n",
       "\n",
       "    .dataframe tbody tr th {\n",
       "        vertical-align: top;\n",
       "    }\n",
       "\n",
       "    .dataframe thead th {\n",
       "        text-align: right;\n",
       "    }\n",
       "</style>\n",
       "<table border=\"1\" class=\"dataframe\">\n",
       "  <thead>\n",
       "    <tr style=\"text-align: right;\">\n",
       "      <th></th>\n",
       "      <th>created_at</th>\n",
       "      <th>likes</th>\n",
       "      <th>retweets</th>\n",
       "      <th>source</th>\n",
       "      <th>text</th>\n",
       "      <th>date</th>\n",
       "      <th>hour</th>\n",
       "      <th>month</th>\n",
       "      <th>MannKiBaat</th>\n",
       "      <th>month_year</th>\n",
       "    </tr>\n",
       "  </thead>\n",
       "  <tbody>\n",
       "    <tr>\n",
       "      <th>0</th>\n",
       "      <td>2019-04-01 03:28:25</td>\n",
       "      <td>6221.0</td>\n",
       "      <td>1575.0</td>\n",
       "      <td>Twitter for iPhone</td>\n",
       "      <td>I bow to His Holiness Dr. Sree Sree Sree Sivak...</td>\n",
       "      <td>2019-04-01 03:28:25</td>\n",
       "      <td>3</td>\n",
       "      <td>4</td>\n",
       "      <td>0</td>\n",
       "      <td>19-04</td>\n",
       "    </tr>\n",
       "    <tr>\n",
       "      <th>1</th>\n",
       "      <td>2019-04-01 03:14:06</td>\n",
       "      <td>3880.0</td>\n",
       "      <td>1043.0</td>\n",
       "      <td>Twitter for iPhone</td>\n",
       "      <td>Utkala Dibasa greetings to my sisters and brot...</td>\n",
       "      <td>2019-04-01 03:14:06</td>\n",
       "      <td>3</td>\n",
       "      <td>4</td>\n",
       "      <td>0</td>\n",
       "      <td>19-04</td>\n",
       "    </tr>\n",
       "    <tr>\n",
       "      <th>2</th>\n",
       "      <td>2019-04-01 03:11:17</td>\n",
       "      <td>2993.0</td>\n",
       "      <td>765.0</td>\n",
       "      <td>Twitter for iPhone</td>\n",
       "      <td>సికింద్రాబాద్... భారత్‌ను మరింత సంపన్నమైన దేశం...</td>\n",
       "      <td>2019-04-01 03:11:17</td>\n",
       "      <td>3</td>\n",
       "      <td>4</td>\n",
       "      <td>0</td>\n",
       "      <td>19-04</td>\n",
       "    </tr>\n",
       "    <tr>\n",
       "      <th>3</th>\n",
       "      <td>2019-04-01 03:09:43</td>\n",
       "      <td>3464.0</td>\n",
       "      <td>855.0</td>\n",
       "      <td>Twitter for iPhone</td>\n",
       "      <td>ఈరోజు నేను రాజమండ్రిలో ఒక ర్యాలీలో మాట్లాడుతున...</td>\n",
       "      <td>2019-04-01 03:09:43</td>\n",
       "      <td>3</td>\n",
       "      <td>4</td>\n",
       "      <td>0</td>\n",
       "      <td>19-04</td>\n",
       "    </tr>\n",
       "    <tr>\n",
       "      <th>4</th>\n",
       "      <td>2019-04-01 03:07:57</td>\n",
       "      <td>9735.0</td>\n",
       "      <td>1842.0</td>\n",
       "      <td>Twitter for iPhone</td>\n",
       "      <td>केंद्र आणि राज्य सरकारने जी लोकाभिमुख कामे केल...</td>\n",
       "      <td>2019-04-01 03:07:57</td>\n",
       "      <td>3</td>\n",
       "      <td>4</td>\n",
       "      <td>0</td>\n",
       "      <td>19-04</td>\n",
       "    </tr>\n",
       "  </tbody>\n",
       "</table>\n",
       "</div>"
      ],
      "text/plain": [
       "           created_at   likes  retweets              source  \\\n",
       "0 2019-04-01 03:28:25  6221.0    1575.0  Twitter for iPhone   \n",
       "1 2019-04-01 03:14:06  3880.0    1043.0  Twitter for iPhone   \n",
       "2 2019-04-01 03:11:17  2993.0     765.0  Twitter for iPhone   \n",
       "3 2019-04-01 03:09:43  3464.0     855.0  Twitter for iPhone   \n",
       "4 2019-04-01 03:07:57  9735.0    1842.0  Twitter for iPhone   \n",
       "\n",
       "                                                text                date  \\\n",
       "0  I bow to His Holiness Dr. Sree Sree Sree Sivak... 2019-04-01 03:28:25   \n",
       "1  Utkala Dibasa greetings to my sisters and brot... 2019-04-01 03:14:06   \n",
       "2  సికింద్రాబాద్... భారత్‌ను మరింత సంపన్నమైన దేశం... 2019-04-01 03:11:17   \n",
       "3  ఈరోజు నేను రాజమండ్రిలో ఒక ర్యాలీలో మాట్లాడుతున... 2019-04-01 03:09:43   \n",
       "4  केंद्र आणि राज्य सरकारने जी लोकाभिमुख कामे केल... 2019-04-01 03:07:57   \n",
       "\n",
       "   hour  month  MannKiBaat month_year  \n",
       "0     3      4           0      19-04  \n",
       "1     3      4           0      19-04  \n",
       "2     3      4           0      19-04  \n",
       "3     3      4           0      19-04  \n",
       "4     3      4           0      19-04  "
      ]
     },
     "execution_count": 87,
     "metadata": {},
     "output_type": "execute_result"
    }
   ],
   "source": [
    "df_modi_tweets['month_year'] = df_modi_tweets['date'].dt.strftime('%y-%m')\n",
    "df_modi_tweets.head()"
   ]
  },
  {
   "cell_type": "code",
   "execution_count": 90,
   "metadata": {},
   "outputs": [
    {
     "data": {
      "text/plain": [
       "<matplotlib.axes._subplots.AxesSubplot at 0x234ed6a6748>"
      ]
     },
     "execution_count": 90,
     "metadata": {},
     "output_type": "execute_result"
    },
    {
     "data": {
      "image/png": "[encoded data removed]",
      "text/plain": [
       "<Figure size 432x288 with 1 Axes>"
      ]
     },
     "metadata": {
      "needs_background": "light"
     },
     "output_type": "display_data"
    }
   ],
   "source": [
    "df_modi_tweets[df_modi_tweets['MannKiBaat'] == 1][['month_year','MannKiBaat']].groupby('month_year').size().plot.bar()"
   ]
  },
  {
   "cell_type": "code",
   "execution_count": 91,
   "metadata": {},
   "outputs": [
    {
     "data": {
      "text/html": [
       "<div>\n",
       "<style scoped>\n",
       "    .dataframe tbody tr th:only-of-type {\n",
       "        vertical-align: middle;\n",
       "    }\n",
       "\n",
       "    .dataframe tbody tr th {\n",
       "        vertical-align: top;\n",
       "    }\n",
       "\n",
       "    .dataframe thead th {\n",
       "        text-align: right;\n",
       "    }\n",
       "</style>\n",
       "<table border=\"1\" class=\"dataframe\">\n",
       "  <thead>\n",
       "    <tr style=\"text-align: right;\">\n",
       "      <th></th>\n",
       "      <th>created_at</th>\n",
       "      <th>likes</th>\n",
       "      <th>retweets</th>\n",
       "      <th>source</th>\n",
       "      <th>text</th>\n",
       "      <th>date</th>\n",
       "      <th>hour</th>\n",
       "      <th>month</th>\n",
       "      <th>MannKiBaat</th>\n",
       "      <th>month_year</th>\n",
       "      <th>day</th>\n",
       "      <th>weekday</th>\n",
       "    </tr>\n",
       "  </thead>\n",
       "  <tbody>\n",
       "    <tr>\n",
       "      <th>0</th>\n",
       "      <td>2019-04-01 03:28:25</td>\n",
       "      <td>6221.0</td>\n",
       "      <td>1575.0</td>\n",
       "      <td>Twitter for iPhone</td>\n",
       "      <td>I bow to His Holiness Dr. Sree Sree Sree Sivak...</td>\n",
       "      <td>2019-04-01 03:28:25</td>\n",
       "      <td>3</td>\n",
       "      <td>4</td>\n",
       "      <td>0</td>\n",
       "      <td>19-04</td>\n",
       "      <td>1</td>\n",
       "      <td>Monday</td>\n",
       "    </tr>\n",
       "    <tr>\n",
       "      <th>1</th>\n",
       "      <td>2019-04-01 03:14:06</td>\n",
       "      <td>3880.0</td>\n",
       "      <td>1043.0</td>\n",
       "      <td>Twitter for iPhone</td>\n",
       "      <td>Utkala Dibasa greetings to my sisters and brot...</td>\n",
       "      <td>2019-04-01 03:14:06</td>\n",
       "      <td>3</td>\n",
       "      <td>4</td>\n",
       "      <td>0</td>\n",
       "      <td>19-04</td>\n",
       "      <td>1</td>\n",
       "      <td>Monday</td>\n",
       "    </tr>\n",
       "    <tr>\n",
       "      <th>2</th>\n",
       "      <td>2019-04-01 03:11:17</td>\n",
       "      <td>2993.0</td>\n",
       "      <td>765.0</td>\n",
       "      <td>Twitter for iPhone</td>\n",
       "      <td>సికింద్రాబాద్... భారత్‌ను మరింత సంపన్నమైన దేశం...</td>\n",
       "      <td>2019-04-01 03:11:17</td>\n",
       "      <td>3</td>\n",
       "      <td>4</td>\n",
       "      <td>0</td>\n",
       "      <td>19-04</td>\n",
       "      <td>1</td>\n",
       "      <td>Monday</td>\n",
       "    </tr>\n",
       "    <tr>\n",
       "      <th>3</th>\n",
       "      <td>2019-04-01 03:09:43</td>\n",
       "      <td>3464.0</td>\n",
       "      <td>855.0</td>\n",
       "      <td>Twitter for iPhone</td>\n",
       "      <td>ఈరోజు నేను రాజమండ్రిలో ఒక ర్యాలీలో మాట్లాడుతున...</td>\n",
       "      <td>2019-04-01 03:09:43</td>\n",
       "      <td>3</td>\n",
       "      <td>4</td>\n",
       "      <td>0</td>\n",
       "      <td>19-04</td>\n",
       "      <td>1</td>\n",
       "      <td>Monday</td>\n",
       "    </tr>\n",
       "    <tr>\n",
       "      <th>4</th>\n",
       "      <td>2019-04-01 03:07:57</td>\n",
       "      <td>9735.0</td>\n",
       "      <td>1842.0</td>\n",
       "      <td>Twitter for iPhone</td>\n",
       "      <td>केंद्र आणि राज्य सरकारने जी लोकाभिमुख कामे केल...</td>\n",
       "      <td>2019-04-01 03:07:57</td>\n",
       "      <td>3</td>\n",
       "      <td>4</td>\n",
       "      <td>0</td>\n",
       "      <td>19-04</td>\n",
       "      <td>1</td>\n",
       "      <td>Monday</td>\n",
       "    </tr>\n",
       "  </tbody>\n",
       "</table>\n",
       "</div>"
      ],
      "text/plain": [
       "           created_at   likes  retweets              source  \\\n",
       "0 2019-04-01 03:28:25  6221.0    1575.0  Twitter for iPhone   \n",
       "1 2019-04-01 03:14:06  3880.0    1043.0  Twitter for iPhone   \n",
       "2 2019-04-01 03:11:17  2993.0     765.0  Twitter for iPhone   \n",
       "3 2019-04-01 03:09:43  3464.0     855.0  Twitter for iPhone   \n",
       "4 2019-04-01 03:07:57  9735.0    1842.0  Twitter for iPhone   \n",
       "\n",
       "                                                text                date  \\\n",
       "0  I bow to His Holiness Dr. Sree Sree Sree Sivak... 2019-04-01 03:28:25   \n",
       "1  Utkala Dibasa greetings to my sisters and brot... 2019-04-01 03:14:06   \n",
       "2  సికింద్రాబాద్... భారత్‌ను మరింత సంపన్నమైన దేశం... 2019-04-01 03:11:17   \n",
       "3  ఈరోజు నేను రాజమండ్రిలో ఒక ర్యాలీలో మాట్లాడుతున... 2019-04-01 03:09:43   \n",
       "4  केंद्र आणि राज्य सरकारने जी लोकाभिमुख कामे केल... 2019-04-01 03:07:57   \n",
       "\n",
       "   hour  month  MannKiBaat month_year  day weekday  \n",
       "0     3      4           0      19-04    1  Monday  \n",
       "1     3      4           0      19-04    1  Monday  \n",
       "2     3      4           0      19-04    1  Monday  \n",
       "3     3      4           0      19-04    1  Monday  \n",
       "4     3      4           0      19-04    1  Monday  "
      ]
     },
     "execution_count": 91,
     "metadata": {},
     "output_type": "execute_result"
    }
   ],
   "source": [
    "df_modi_tweets['day'] = df_modi_tweets['date'].dt.day\n",
    "df_modi_tweets['weekday'] = df_modi_tweets['date'].dt.strftime('%A')\n",
    "df_modi_tweets['hour'] = df_modi_tweets['date'].dt.hour\n",
    "df_modi_tweets.head()"
   ]
  },
  {
   "cell_type": "code",
   "execution_count": 93,
   "metadata": {},
   "outputs": [
    {
     "data": {
      "text/html": [
       "<div>\n",
       "<style scoped>\n",
       "    .dataframe tbody tr th:only-of-type {\n",
       "        vertical-align: middle;\n",
       "    }\n",
       "\n",
       "    .dataframe tbody tr th {\n",
       "        vertical-align: top;\n",
       "    }\n",
       "\n",
       "    .dataframe thead th {\n",
       "        text-align: right;\n",
       "    }\n",
       "</style>\n",
       "<table border=\"1\" class=\"dataframe\">\n",
       "  <thead>\n",
       "    <tr style=\"text-align: right;\">\n",
       "      <th></th>\n",
       "      <th>month_year</th>\n",
       "      <th>day</th>\n",
       "      <th>count</th>\n",
       "    </tr>\n",
       "  </thead>\n",
       "  <tbody>\n",
       "    <tr>\n",
       "      <th>0</th>\n",
       "      <td>18-06</td>\n",
       "      <td>21</td>\n",
       "      <td>34</td>\n",
       "    </tr>\n",
       "    <tr>\n",
       "      <th>1</th>\n",
       "      <td>18-06</td>\n",
       "      <td>22</td>\n",
       "      <td>3</td>\n",
       "    </tr>\n",
       "    <tr>\n",
       "      <th>2</th>\n",
       "      <td>18-06</td>\n",
       "      <td>23</td>\n",
       "      <td>11</td>\n",
       "    </tr>\n",
       "    <tr>\n",
       "      <th>3</th>\n",
       "      <td>18-06</td>\n",
       "      <td>24</td>\n",
       "      <td>10</td>\n",
       "    </tr>\n",
       "    <tr>\n",
       "      <th>4</th>\n",
       "      <td>18-06</td>\n",
       "      <td>25</td>\n",
       "      <td>3</td>\n",
       "    </tr>\n",
       "  </tbody>\n",
       "</table>\n",
       "</div>"
      ],
      "text/plain": [
       "  month_year  day  count\n",
       "0      18-06   21     34\n",
       "1      18-06   22      3\n",
       "2      18-06   23     11\n",
       "3      18-06   24     10\n",
       "4      18-06   25      3"
      ]
     },
     "execution_count": 93,
     "metadata": {},
     "output_type": "execute_result"
    }
   ],
   "source": [
    "summary = df_modi_tweets.groupby(['month_year','day']).size().reset_index()\n",
    "summary = summary.rename(columns={0:'count'})\n",
    "summary.head()"
   ]
  },
  {
   "cell_type": "code",
   "execution_count": 98,
   "metadata": {},
   "outputs": [
    {
     "data": {
      "text/plain": [
       "<matplotlib.axes._subplots.AxesSubplot at 0x234f5e320f0>"
      ]
     },
     "execution_count": 98,
     "metadata": {},
     "output_type": "execute_result"
    },
    {
     "data": {
      "image/png": "[encoded data removed]",
      "text/plain": [
       "<Figure size 1080x360 with 2 Axes>"
      ]
     },
     "metadata": {
      "needs_background": "light"
     },
     "output_type": "display_data"
    }
   ],
   "source": [
    "import seaborn as sns\n",
    "sns.heatmap(summary.pivot('month_year','day','count'),cmap='Blues')"
   ]
  },
  {
   "cell_type": "code",
   "execution_count": 97,
   "metadata": {},
   "outputs": [],
   "source": [
    "from matplotlib import pyplot as plt\n",
    "plt.rcParams['figure.figsize'] = [15,5]\n"
   ]
  },
  {
   "cell_type": "code",
   "execution_count": 101,
   "metadata": {},
   "outputs": [
    {
     "data": {
      "text/plain": [
       "<matplotlib.axes._subplots.AxesSubplot at 0x234f5e85358>"
      ]
     },
     "execution_count": 101,
     "metadata": {},
     "output_type": "execute_result"
    },
    {
     "data": {
      "image/png": "[encoded data removed]",
      "text/plain": [
       "<Figure size 1080x360 with 2 Axes>"
      ]
     },
     "metadata": {
      "needs_background": "light"
     },
     "output_type": "display_data"
    }
   ],
   "source": [
    "summary = df_modi_tweets.groupby(['month_year','day'])['likes'].mean().reset_index()\n",
    "summary = summary.rename(columns={0:'count'})\n",
    "sns.heatmap(summary.pivot('month_year','day','likes'),cmap='Blues')"
   ]
  },
  {
   "cell_type": "code",
   "execution_count": 103,
   "metadata": {},
   "outputs": [
    {
     "data": {
      "text/plain": [
       "<matplotlib.axes._subplots.AxesSubplot at 0x234f6157ef0>"
      ]
     },
     "execution_count": 103,
     "metadata": {},
     "output_type": "execute_result"
    },
    {
     "data": {
      "image/png": "[encoded data removed]",
      "text/plain": [
       "<Figure size 1080x360 with 2 Axes>"
      ]
     },
     "metadata": {
      "needs_background": "light"
     },
     "output_type": "display_data"
    }
   ],
   "source": [
    "summary = df_modi_tweets.groupby(['month_year','day'])['retweets'].mean().reset_index()\n",
    "summary = summary.rename(columns={0:'count'})\n",
    "sns.heatmap(summary.pivot('month_year','day','retweets'),cmap='Blues')"
   ]
  }
 ],
 "metadata": {
  "kernelspec": {
   "display_name": "Python 3",
   "language": "python",
   "name": "python3"
  },
  "language_info": {
   "codemirror_mode": {
    "name": "ipython",
    "version": 3
   },
   "file_extension": ".py",
   "mimetype": "text/x-python",
   "name": "python",
   "nbconvert_exporter": "python",
   "pygments_lexer": "ipython3",
   "version": "3.7.1"
  }
 },
 "nbformat": 4,
 "nbformat_minor": 2
}
