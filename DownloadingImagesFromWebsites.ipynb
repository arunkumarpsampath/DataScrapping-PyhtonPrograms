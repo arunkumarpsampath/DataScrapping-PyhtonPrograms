{
 "cells": [
  {
   "cell_type": "code",
   "execution_count": 3,
   "metadata": {},
   "outputs": [
    {
     "data": {
      "text/plain": [
       "'D:\\\\Manipal Pro learn\\\\Term1\\\\DataScrapping\\\\Programming'"
      ]
     },
     "execution_count": 3,
     "metadata": {},
     "output_type": "execute_result"
    }
   ],
   "source": [
    "from selenium import webdriver\n",
    "import pandas as pd,numpy as np\n",
    "import os\n",
    "os.getcwd()"
   ]
  },
  {
   "cell_type": "code",
   "execution_count": 2,
   "metadata": {},
   "outputs": [],
   "source": [
    "browser = webdriver.Chrome('chromedriver.exe')"
   ]
  },
  {
   "cell_type": "code",
   "execution_count": 5,
   "metadata": {},
   "outputs": [],
   "source": [
    "browser.get('https://www.imdb.com/india/top-rated-indian-movies/?pf_rd_m=A2FGELUUNOQJNL&pf_rd_p=f299869f-a183-4a64-a887-6491356429b6&pf_rd_r=8ZE4EKVP4GG7RTN02D5T&pf_rd_s=right-4&pf_rd_t=15061&pf_rd_i=homepage&ref_=hm_india_tr_rhs_1')"
   ]
  },
  {
   "cell_type": "code",
   "execution_count": 7,
   "metadata": {},
   "outputs": [
    {
     "data": {
      "text/plain": [
       "250"
      ]
     },
     "execution_count": 7,
     "metadata": {},
     "output_type": "execute_result"
    }
   ],
   "source": [
    "table_tag = browser.find_element_by_css_selector('table.chart.full-width[data-caller-name=\"imdb-featured-india\"]')\n",
    "listtag = table_tag.find_elements_by_css_selector('tbody.lister-list > tr')\n",
    "len(listtag)"
   ]
  },
  {
   "cell_type": "code",
   "execution_count": 10,
   "metadata": {},
   "outputs": [
    {
     "data": {
      "text/html": [
       "<div>\n",
       "<style scoped>\n",
       "    .dataframe tbody tr th:only-of-type {\n",
       "        vertical-align: middle;\n",
       "    }\n",
       "\n",
       "    .dataframe tbody tr th {\n",
       "        vertical-align: top;\n",
       "    }\n",
       "\n",
       "    .dataframe thead th {\n",
       "        text-align: right;\n",
       "    }\n",
       "</style>\n",
       "<table border=\"1\" class=\"dataframe\">\n",
       "  <thead>\n",
       "    <tr style=\"text-align: right;\">\n",
       "      <th></th>\n",
       "      <th>poster URL</th>\n",
       "      <th>Rank &amp; Title</th>\n",
       "      <th>imdb rating</th>\n",
       "    </tr>\n",
       "  </thead>\n",
       "  <tbody>\n",
       "    <tr>\n",
       "      <th>0</th>\n",
       "      <td>https://m.media-amazon.com/images/M/MV5BNmZkMT...</td>\n",
       "      <td>1. Anand (1971)</td>\n",
       "      <td>8.7</td>\n",
       "    </tr>\n",
       "    <tr>\n",
       "      <th>1</th>\n",
       "      <td>https://m.media-amazon.com/images/M/MV5BYmY3Mz...</td>\n",
       "      <td>2. Drishyam (2013)</td>\n",
       "      <td>8.6</td>\n",
       "    </tr>\n",
       "    <tr>\n",
       "      <th>2</th>\n",
       "      <td>https://m.media-amazon.com/images/M/MV5BZmFiYj...</td>\n",
       "      <td>3. Nayakan (1987)</td>\n",
       "      <td>8.6</td>\n",
       "    </tr>\n",
       "    <tr>\n",
       "      <th>3</th>\n",
       "      <td>https://m.media-amazon.com/images/M/MV5BMjQwZW...</td>\n",
       "      <td>4. Anbe Sivam (2003)</td>\n",
       "      <td>8.5</td>\n",
       "    </tr>\n",
       "    <tr>\n",
       "      <th>4</th>\n",
       "      <td>https://m.media-amazon.com/images/M/MV5BMjA4OT...</td>\n",
       "      <td>5. Gol Maal (1979)</td>\n",
       "      <td>8.5</td>\n",
       "    </tr>\n",
       "  </tbody>\n",
       "</table>\n",
       "</div>"
      ],
      "text/plain": [
       "                                          poster URL          Rank & Title  \\\n",
       "0  https://m.media-amazon.com/images/M/MV5BNmZkMT...       1. Anand (1971)   \n",
       "1  https://m.media-amazon.com/images/M/MV5BYmY3Mz...    2. Drishyam (2013)   \n",
       "2  https://m.media-amazon.com/images/M/MV5BZmFiYj...     3. Nayakan (1987)   \n",
       "3  https://m.media-amazon.com/images/M/MV5BMjQwZW...  4. Anbe Sivam (2003)   \n",
       "4  https://m.media-amazon.com/images/M/MV5BMjA4OT...    5. Gol Maal (1979)   \n",
       "\n",
       "  imdb rating  \n",
       "0         8.7  \n",
       "1         8.6  \n",
       "2         8.6  \n",
       "3         8.5  \n",
       "4         8.5  "
      ]
     },
     "execution_count": 10,
     "metadata": {},
     "output_type": "execute_result"
    }
   ],
   "source": [
    "rank_and_title = []\n",
    "imdb_rating = []\n",
    "posterurl = []\n",
    "for tag in listtag[:5]:\n",
    "    posterurl.append(tag.find_element_by_css_selector('img').get_attribute('src'))\n",
    "    rank_and_title.append(tag.find_element_by_css_selector('td.titleColumn').text)\n",
    "    imdb_rating.append(tag.find_element_by_css_selector('td.ratingColumn').text)\n",
    "\n",
    "movie_rating = pd.DataFrame({\"poster URL\" : posterurl,\n",
    "                             'Rank & Title' : rank_and_title,\n",
    "                             'imdb rating' : imdb_rating})\n",
    "movie_rating.head()"
   ]
  },
  {
   "cell_type": "code",
   "execution_count": 13,
   "metadata": {},
   "outputs": [],
   "source": [
    "#to iterate through dataframe and save all images\n",
    "import os\n",
    "import glob\n",
    "import urllib\n",
    "\n",
    "folder_images = 'movies_images'\n",
    "\n",
    "if not folder_images in glob.glob('*'):\n",
    "    os.makedirs(folder_images)\n",
    "\n",
    "for index,row in movie_rating.iterrows():\n",
    "    img_url = row['poster URL']\n",
    "    movie_name = row['Rank & Title']\n",
    "    img_ext = img_url[img_url.rfind('.'):]\n",
    "\n",
    "    img_path = folder_images + '/' + movie_name + img_ext\n",
    "    urllib.request.urlretrieve(img_url,img_path)"
   ]
  },
  {
   "cell_type": "code",
   "execution_count": 21,
   "metadata": {},
   "outputs": [
    {
     "data": {
      "text/plain": [
       "['1. Anand (1971).jpg',\n",
       " '2. Drishyam (2013).jpg',\n",
       " '3. Nayakan (1987).jpg',\n",
       " '4. Anbe Sivam (2003).jpg',\n",
       " '5. Gol Maal (1979).jpg']"
      ]
     },
     "execution_count": 21,
     "metadata": {},
     "output_type": "execute_result"
    }
   ],
   "source": [
    "os.chdir('movies_images')\n",
    "glob.glob('*')"
   ]
  }
 ],
 "metadata": {
  "kernelspec": {
   "display_name": "Python 3",
   "language": "python",
   "name": "python3"
  },
  "language_info": {
   "codemirror_mode": {
    "name": "ipython",
    "version": 3
   },
   "file_extension": ".py",
   "mimetype": "text/x-python",
   "name": "python",
   "nbconvert_exporter": "python",
   "pygments_lexer": "ipython3",
   "version": "3.7.1"
  }
 },
 "nbformat": 4,
 "nbformat_minor": 2
}
