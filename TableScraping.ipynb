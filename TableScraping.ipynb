{
 "cells": [
  {
   "cell_type": "code",
   "execution_count": 1,
   "metadata": {},
   "outputs": [],
   "source": [
    "from selenium import webdriver\n",
    "browser = webdriver.Chrome('chromedriver.exe')"
   ]
  },
  {
   "cell_type": "code",
   "execution_count": 2,
   "metadata": {},
   "outputs": [],
   "source": [
    "import pandas as pd,numpy as np"
   ]
  },
  {
   "cell_type": "code",
   "execution_count": 3,
   "metadata": {},
   "outputs": [],
   "source": [
    "#IMDB TOP INDIAN MOVIES\n",
    "browser.get('https://www.imdb.com/india/top-rated-indian-movies/?pf_rd_m=A2FGELUUNOQJNL&pf_rd_p=f299869f-a183-4a64-a887-6491356429b6&pf_rd_r=8ZE4EKVP4GG7RTN02D5T&pf_rd_s=right-4&pf_rd_t=15061&pf_rd_i=homepage&ref_=hm_india_tr_rhs_1')"
   ]
  },
  {
   "cell_type": "code",
   "execution_count": 12,
   "metadata": {
    "scrolled": true
   },
   "outputs": [
    {
     "data": {
      "text/plain": [
       "2"
      ]
     },
     "execution_count": 12,
     "metadata": {},
     "output_type": "execute_result"
    }
   ],
   "source": [
    "#reading using pandas\n",
    "pd_table = pd.read_html('https://www.imdb.com/india/top-rated-indian-movies/?pf_rd_m=A2FGELUUNOQJNL&pf_rd_p=f299869f-a183-4a64-a887-6491356429b6&pf_rd_r=8ZE4EKVP4GG7RTN02D5T&pf_rd_s=right-4&pf_rd_t=15061&pf_rd_i=homepage&ref_=hm_india_tr_rhs_1')\n",
    "len(pd_table)"
   ]
  },
  {
   "cell_type": "code",
   "execution_count": 9,
   "metadata": {},
   "outputs": [
    {
     "data": {
      "text/html": [
       "<div>\n",
       "<style scoped>\n",
       "    .dataframe tbody tr th:only-of-type {\n",
       "        vertical-align: middle;\n",
       "    }\n",
       "\n",
       "    .dataframe tbody tr th {\n",
       "        vertical-align: top;\n",
       "    }\n",
       "\n",
       "    .dataframe thead th {\n",
       "        text-align: right;\n",
       "    }\n",
       "</style>\n",
       "<table border=\"1\" class=\"dataframe\">\n",
       "  <thead>\n",
       "    <tr style=\"text-align: right;\">\n",
       "      <th></th>\n",
       "      <th>Unnamed: 0</th>\n",
       "      <th>Rank &amp; Title</th>\n",
       "      <th>IMDb Rating</th>\n",
       "      <th>Your Rating</th>\n",
       "      <th>Unnamed: 4</th>\n",
       "    </tr>\n",
       "  </thead>\n",
       "  <tbody>\n",
       "    <tr>\n",
       "      <th>0</th>\n",
       "      <td>NaN</td>\n",
       "      <td>1.  Anand  (1971)</td>\n",
       "      <td>8.7</td>\n",
       "      <td>12345678910 NOT YET RELEASED  Seen</td>\n",
       "      <td>NaN</td>\n",
       "    </tr>\n",
       "    <tr>\n",
       "      <th>1</th>\n",
       "      <td>NaN</td>\n",
       "      <td>2.  Drishyam  (2013)</td>\n",
       "      <td>8.6</td>\n",
       "      <td>12345678910 NOT YET RELEASED  Seen</td>\n",
       "      <td>NaN</td>\n",
       "    </tr>\n",
       "    <tr>\n",
       "      <th>2</th>\n",
       "      <td>NaN</td>\n",
       "      <td>3.  Nayakan  (1987)</td>\n",
       "      <td>8.6</td>\n",
       "      <td>12345678910 NOT YET RELEASED  Seen</td>\n",
       "      <td>NaN</td>\n",
       "    </tr>\n",
       "    <tr>\n",
       "      <th>3</th>\n",
       "      <td>NaN</td>\n",
       "      <td>4.  Anbe Sivam  (2003)</td>\n",
       "      <td>8.5</td>\n",
       "      <td>12345678910 NOT YET RELEASED  Seen</td>\n",
       "      <td>NaN</td>\n",
       "    </tr>\n",
       "    <tr>\n",
       "      <th>4</th>\n",
       "      <td>NaN</td>\n",
       "      <td>5.  Gol Maal  (1979)</td>\n",
       "      <td>8.5</td>\n",
       "      <td>12345678910 NOT YET RELEASED  Seen</td>\n",
       "      <td>NaN</td>\n",
       "    </tr>\n",
       "  </tbody>\n",
       "</table>\n",
       "</div>"
      ],
      "text/plain": [
       "   Unnamed: 0            Rank & Title  IMDb Rating  \\\n",
       "0         NaN       1.  Anand  (1971)          8.7   \n",
       "1         NaN    2.  Drishyam  (2013)          8.6   \n",
       "2         NaN     3.  Nayakan  (1987)          8.6   \n",
       "3         NaN  4.  Anbe Sivam  (2003)          8.5   \n",
       "4         NaN    5.  Gol Maal  (1979)          8.5   \n",
       "\n",
       "                          Your Rating  Unnamed: 4  \n",
       "0  12345678910 NOT YET RELEASED  Seen         NaN  \n",
       "1  12345678910 NOT YET RELEASED  Seen         NaN  \n",
       "2  12345678910 NOT YET RELEASED  Seen         NaN  \n",
       "3  12345678910 NOT YET RELEASED  Seen         NaN  \n",
       "4  12345678910 NOT YET RELEASED  Seen         NaN  "
      ]
     },
     "execution_count": 9,
     "metadata": {},
     "output_type": "execute_result"
    }
   ],
   "source": [
    "pd_table[0].head()"
   ]
  },
  {
   "cell_type": "code",
   "execution_count": 10,
   "metadata": {},
   "outputs": [
    {
     "data": {
      "text/html": [
       "<div>\n",
       "<style scoped>\n",
       "    .dataframe tbody tr th:only-of-type {\n",
       "        vertical-align: middle;\n",
       "    }\n",
       "\n",
       "    .dataframe tbody tr th {\n",
       "        vertical-align: top;\n",
       "    }\n",
       "\n",
       "    .dataframe thead th {\n",
       "        text-align: right;\n",
       "    }\n",
       "</style>\n",
       "<table border=\"1\" class=\"dataframe\">\n",
       "  <thead>\n",
       "    <tr style=\"text-align: right;\">\n",
       "      <th></th>\n",
       "      <th>0</th>\n",
       "      <th>1</th>\n",
       "      <th>2</th>\n",
       "      <th>3</th>\n",
       "      <th>4</th>\n",
       "      <th>5</th>\n",
       "      <th>6</th>\n",
       "      <th>7</th>\n",
       "    </tr>\n",
       "  </thead>\n",
       "  <tbody>\n",
       "    <tr>\n",
       "      <th>0</th>\n",
       "      <td>Amazon Affiliates</td>\n",
       "      <td>NaN</td>\n",
       "      <td>NaN</td>\n",
       "      <td>NaN</td>\n",
       "      <td>NaN</td>\n",
       "      <td>NaN</td>\n",
       "      <td>NaN</td>\n",
       "      <td>NaN</td>\n",
       "    </tr>\n",
       "    <tr>\n",
       "      <th>1</th>\n",
       "      <td>Prime Video  Unlimited Streamingof Movies &amp; TV</td>\n",
       "      <td>Amazon UK  Buy Movies onDVD &amp; Blu-ray</td>\n",
       "      <td>Amazon Germany  Buy Movies onDVD &amp; Blu-ray</td>\n",
       "      <td>Amazon Italy  Buy Movies onDVD &amp; Blu-ray</td>\n",
       "      <td>Amazon France  Buy Movies onDVD &amp; Blu-ray</td>\n",
       "      <td>Amazon India  Buy Movie andTV Show DVDs</td>\n",
       "      <td>DPReview  DigitalPhotography</td>\n",
       "      <td>Audible  DownloadAudio Books</td>\n",
       "    </tr>\n",
       "  </tbody>\n",
       "</table>\n",
       "</div>"
      ],
      "text/plain": [
       "                                                0  \\\n",
       "0                               Amazon Affiliates   \n",
       "1  Prime Video  Unlimited Streamingof Movies & TV   \n",
       "\n",
       "                                       1  \\\n",
       "0                                    NaN   \n",
       "1  Amazon UK  Buy Movies onDVD & Blu-ray   \n",
       "\n",
       "                                            2  \\\n",
       "0                                         NaN   \n",
       "1  Amazon Germany  Buy Movies onDVD & Blu-ray   \n",
       "\n",
       "                                          3  \\\n",
       "0                                       NaN   \n",
       "1  Amazon Italy  Buy Movies onDVD & Blu-ray   \n",
       "\n",
       "                                           4  \\\n",
       "0                                        NaN   \n",
       "1  Amazon France  Buy Movies onDVD & Blu-ray   \n",
       "\n",
       "                                         5                             6  \\\n",
       "0                                      NaN                           NaN   \n",
       "1  Amazon India  Buy Movie andTV Show DVDs  DPReview  DigitalPhotography   \n",
       "\n",
       "                              7  \n",
       "0                           NaN  \n",
       "1  Audible  DownloadAudio Books  "
      ]
     },
     "execution_count": 10,
     "metadata": {},
     "output_type": "execute_result"
    }
   ],
   "source": [
    "pd_table[1].head()"
   ]
  },
  {
   "cell_type": "code",
   "execution_count": 13,
   "metadata": {},
   "outputs": [],
   "source": [
    "#alternate type of reading tables\n",
    "browser.get('https://www.imdb.com/india/top-rated-indian-movies/?pf_rd_m=A2FGELUUNOQJNL&pf_rd_p=f299869f-a183-4a64-a887-6491356429b6&pf_rd_r=8ZE4EKVP4GG7RTN02D5T&pf_rd_s=right-4&pf_rd_t=15061&pf_rd_i=homepage&ref_=hm_india_tr_rhs_1')"
   ]
  },
  {
   "cell_type": "code",
   "execution_count": 15,
   "metadata": {},
   "outputs": [
    {
     "data": {
      "text/plain": [
       "<selenium.webdriver.remote.webelement.WebElement (session=\"dd4c74f34721334d33b47479f0171286\", element=\"0.44131324801406024-1\")>"
      ]
     },
     "execution_count": 15,
     "metadata": {},
     "output_type": "execute_result"
    }
   ],
   "source": [
    "table_tag = browser.find_element_by_css_selector('table.chart.full-width[data-caller-name=\"imdb-featured-india\"]')\n",
    "table_tag"
   ]
  },
  {
   "cell_type": "code",
   "execution_count": 21,
   "metadata": {},
   "outputs": [
    {
     "data": {
      "text/plain": [
       "5"
      ]
     },
     "execution_count": 21,
     "metadata": {},
     "output_type": "execute_result"
    }
   ],
   "source": [
    "thead = table_tag.find_element_by_css_selector('thead')\n",
    "trtag = thead.find_element_by_css_selector('tr')\n",
    "thtags = trtag.find_elements_by_css_selector('th')\n",
    "len(thtags)"
   ]
  },
  {
   "cell_type": "code",
   "execution_count": 23,
   "metadata": {},
   "outputs": [
    {
     "data": {
      "text/plain": [
       "5"
      ]
     },
     "execution_count": 23,
     "metadata": {},
     "output_type": "execute_result"
    }
   ],
   "source": [
    "#alternate to above\n",
    "thtags = table_tag.find_elements_by_css_selector('thead > tr > th')\n",
    "len(thtags)"
   ]
  },
  {
   "cell_type": "code",
   "execution_count": 18,
   "metadata": {},
   "outputs": [
    {
     "data": {
      "text/plain": [
       "['', 'Rank & Title', 'IMDb Rating', 'Your Rating', '']"
      ]
     },
     "execution_count": 18,
     "metadata": {},
     "output_type": "execute_result"
    }
   ],
   "source": [
    "col_names = [tag.text for tag in thtags]\n",
    "col_names"
   ]
  },
  {
   "cell_type": "code",
   "execution_count": 29,
   "metadata": {},
   "outputs": [
    {
     "data": {
      "text/plain": [
       "250"
      ]
     },
     "execution_count": 29,
     "metadata": {},
     "output_type": "execute_result"
    }
   ],
   "source": [
    "listtag = table_tag.find_elements_by_css_selector('tbody.lister-list > tr')\n",
    "len(listtag)"
   ]
  },
  {
   "cell_type": "code",
   "execution_count": 78,
   "metadata": {},
   "outputs": [
    {
     "data": {
      "text/html": [
       "<div>\n",
       "<style scoped>\n",
       "    .dataframe tbody tr th:only-of-type {\n",
       "        vertical-align: middle;\n",
       "    }\n",
       "\n",
       "    .dataframe tbody tr th {\n",
       "        vertical-align: top;\n",
       "    }\n",
       "\n",
       "    .dataframe thead th {\n",
       "        text-align: right;\n",
       "    }\n",
       "</style>\n",
       "<table border=\"1\" class=\"dataframe\">\n",
       "  <thead>\n",
       "    <tr style=\"text-align: right;\">\n",
       "      <th></th>\n",
       "      <th>poster URL</th>\n",
       "      <th>Rank &amp; Title</th>\n",
       "      <th>IMDb Rating</th>\n",
       "    </tr>\n",
       "  </thead>\n",
       "  <tbody>\n",
       "    <tr>\n",
       "      <th>0</th>\n",
       "      <td>https://m.media-amazon.com/images/M/MV5BNmZkMT...</td>\n",
       "      <td>1. Anand (1971)</td>\n",
       "      <td>8.7</td>\n",
       "    </tr>\n",
       "    <tr>\n",
       "      <th>1</th>\n",
       "      <td>https://m.media-amazon.com/images/M/MV5BYmY3Mz...</td>\n",
       "      <td>2. Drishyam (2013)</td>\n",
       "      <td>8.6</td>\n",
       "    </tr>\n",
       "    <tr>\n",
       "      <th>2</th>\n",
       "      <td>https://m.media-amazon.com/images/M/MV5BZDhkMT...</td>\n",
       "      <td>3. Nayakan (1987)</td>\n",
       "      <td>8.6</td>\n",
       "    </tr>\n",
       "    <tr>\n",
       "      <th>3</th>\n",
       "      <td>https://m.media-amazon.com/images/M/MV5BNWQxY2...</td>\n",
       "      <td>4. Anbe Sivam (2003)</td>\n",
       "      <td>8.5</td>\n",
       "    </tr>\n",
       "    <tr>\n",
       "      <th>4</th>\n",
       "      <td>https://m.media-amazon.com/images/M/MV5BMjA4OT...</td>\n",
       "      <td>5. Gol Maal (1979)</td>\n",
       "      <td>8.5</td>\n",
       "    </tr>\n",
       "  </tbody>\n",
       "</table>\n",
       "</div>"
      ],
      "text/plain": [
       "                                          poster URL          Rank & Title  \\\n",
       "0  https://m.media-amazon.com/images/M/MV5BNmZkMT...       1. Anand (1971)   \n",
       "1  https://m.media-amazon.com/images/M/MV5BYmY3Mz...    2. Drishyam (2013)   \n",
       "2  https://m.media-amazon.com/images/M/MV5BZDhkMT...     3. Nayakan (1987)   \n",
       "3  https://m.media-amazon.com/images/M/MV5BNWQxY2...  4. Anbe Sivam (2003)   \n",
       "4  https://m.media-amazon.com/images/M/MV5BMjA4OT...    5. Gol Maal (1979)   \n",
       "\n",
       "  IMDb Rating  \n",
       "0         8.7  \n",
       "1         8.6  \n",
       "2         8.6  \n",
       "3         8.5  \n",
       "4         8.5  "
      ]
     },
     "execution_count": 78,
     "metadata": {},
     "output_type": "execute_result"
    }
   ],
   "source": [
    "rank_and_title = []\n",
    "imdb_rating = []\n",
    "posterurl = []\n",
    "for tag in listtag:\n",
    "    posterurl.append(tag.find_element_by_css_selector('img').get_attribute('src'))\n",
    "    rank_and_title.append(tag.find_element_by_css_selector('td.titleColumn').text)\n",
    "    imdb_rating.append(tag.find_element_by_css_selector('td.ratingColumn').text)\n",
    "\n",
    "movie_rating = pd.DataFrame({\"poster URL\" : posterurl,\n",
    "                             col_names[1] : rank_and_title,\n",
    "                             col_names[2] : imdb_rating})\n",
    "movie_rating.head()"
   ]
  },
  {
   "cell_type": "code",
   "execution_count": 79,
   "metadata": {},
   "outputs": [
    {
     "data": {
      "text/html": [
       "<div>\n",
       "<style scoped>\n",
       "    .dataframe tbody tr th:only-of-type {\n",
       "        vertical-align: middle;\n",
       "    }\n",
       "\n",
       "    .dataframe tbody tr th {\n",
       "        vertical-align: top;\n",
       "    }\n",
       "\n",
       "    .dataframe thead th {\n",
       "        text-align: right;\n",
       "    }\n",
       "</style>\n",
       "<table border=\"1\" class=\"dataframe\">\n",
       "  <thead>\n",
       "    <tr style=\"text-align: right;\">\n",
       "      <th></th>\n",
       "      <th>poster URL</th>\n",
       "      <th>Rank &amp; Title</th>\n",
       "      <th>IMDb Rating</th>\n",
       "    </tr>\n",
       "  </thead>\n",
       "  <tbody>\n",
       "    <tr>\n",
       "      <th>0</th>\n",
       "      <td>https://m.media-amazon.com/images/M/MV5BNmZkMT...</td>\n",
       "      <td>Anand</td>\n",
       "      <td>8.7</td>\n",
       "    </tr>\n",
       "    <tr>\n",
       "      <th>1</th>\n",
       "      <td>https://m.media-amazon.com/images/M/MV5BYmY3Mz...</td>\n",
       "      <td>Drishyam</td>\n",
       "      <td>8.6</td>\n",
       "    </tr>\n",
       "    <tr>\n",
       "      <th>2</th>\n",
       "      <td>https://m.media-amazon.com/images/M/MV5BZDhkMT...</td>\n",
       "      <td>Nayakan</td>\n",
       "      <td>8.6</td>\n",
       "    </tr>\n",
       "    <tr>\n",
       "      <th>3</th>\n",
       "      <td>https://m.media-amazon.com/images/M/MV5BNWQxY2...</td>\n",
       "      <td>Anbe Sivam</td>\n",
       "      <td>8.5</td>\n",
       "    </tr>\n",
       "    <tr>\n",
       "      <th>4</th>\n",
       "      <td>https://m.media-amazon.com/images/M/MV5BMjA4OT...</td>\n",
       "      <td>Gol Maal</td>\n",
       "      <td>8.5</td>\n",
       "    </tr>\n",
       "  </tbody>\n",
       "</table>\n",
       "</div>"
      ],
      "text/plain": [
       "                                          poster URL Rank & Title IMDb Rating\n",
       "0  https://m.media-amazon.com/images/M/MV5BNmZkMT...        Anand         8.7\n",
       "1  https://m.media-amazon.com/images/M/MV5BYmY3Mz...     Drishyam         8.6\n",
       "2  https://m.media-amazon.com/images/M/MV5BZDhkMT...      Nayakan         8.6\n",
       "3  https://m.media-amazon.com/images/M/MV5BNWQxY2...   Anbe Sivam         8.5\n",
       "4  https://m.media-amazon.com/images/M/MV5BMjA4OT...     Gol Maal         8.5"
      ]
     },
     "execution_count": 79,
     "metadata": {},
     "output_type": "execute_result"
    }
   ],
   "source": [
    "import re\n",
    "count =0 \n",
    "\n",
    "for i in movie_rating['Rank & Title']:\n",
    "    movie_rating['Rank & Title'][count] = re.findall(\" (.*) $\",i.split('(')[0])[0]\n",
    "    count = count +1\n",
    "movie_rating.head()\n",
    "        "
   ]
  },
  {
   "cell_type": "code",
   "execution_count": 96,
   "metadata": {},
   "outputs": [],
   "source": [
    "#writing to csv files\n",
    "movie_rating.to_csv(\"imdb_top25_indian_movies.csv\",index=False)"
   ]
  }
 ],
 "metadata": {
  "kernelspec": {
   "display_name": "Python 3",
   "language": "python",
   "name": "python3"
  },
  "language_info": {
   "codemirror_mode": {
    "name": "ipython",
    "version": 3
   },
   "file_extension": ".py",
   "mimetype": "text/x-python",
   "name": "python",
   "nbconvert_exporter": "python",
   "pygments_lexer": "ipython3",
   "version": "3.7.1"
  }
 },
 "nbformat": 4,
 "nbformat_minor": 2
}
